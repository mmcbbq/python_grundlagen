{
 "cells": [
  {
   "cell_type": "code",
   "execution_count": 1,
   "id": "initial_id",
   "metadata": {
    "collapsed": true,
    "ExecuteTime": {
     "end_time": "2023-10-06T08:53:25.254403200Z",
     "start_time": "2023-10-06T08:53:25.248047200Z"
    }
   },
   "outputs": [],
   "source": [
    "students = ['Hans', 'Yannic', 'Guiseppe', 'Paula', 'Siam', 'Markus', 'Altin', 'Erkan']"
   ]
  },
  {
   "cell_type": "code",
   "execution_count": 2,
   "outputs": [
    {
     "data": {
      "text/plain": "4"
     },
     "execution_count": 2,
     "metadata": {},
     "output_type": "execute_result"
    }
   ],
   "source": [
    "len('Hans')"
   ],
   "metadata": {
    "collapsed": false,
    "ExecuteTime": {
     "end_time": "2023-10-06T08:54:05.859993200Z",
     "start_time": "2023-10-06T08:54:05.824396700Z"
    }
   },
   "id": "70741f6b369d97fc"
  },
  {
   "cell_type": "code",
   "execution_count": 4,
   "outputs": [
    {
     "data": {
      "text/plain": "False"
     },
     "execution_count": 4,
     "metadata": {},
     "output_type": "execute_result"
    }
   ],
   "source": [
    "len(students[0]) >= 5"
   ],
   "metadata": {
    "collapsed": false,
    "ExecuteTime": {
     "end_time": "2023-10-06T08:55:03.841162300Z",
     "start_time": "2023-10-06T08:55:03.829198400Z"
    }
   },
   "id": "f71462a1c35371cf"
  },
  {
   "cell_type": "code",
   "execution_count": 5,
   "outputs": [
    {
     "name": "stdout",
     "output_type": "stream",
     "text": [
      "False\n",
      "True\n",
      "True\n",
      "True\n",
      "False\n",
      "True\n",
      "True\n",
      "True\n"
     ]
    }
   ],
   "source": [
    "for x in students :\n",
    "    print(len(x) >= 5)\n",
    "    "
   ],
   "metadata": {
    "collapsed": false,
    "ExecuteTime": {
     "end_time": "2023-10-06T09:00:25.513198400Z",
     "start_time": "2023-10-06T09:00:25.505189400Z"
    }
   },
   "id": "6d68ffd1e8095dbd"
  },
  {
   "cell_type": "code",
   "execution_count": 40,
   "outputs": [
    {
     "name": "stdout",
     "output_type": "stream",
     "text": [
      "Der name des Schuelers ist Hans und er hat 4 Buchstaben und er hat den 0 \n",
      "Der name des Schuelers ist Yannic und er hat 6 Buchstaben und er hat den 1 \n",
      "Der name des Schuelers ist Paula und er hat 5 Buchstaben und er hat den 3 \n",
      "Der name des Schuelers ist Siam und er hat 4 Buchstaben und er hat den 4 \n",
      "Der name des Schuelers ist Markus und er hat 6 Buchstaben und er hat den 5 \n",
      "Der name des Schuelers ist Altin und er hat 5 Buchstaben und er hat den 6 \n",
      "Der name des Schuelers ist Erkan und er hat 5 Buchstaben und er hat den 7 \n"
     ]
    }
   ],
   "source": [
    " a = input('?').upper()\n",
    "\n",
    "for  index ,student in enumerate(students) : \n",
    "    if  a in student.upper():\n",
    "        print(f'Der name des Schuelers ist {student} und er hat {len(student)} Buchstaben und er hat den {index} ')\n",
    "    "
   ],
   "metadata": {
    "collapsed": false,
    "ExecuteTime": {
     "end_time": "2023-10-06T09:55:27.998951500Z",
     "start_time": "2023-10-06T09:55:26.908145700Z"
    }
   },
   "id": "98fd7edb2a34b4c1"
  },
  {
   "cell_type": "code",
   "execution_count": null,
   "outputs": [],
   "source": [],
   "metadata": {
    "collapsed": false
   },
   "id": "91050a13fb62c3fb"
  },
  {
   "cell_type": "code",
   "execution_count": 34,
   "outputs": [
    {
     "name": "stdout",
     "output_type": "stream",
     "text": [
      "<enumerate object at 0x000001DC449C8130>\n"
     ]
    }
   ],
   "source": [],
   "metadata": {
    "collapsed": false,
    "ExecuteTime": {
     "end_time": "2023-10-06T09:50:30.594999200Z",
     "start_time": "2023-10-06T09:50:30.582243300Z"
    }
   },
   "id": "3bc6157f731171de"
  },
  {
   "cell_type": "code",
   "execution_count": 44,
   "outputs": [
    {
     "name": "stdout",
     "output_type": "stream",
     "text": [
      "Der Hans hat die note 2\n",
      "Der Yannic hat die note 5\n",
      "Der Guiseppe hat die note 6\n",
      "Der Paula hat die note 4\n",
      "Der Siam hat die note 2\n",
      "Der Markus hat die note 3\n",
      "Der Altin hat die note 1\n",
      "Der Erkan hat die note 2\n"
     ]
    }
   ],
   "source": [
    "students = ['Hans', 'Yannic', 'Guiseppe', 'Paula', 'Siam', 'Markus', 'Altin', 'Erkan']\n",
    "n = [2,5,6,4,2,3,1,2]\n",
    "for  index ,student in enumerate(students) : \n",
    "        print(f'Der {student} hat die note {n[index]}')\n"
   ],
   "metadata": {
    "collapsed": false,
    "ExecuteTime": {
     "end_time": "2023-10-06T10:05:34.731481800Z",
     "start_time": "2023-10-06T10:05:34.690153900Z"
    }
   },
   "id": "303485b401af1727"
  },
  {
   "cell_type": "code",
   "execution_count": 52,
   "outputs": [
    {
     "name": "stdout",
     "output_type": "stream",
     "text": [
      "Hans\n",
      "\tYannic\n",
      "\t\tGuiseppe\n",
      "\t\t\tPaula\n",
      "\t\t\t\tSiam\n",
      "\t\t\t\t\tMarkus\n",
      "\t\t\t\t\t\tAltin\n",
      "\t\t\t\t\t\t\tErkan\n"
     ]
    }
   ],
   "source": [
    "n = 0\n",
    "for student in students:\n",
    "    tab = '\\t'*n\n",
    "    n+=1\n",
    "    print(f'{tab}{student}')"
   ],
   "metadata": {
    "collapsed": false,
    "ExecuteTime": {
     "end_time": "2023-10-06T10:23:39.876372900Z",
     "start_time": "2023-10-06T10:23:39.861194400Z"
    }
   },
   "id": "4010bbbe251a44ea"
  },
  {
   "cell_type": "code",
   "execution_count": 56,
   "outputs": [
    {
     "name": "stdout",
     "output_type": "stream",
     "text": [
      "\t\t\t\t\t\t\t skdjgslsdj\n"
     ]
    }
   ],
   "source": [
    "tab = '\\t'*7\n",
    "print(tab, 'skdjgslsdj')"
   ],
   "metadata": {
    "collapsed": false,
    "ExecuteTime": {
     "end_time": "2023-10-06T10:31:38.796427800Z",
     "start_time": "2023-10-06T10:31:38.785637700Z"
    }
   },
   "id": "fb572ef905c74b4b"
  },
  {
   "cell_type": "code",
   "execution_count": 57,
   "outputs": [
    {
     "name": "stdout",
     "output_type": "stream",
     "text": [
      "\t\t\t\t\t\t\t\tHans\n",
      "\t\t\t\t\t\t\tYannic\n",
      "\t\t\t\t\t\tGuiseppe\n",
      "\t\t\t\t\tPaula\n",
      "\t\t\t\tSiam\n",
      "\t\t\tMarkus\n",
      "\t\tAltin\n",
      "\tErkan\n"
     ]
    }
   ],
   "source": [
    "n = len(students)\n",
    "for student in students:\n",
    "    tab = '\\t'*n\n",
    "    n-=1\n",
    "    print(f'{tab}{student}')"
   ],
   "metadata": {
    "collapsed": false,
    "ExecuteTime": {
     "end_time": "2023-10-06T10:33:37.261767800Z",
     "start_time": "2023-10-06T10:33:37.226528200Z"
    }
   },
   "id": "61d8dd0ce5728d6f"
  },
  {
   "cell_type": "code",
   "execution_count": 61,
   "outputs": [
    {
     "name": "stdout",
     "output_type": "stream",
     "text": [
      " Hans\n",
      "\t Yannic\n",
      "\t\t Guiseppe\n",
      "\t\t\t Paula\n",
      "\t\t\t\t Siam\n",
      "\t\t\t\t\t Markus\n",
      "\t\t\t\t\t\t Altin\n",
      "\t\t\t\t\t\t\t Erkan\n"
     ]
    }
   ],
   "source": [
    "n=0\n",
    "for student in students:\n",
    "    tab = '\\t'*n\n",
    "    n+=1\n",
    "    print(tab,student)"
   ],
   "metadata": {
    "collapsed": false,
    "ExecuteTime": {
     "end_time": "2023-10-06T10:46:24.252278500Z",
     "start_time": "2023-10-06T10:46:24.241540800Z"
    }
   },
   "id": "4f620c51b659be75"
  },
  {
   "cell_type": "code",
   "execution_count": 64,
   "outputs": [
    {
     "name": "stdout",
     "output_type": "stream",
     "text": [
      "\t\t\t\t\t\t\t Hans\n",
      "\t\t\t\t\t\t Yannic\n",
      "\t\t\t\t\t Guiseppe\n",
      "\t\t\t\t Paula\n",
      "\t\t\t Siam\n",
      "\t\t Markus\n",
      "\t Altin\n",
      " Erkan\n"
     ]
    }
   ],
   "source": [
    "students = ['Hans', 'Yannic', 'Guiseppe', 'Paula', 'Siam', 'Markus', 'Altin', 'Erkan']\n",
    "n=len(students)-1\n",
    "for student in students:\n",
    "    tab = '\\t'*n\n",
    "    n-=1\n",
    "    print(tab,student)"
   ],
   "metadata": {
    "collapsed": false,
    "ExecuteTime": {
     "end_time": "2023-10-06T10:50:10.241622400Z",
     "start_time": "2023-10-06T10:50:10.217671700Z"
    }
   },
   "id": "2a4d469b8e11f653"
  },
  {
   "cell_type": "code",
   "execution_count": 65,
   "outputs": [],
   "source": [
    "string = 'Hans'"
   ],
   "metadata": {
    "collapsed": false,
    "ExecuteTime": {
     "end_time": "2023-10-06T10:51:41.936542300Z",
     "start_time": "2023-10-06T10:51:41.911673900Z"
    }
   },
   "id": "52278617c7c48a0b"
  },
  {
   "cell_type": "code",
   "execution_count": 67,
   "outputs": [
    {
     "ename": "AttributeError",
     "evalue": "'str' object has no attribute 'remove'",
     "output_type": "error",
     "traceback": [
      "\u001B[1;31m---------------------------------------------------------------------------\u001B[0m",
      "\u001B[1;31mAttributeError\u001B[0m                            Traceback (most recent call last)",
      "Cell \u001B[1;32mIn[67], line 2\u001B[0m\n\u001B[0;32m      1\u001B[0m string[\u001B[38;5;241m1\u001B[39m]\n\u001B[1;32m----> 2\u001B[0m \u001B[43mstring\u001B[49m\u001B[38;5;241;43m.\u001B[39;49m\u001B[43mremove\u001B[49m(\u001B[38;5;124m'\u001B[39m\u001B[38;5;124ma\u001B[39m\u001B[38;5;124m'\u001B[39m)\n",
      "\u001B[1;31mAttributeError\u001B[0m: 'str' object has no attribute 'remove'"
     ]
    }
   ],
   "source": [],
   "metadata": {
    "collapsed": false,
    "ExecuteTime": {
     "end_time": "2023-10-06T10:54:19.856805900Z",
     "start_time": "2023-10-06T10:54:19.806838200Z"
    }
   },
   "id": "2665e8e6ba5cee72"
  },
  {
   "cell_type": "code",
   "execution_count": 69,
   "outputs": [
    {
     "name": "stdout",
     "output_type": "stream",
     "text": [
      "gefundend\n",
      "Hans\n",
      "gefundend\n",
      "Yannic\n",
      "Guiseppe\n",
      "gefundend\n",
      "gefundend\n",
      "Paula\n",
      "gefundend\n",
      "Siam\n",
      "gefundend\n",
      "Markus\n",
      "Altin\n",
      "gefundend\n",
      "Erkan\n"
     ]
    }
   ],
   "source": [],
   "metadata": {
    "collapsed": false,
    "ExecuteTime": {
     "end_time": "2023-10-06T11:00:49.844520300Z",
     "start_time": "2023-10-06T11:00:49.830591400Z"
    }
   },
   "id": "ee3d112840d524ed"
  },
  {
   "cell_type": "code",
   "execution_count": null,
   "outputs": [],
   "source": [],
   "metadata": {
    "collapsed": false
   },
   "id": "2073ee9e461c0b3c"
  }
 ],
 "metadata": {
  "kernelspec": {
   "display_name": "Python 3",
   "language": "python",
   "name": "python3"
  },
  "language_info": {
   "codemirror_mode": {
    "name": "ipython",
    "version": 2
   },
   "file_extension": ".py",
   "mimetype": "text/x-python",
   "name": "python",
   "nbconvert_exporter": "python",
   "pygments_lexer": "ipython2",
   "version": "2.7.6"
  }
 },
 "nbformat": 4,
 "nbformat_minor": 5
}
