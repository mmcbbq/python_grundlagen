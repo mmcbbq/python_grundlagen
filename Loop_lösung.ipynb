{
 "cells": [
  {
   "cell_type": "code",
   "execution_count": 15,
   "id": "initial_id",
   "metadata": {
    "collapsed": true,
    "ExecuteTime": {
     "end_time": "2023-10-06T11:43:44.193286200Z",
     "start_time": "2023-10-06T11:43:44.171694700Z"
    }
   },
   "outputs": [
    {
     "name": "stdout",
     "output_type": "stream",
     "text": [
      "[19, 14, 34, 86, 86, 31, 97, 6, 21, 21]\n"
     ]
    }
   ],
   "source": [
    "import random\n",
    "list=[]\n",
    "for x in range(10):\n",
    "    list.append(random.randint(0,100))\n",
    "print(list)"
   ]
  },
  {
   "cell_type": "code",
   "execution_count": 2,
   "outputs": [],
   "source": [
    "numbers = [65, 44, 77, 58, 38, 56, 77, 91, 18, 57, 67, 84, 12, 66, 43, 7, 53, 76, 66, 11, 44, 26, 34, 61, 98, 13, 55, 46, 29, 9, 78, 85, 14, 86, 18, 4, 98, 98, 10, 70, 32, 98, 83, 70, 24, 6, 30, 6, 98, 34, 81, 2, 96, 21, 4, 6, 84, 20, 39, 59, 3, 84, 71, 30, 29, 27, 25, 21, 68, 76, 70, 57, 98, 53, 84, 63, 34, 26, 40, 38, 71, 92, 64, 78, 9, 1, 30, 25, 70, 85, 11, 77, 31, 41, 23, 59, 100, 45, 5, 94]\n",
    "\n"
   ],
   "metadata": {
    "collapsed": false,
    "ExecuteTime": {
     "end_time": "2023-10-09T08:50:40.272673Z",
     "start_time": "2023-10-09T08:50:40.243666500Z"
    }
   },
   "id": "c882a3d8a60e5944"
  },
  {
   "cell_type": "markdown",
   "source": [
    "Gebe alle Zahlen aus die kleiner gleich als 50 sind"
   ],
   "metadata": {
    "collapsed": false
   },
   "id": "e889badb778fa9f"
  },
  {
   "cell_type": "code",
   "execution_count": 5,
   "outputs": [
    {
     "name": "stdout",
     "output_type": "stream",
     "text": [
      "44\n",
      "38\n",
      "18\n",
      "12\n",
      "43\n",
      "7\n",
      "11\n",
      "44\n",
      "26\n",
      "34\n",
      "13\n",
      "46\n",
      "29\n",
      "9\n",
      "14\n",
      "18\n",
      "4\n",
      "10\n",
      "32\n",
      "24\n",
      "6\n",
      "30\n",
      "6\n",
      "34\n",
      "2\n",
      "21\n",
      "4\n",
      "6\n",
      "20\n",
      "39\n",
      "3\n",
      "30\n",
      "29\n",
      "27\n",
      "25\n",
      "21\n",
      "34\n",
      "26\n",
      "40\n",
      "38\n",
      "9\n",
      "1\n",
      "30\n",
      "25\n",
      "11\n",
      "31\n",
      "41\n",
      "23\n",
      "45\n",
      "5\n"
     ]
    }
   ],
   "source": [
    "for n in numbers:\n",
    "    if n <= 50:\n",
    "        print(n)"
   ],
   "metadata": {
    "collapsed": false,
    "ExecuteTime": {
     "end_time": "2023-10-06T11:29:34.782766800Z",
     "start_time": "2023-10-06T11:29:34.771771300Z"
    }
   },
   "id": "8a8535cae6363250"
  },
  {
   "cell_type": "markdown",
   "source": [
    "Die Anzahl der Zahlen die zwischen 30 und 70 liegen "
   ],
   "metadata": {
    "collapsed": false
   },
   "id": "a6c64b4ec54d840e"
  },
  {
   "cell_type": "code",
   "execution_count": 3,
   "outputs": [
    {
     "name": "stdout",
     "output_type": "stream",
     "text": [
      "39\n"
     ]
    }
   ],
   "source": [
    "count = 0\n",
    "for n in numbers:\n",
    "    if 30 <= n <= 70 :\n",
    "        count+=1\n",
    "print(count)"
   ],
   "metadata": {
    "collapsed": false,
    "ExecuteTime": {
     "end_time": "2023-10-09T08:50:49.228237200Z",
     "start_time": "2023-10-09T08:50:49.223239800Z"
    }
   },
   "id": "43336bf6a4958169"
  },
  {
   "cell_type": "markdown",
   "source": [
    "Gebe alle zahlen die grade durch 5  teilbar sind aus (modulo = 0)"
   ],
   "metadata": {
    "collapsed": false
   },
   "id": "98110ab444ab4c75"
  },
  {
   "cell_type": "code",
   "execution_count": 10,
   "outputs": [
    {
     "name": "stdout",
     "output_type": "stream",
     "text": [
      "65\n",
      "55\n",
      "85\n",
      "10\n",
      "70\n",
      "70\n",
      "30\n",
      "20\n",
      "30\n",
      "25\n",
      "70\n",
      "40\n",
      "30\n",
      "25\n",
      "70\n",
      "85\n",
      "100\n",
      "45\n",
      "5\n"
     ]
    }
   ],
   "source": [
    "for n in numbers:\n",
    "    if n%5 == 0:\n",
    "        print(n)"
   ],
   "metadata": {
    "collapsed": false,
    "ExecuteTime": {
     "end_time": "2023-10-06T11:37:28.287916700Z",
     "start_time": "2023-10-06T11:37:28.243108900Z"
    }
   },
   "id": "7447b93ee4cb44f4"
  },
  {
   "cell_type": "markdown",
   "source": [
    "Erstelle eine Liste (sieben) mit allen Zahlen die grade durch 7 teilbar sind aus in eine "
   ],
   "metadata": {
    "collapsed": false
   },
   "id": "ccdfb4bc7af5bd8f"
  },
  {
   "cell_type": "code",
   "execution_count": 12,
   "outputs": [
    {
     "name": "stdout",
     "output_type": "stream",
     "text": [
      "[65, 55, 85, 10, 70, 70, 30, 20, 30, 25, 70, 40, 30, 25, 70, 85, 100, 45, 5]\n"
     ]
    }
   ],
   "source": [
    "sieben=[]\n",
    "for n in numbers:\n",
    "    if n%5 == 0:\n",
    "        sieben.append(n)\n",
    "print(sieben)"
   ],
   "metadata": {
    "collapsed": false,
    "ExecuteTime": {
     "end_time": "2023-10-06T11:42:30.523152400Z",
     "start_time": "2023-10-06T11:42:30.515148200Z"
    }
   },
   "id": "69f0020590144a"
  },
  {
   "cell_type": "code",
   "execution_count": 28,
   "outputs": [],
   "source": [
    "list1 = [22, 27, 31, 19, 47, 89, 22, 79, 26, 27]\n",
    "list2 = [71, 6, 47, 19, 94, 71, 22, 59, 19, 64]\n",
    "list3 = [19, 14, 34, 86, 86, 31, 97, 6, 21, 21]\n",
    "nested_list = [ list1,list2,list3]"
   ],
   "metadata": {
    "collapsed": false,
    "ExecuteTime": {
     "end_time": "2023-10-06T11:59:35.912645600Z",
     "start_time": "2023-10-06T11:59:35.901097600Z"
    }
   },
   "id": "688ba4b694a09365"
  },
  {
   "cell_type": "markdown",
   "source": [
    "Die Anzahl der Zahl 19 in nested_list"
   ],
   "metadata": {
    "collapsed": false
   },
   "id": "8de29a116316e49e"
  },
  {
   "cell_type": "code",
   "execution_count": 22,
   "outputs": [
    {
     "name": "stdout",
     "output_type": "stream",
     "text": [
      "4\n"
     ]
    }
   ],
   "source": [
    "count = 0\n",
    "for list in nested_list:\n",
    "    for n in list:\n",
    "        if n == 19:\n",
    "            count+=1\n",
    "print(count)"
   ],
   "metadata": {
    "collapsed": false,
    "ExecuteTime": {
     "end_time": "2023-10-06T11:48:28.217934400Z",
     "start_time": "2023-10-06T11:48:28.202691100Z"
    }
   },
   "id": "a03e5b77841c7a93"
  },
  {
   "cell_type": "markdown",
   "source": [
    "Erstelle drei Listen (kl33, zw33_66 und gr66). Sortiere Alle Zahlen aus dem nested_list in die passende Liste "
   ],
   "metadata": {
    "collapsed": false
   },
   "id": "90829f8dc8d940a8"
  },
  {
   "cell_type": "code",
   "execution_count": 32,
   "outputs": [
    {
     "name": "stdout",
     "output_type": "stream",
     "text": [
      "[22, 27, 31, 19, 22, 26, 27, 6, 19, 22, 19, 19, 14, 31, 6, 21, 21]\n",
      "[47, 47, 59, 64, 34]\n",
      "[89, 79, 71, 94, 71, 86, 86, 97]\n"
     ]
    }
   ],
   "source": [
    "kl33 = []\n",
    "zw33_66 = []\n",
    "gr66 = []\n",
    "for list in nested_list:\n",
    "    for i in list:\n",
    "        if i <= 33:\n",
    "            kl33.append(i)\n",
    "        elif 33 < i < 66:\n",
    "            zw33_66.append(i)\n",
    "        else:\n",
    "            gr66.append(i)\n",
    "print(kl33)\n",
    "print(zw33_66)\n",
    "print(gr66)"
   ],
   "metadata": {
    "collapsed": false,
    "ExecuteTime": {
     "end_time": "2023-10-06T12:00:27.680780200Z",
     "start_time": "2023-10-06T12:00:27.669786100Z"
    }
   },
   "id": "eeab7d20353e4fbb"
  },
  {
   "cell_type": "code",
   "execution_count": 12,
   "outputs": [
    {
     "name": "stdout",
     "output_type": "stream",
     "text": [
      "OXOXOXOX\n",
      "XOXOXOXO\n",
      "OXOXOXOX\n",
      "XOXOXOXO\n",
      "OXOXOXOX\n",
      "XOXOXOXO\n",
      "OXOXOXOX\n",
      "XOXOXOXO\n"
     ]
    }
   ],
   "source": [
    "n = 1\n",
    "for i in range(8):\n",
    "    for x in range(8):\n",
    "        if n%2 == 0:\n",
    "            print('X',end = '')\n",
    "        if n%2 != 0:\n",
    "            print('O',end = '')\n",
    "        n+=1\n",
    "    print('',end ='\\n')\n",
    "    n+=1\n",
    "  \n",
    "    "
   ],
   "metadata": {
    "collapsed": false,
    "ExecuteTime": {
     "end_time": "2023-10-10T06:59:19.108977400Z",
     "start_time": "2023-10-10T06:59:19.093418800Z"
    }
   },
   "id": "a83c179335d54600"
  },
  {
   "cell_type": "code",
   "execution_count": 13,
   "outputs": [
    {
     "data": {
      "text/plain": "220"
     },
     "execution_count": 13,
     "metadata": {},
     "output_type": "execute_result"
    }
   ],
   "source": [
    "zahlen = [50,20,30,40,80,]\n",
    "sum(zahlen)"
   ],
   "metadata": {
    "collapsed": false,
    "ExecuteTime": {
     "end_time": "2023-10-10T07:01:23.541491900Z",
     "start_time": "2023-10-10T07:01:23.485927900Z"
    }
   },
   "id": "e3f21e6ac9661022"
  },
  {
   "cell_type": "markdown",
   "source": [
    "1\n",
    "12\n",
    "123\n",
    "1234\n",
    "12345"
   ],
   "metadata": {
    "collapsed": false
   },
   "id": "624c10b51566469e"
  },
  {
   "cell_type": "code",
   "execution_count": 68,
   "outputs": [
    {
     "name": "stdout",
     "output_type": "stream",
     "text": [
      "\n",
      "1\n",
      "12\n",
      "123\n",
      "1234\n",
      "12345\n"
     ]
    }
   ],
   "source": [
    "for i in range(6):\n",
    "    for y in range(1,i+1):\n",
    "        print(y, end='')\n",
    "    print()"
   ],
   "metadata": {
    "collapsed": false,
    "ExecuteTime": {
     "end_time": "2023-10-10T12:20:50.744166300Z",
     "start_time": "2023-10-10T12:20:50.732459900Z"
    }
   },
   "id": "3b5c054af29b2d8b"
  },
  {
   "cell_type": "code",
   "execution_count": 64,
   "outputs": [
    {
     "name": "stdout",
     "output_type": "stream",
     "text": [
      "54321\n",
      "4321\n",
      "321\n",
      "21\n",
      "1\n"
     ]
    }
   ],
   "source": [
    "\n",
    "for i in range(5,0,-1):\n",
    "    k=i\n",
    "    for y in range(i):\n",
    "        if k >= 1:\n",
    "            print(k, end='')\n",
    "            k-=1\n",
    "    print()\n",
    "    \n",
    "     "
   ],
   "metadata": {
    "collapsed": false,
    "ExecuteTime": {
     "end_time": "2023-10-10T12:14:47.335428700Z",
     "start_time": "2023-10-10T12:14:47.307161500Z"
    }
   },
   "id": "de2b8b7f907cc9f0"
  },
  {
   "cell_type": "code",
   "execution_count": 43,
   "outputs": [
    {
     "name": "stdout",
     "output_type": "stream",
     "text": [
      "\n",
      "1\n",
      "21\n",
      "321\n",
      "4321\n",
      "54321\n"
     ]
    }
   ],
   "source": [
    "for i in range(6):\n",
    "    n = i   \n",
    "    for y in range(n,0,-1):\n",
    "        if n >= 1: \n",
    "            print(y, end='')\n",
    "        \n",
    "    print()\n",
    "    \n",
    "    "
   ],
   "metadata": {
    "collapsed": false,
    "ExecuteTime": {
     "end_time": "2023-10-10T07:42:31.092413100Z",
     "start_time": "2023-10-10T07:42:31.078968100Z"
    }
   },
   "id": "4e39cd7ed450b59f"
  },
  {
   "cell_type": "code",
   "execution_count": 67,
   "outputs": [
    {
     "name": "stdout",
     "output_type": "stream",
     "text": [
      "       1\n",
      "      212\n",
      "     32123\n",
      "    4321234\n",
      "   543212345\n",
      "  65432123456\n",
      " 7654321234567\n"
     ]
    }
   ],
   "source": [
    "end = ''\n",
    "n = 8\n",
    "for i in range(1,n):\n",
    "    print( f'{\" \"*(n-i)}', end= '')\n",
    "    end =f'{end}{i}'\n",
    "    for y in range(i , 1 , -1):\n",
    "        print( y, end='')\n",
    "    print(end)\n",
    "   "
   ],
   "metadata": {
    "collapsed": false,
    "ExecuteTime": {
     "end_time": "2023-10-10T12:17:50.332162900Z",
     "start_time": "2023-10-10T12:17:50.322562700Z"
    }
   },
   "id": "153f198823564137"
  },
  {
   "cell_type": "code",
   "execution_count": null,
   "outputs": [],
   "source": [],
   "metadata": {
    "collapsed": false
   },
   "id": "9dcc3597192ecfd7"
  }
 ],
 "metadata": {
  "kernelspec": {
   "display_name": "Python 3",
   "language": "python",
   "name": "python3"
  },
  "language_info": {
   "codemirror_mode": {
    "name": "ipython",
    "version": 2
   },
   "file_extension": ".py",
   "mimetype": "text/x-python",
   "name": "python",
   "nbconvert_exporter": "python",
   "pygments_lexer": "ipython2",
   "version": "2.7.6"
  }
 },
 "nbformat": 4,
 "nbformat_minor": 5
}
