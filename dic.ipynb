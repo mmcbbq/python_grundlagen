{
 "cells": [
  {
   "cell_type": "code",
   "execution_count": 25,
   "id": "initial_id",
   "metadata": {
    "collapsed": true,
    "ExecuteTime": {
     "end_time": "2023-10-10T12:36:15.017164100Z",
     "start_time": "2023-10-10T12:36:15.008154600Z"
    }
   },
   "outputs": [],
   "source": [
    "dic = {'name':'Manuel','email': 'manuel@mail.de','passwort':'123'}\n",
    "lis = [1,2,3]"
   ]
  },
  {
   "cell_type": "code",
   "execution_count": 6,
   "outputs": [
    {
     "name": "stdout",
     "output_type": "stream",
     "text": [
      "Manuel\n",
      "manuel@mail.de\n",
      "123\n"
     ]
    }
   ],
   "source": [
    "print(dic['name'])\n",
    "print(dic['email'])\n",
    "print(dic['passwort'])\n",
    "\n"
   ],
   "metadata": {
    "collapsed": false,
    "ExecuteTime": {
     "end_time": "2023-10-10T12:30:02.149760Z",
     "start_time": "2023-10-10T12:30:02.139802800Z"
    }
   },
   "id": "2e80495fc45a709f"
  },
  {
   "cell_type": "code",
   "execution_count": 11,
   "outputs": [
    {
     "data": {
      "text/plain": "3"
     },
     "execution_count": 11,
     "metadata": {},
     "output_type": "execute_result"
    }
   ],
   "source": [
    "len(dic)\n",
    "len(lis)"
   ],
   "metadata": {
    "collapsed": false,
    "ExecuteTime": {
     "end_time": "2023-10-10T12:32:44.252092700Z",
     "start_time": "2023-10-10T12:32:44.244106700Z"
    }
   },
   "id": "12c454df8feedbe"
  },
  {
   "cell_type": "code",
   "execution_count": 12,
   "outputs": [
    {
     "data": {
      "text/plain": "'[1, 2, 3]'"
     },
     "execution_count": 12,
     "metadata": {},
     "output_type": "execute_result"
    }
   ],
   "source": [
    "str(dic)\n",
    "str(lis)"
   ],
   "metadata": {
    "collapsed": false,
    "ExecuteTime": {
     "end_time": "2023-10-10T12:32:56.161606Z",
     "start_time": "2023-10-10T12:32:56.148215900Z"
    }
   },
   "id": "89bc13b81eca2453"
  },
  {
   "cell_type": "code",
   "execution_count": 16,
   "outputs": [],
   "source": [
    "dic.clear()"
   ],
   "metadata": {
    "collapsed": false,
    "ExecuteTime": {
     "end_time": "2023-10-10T12:33:24.841848500Z",
     "start_time": "2023-10-10T12:33:24.825856800Z"
    }
   },
   "id": "3006ab413084e790"
  },
  {
   "cell_type": "code",
   "execution_count": 17,
   "outputs": [
    {
     "name": "stdout",
     "output_type": "stream",
     "text": [
      "{}\n"
     ]
    }
   ],
   "source": [
    "print(dic)"
   ],
   "metadata": {
    "collapsed": false,
    "ExecuteTime": {
     "end_time": "2023-10-10T12:33:31.064638400Z",
     "start_time": "2023-10-10T12:33:31.051156400Z"
    }
   },
   "id": "54c9b20b1790047"
  },
  {
   "cell_type": "code",
   "execution_count": 26,
   "outputs": [],
   "source": [
    "dic2 = dic.copy()"
   ],
   "metadata": {
    "collapsed": false,
    "ExecuteTime": {
     "end_time": "2023-10-10T12:36:19.828130200Z",
     "start_time": "2023-10-10T12:36:19.820133100Z"
    }
   },
   "id": "7fea6c2c29c2ecf"
  },
  {
   "cell_type": "code",
   "execution_count": 27,
   "outputs": [
    {
     "name": "stdout",
     "output_type": "stream",
     "text": [
      "{'name': 'Manuel', 'email': 'manuel@mail.de', 'passwort': '123'}\n"
     ]
    }
   ],
   "source": [
    "print(dic2)"
   ],
   "metadata": {
    "collapsed": false,
    "ExecuteTime": {
     "end_time": "2023-10-10T12:36:21.883228900Z",
     "start_time": "2023-10-10T12:36:21.875670500Z"
    }
   },
   "id": "cb7bfe588cd631c8"
  },
  {
   "cell_type": "code",
   "execution_count": 28,
   "outputs": [],
   "source": [
    "dic['name'] = 'Peter'"
   ],
   "metadata": {
    "collapsed": false,
    "ExecuteTime": {
     "end_time": "2023-10-10T12:36:28.341263Z",
     "start_time": "2023-10-10T12:36:28.332263800Z"
    }
   },
   "id": "61fa99665b9f83ad"
  },
  {
   "cell_type": "code",
   "execution_count": 29,
   "outputs": [
    {
     "name": "stdout",
     "output_type": "stream",
     "text": [
      "{'name': 'Manuel', 'email': 'manuel@mail.de', 'passwort': '123'}\n"
     ]
    }
   ],
   "source": [
    "print(dic2)\n"
   ],
   "metadata": {
    "collapsed": false,
    "ExecuteTime": {
     "end_time": "2023-10-10T12:36:33.553277200Z",
     "start_time": "2023-10-10T12:36:33.543620500Z"
    }
   },
   "id": "e2dbdaf4d62c3696"
  },
  {
   "cell_type": "code",
   "execution_count": 30,
   "outputs": [
    {
     "name": "stdout",
     "output_type": "stream",
     "text": [
      "{'name': 'Peter', 'email': 'manuel@mail.de', 'passwort': '123'}\n"
     ]
    }
   ],
   "source": [
    "print(dic)"
   ],
   "metadata": {
    "collapsed": false,
    "ExecuteTime": {
     "end_time": "2023-10-10T12:36:46.918707800Z",
     "start_time": "2023-10-10T12:36:46.908692800Z"
    }
   },
   "id": "13f73450f5c7f0d7"
  },
  {
   "cell_type": "code",
   "execution_count": 33,
   "outputs": [
    {
     "data": {
      "text/plain": "'Peter'"
     },
     "execution_count": 33,
     "metadata": {},
     "output_type": "execute_result"
    }
   ],
   "source": [
    "dic.get('name')"
   ],
   "metadata": {
    "collapsed": false,
    "ExecuteTime": {
     "end_time": "2023-10-10T12:38:52.754966300Z",
     "start_time": "2023-10-10T12:38:52.744884Z"
    }
   },
   "id": "cd8b6b840aa8c4a2"
  },
  {
   "cell_type": "code",
   "execution_count": 34,
   "outputs": [
    {
     "data": {
      "text/plain": "dict_items([('name', 'Peter'), ('email', 'manuel@mail.de'), ('passwort', '123')])"
     },
     "execution_count": 34,
     "metadata": {},
     "output_type": "execute_result"
    }
   ],
   "source": [
    "dic.items()"
   ],
   "metadata": {
    "collapsed": false,
    "ExecuteTime": {
     "end_time": "2023-10-10T12:39:33.592561700Z",
     "start_time": "2023-10-10T12:39:33.574244100Z"
    }
   },
   "id": "4f21cabe59672afd"
  },
  {
   "cell_type": "code",
   "execution_count": 43,
   "outputs": [],
   "source": [
    "mitarbeiter1 = {'name':'Manuel','email': 'manuel@mail.de','passwort':'123', 'Id':'MID786'}\n",
    "mitarbeiter2 = {'name':'Peter','email': 'peter@mail.de','passwort':'123', 'Id': 'MID025'}\n",
    "mitarbeiter3 = {'name':'Hans','email': 'hans@mail.de','passwort':'123'}\n",
    "mitarbeiter4liste = ['Rolf', 'rolf@mail.de','123']"
   ],
   "metadata": {
    "collapsed": false,
    "ExecuteTime": {
     "end_time": "2023-10-10T12:49:30.393062600Z",
     "start_time": "2023-10-10T12:49:30.383530200Z"
    }
   },
   "id": "c036eebfc94e0a06"
  },
  {
   "cell_type": "code",
   "execution_count": 39,
   "outputs": [
    {
     "data": {
      "text/plain": "'MIDxxx'"
     },
     "execution_count": 39,
     "metadata": {},
     "output_type": "execute_result"
    }
   ],
   "source": [
    "mitarbeiter3.setdefault('Id', 'MIDxxx')"
   ],
   "metadata": {
    "collapsed": false,
    "ExecuteTime": {
     "end_time": "2023-10-10T12:46:06.659409300Z",
     "start_time": "2023-10-10T12:46:06.650099300Z"
    }
   },
   "id": "1b72b645e3a82df6"
  },
  {
   "cell_type": "code",
   "execution_count": 40,
   "outputs": [
    {
     "data": {
      "text/plain": "{'name': 'Hans', 'email': 'hans@mail.de', 'passwort': '123', 'Id': 'MIDxxx'}"
     },
     "execution_count": 40,
     "metadata": {},
     "output_type": "execute_result"
    }
   ],
   "source": [
    "mitarbeiter3"
   ],
   "metadata": {
    "collapsed": false,
    "ExecuteTime": {
     "end_time": "2023-10-10T12:46:13.523717100Z",
     "start_time": "2023-10-10T12:46:13.514163600Z"
    }
   },
   "id": "48d495800e76e4cc"
  },
  {
   "cell_type": "code",
   "execution_count": 46,
   "outputs": [
    {
     "data": {
      "text/plain": "True"
     },
     "execution_count": 46,
     "metadata": {},
     "output_type": "execute_result"
    }
   ],
   "source": [
    "'Rolf' in mitarbeiter4liste"
   ],
   "metadata": {
    "collapsed": false,
    "ExecuteTime": {
     "end_time": "2023-10-10T12:49:41.502640800Z",
     "start_time": "2023-10-10T12:49:41.479857500Z"
    }
   },
   "id": "3980a9153e4c3f57"
  },
  {
   "cell_type": "code",
   "execution_count": 49,
   "outputs": [
    {
     "data": {
      "text/plain": "True"
     },
     "execution_count": 49,
     "metadata": {},
     "output_type": "execute_result"
    }
   ],
   "source": [
    "'name' in mitarbeiter1"
   ],
   "metadata": {
    "collapsed": false,
    "ExecuteTime": {
     "end_time": "2023-10-10T12:50:29.573128600Z",
     "start_time": "2023-10-10T12:50:29.555606300Z"
    }
   },
   "id": "80af9743e1cde5ef"
  },
  {
   "cell_type": "code",
   "execution_count": 51,
   "outputs": [
    {
     "data": {
      "text/plain": "dict_keys"
     },
     "execution_count": 51,
     "metadata": {},
     "output_type": "execute_result"
    }
   ],
   "source": [
    "type(mitarbeiter1.keys())"
   ],
   "metadata": {
    "collapsed": false,
    "ExecuteTime": {
     "end_time": "2023-10-10T12:54:35.077678600Z",
     "start_time": "2023-10-10T12:54:35.065560800Z"
    }
   },
   "id": "8264e979e8b9149f"
  },
  {
   "cell_type": "code",
   "execution_count": 59,
   "outputs": [],
   "source": [
    "keylist = mitarbeiter1.keys()\n"
   ],
   "metadata": {
    "collapsed": false,
    "ExecuteTime": {
     "end_time": "2023-10-10T12:57:24.071870700Z",
     "start_time": "2023-10-10T12:57:24.058878100Z"
    }
   },
   "id": "6cc56c9e6a56550"
  },
  {
   "cell_type": "code",
   "execution_count": 68,
   "outputs": [],
   "source": [
    "test = list(mitarbeiter1.keys())"
   ],
   "metadata": {
    "collapsed": false,
    "ExecuteTime": {
     "end_time": "2023-10-10T13:02:53.378324500Z",
     "start_time": "2023-10-10T13:02:53.353287900Z"
    }
   },
   "id": "b237c2472bf76fed"
  },
  {
   "cell_type": "code",
   "execution_count": 69,
   "outputs": [
    {
     "name": "stdout",
     "output_type": "stream",
     "text": [
      "['name', 'email', 'passwort', 'Id']\n"
     ]
    }
   ],
   "source": [
    "print(test)"
   ],
   "metadata": {
    "collapsed": false,
    "ExecuteTime": {
     "end_time": "2023-10-10T13:02:58.707164900Z",
     "start_time": "2023-10-10T13:02:58.693616600Z"
    }
   },
   "id": "2b6a27d2efccc757"
  },
  {
   "cell_type": "code",
   "execution_count": 82,
   "outputs": [],
   "source": [
    "mitarbeiter5 = {'name':'Hans','email': 'hans@mail.de'}"
   ],
   "metadata": {
    "collapsed": false,
    "ExecuteTime": {
     "end_time": "2023-10-10T13:08:38.029895600Z",
     "start_time": "2023-10-10T13:08:38.016214900Z"
    }
   },
   "id": "5bd23a9ba5c1c252"
  },
  {
   "cell_type": "code",
   "execution_count": 83,
   "outputs": [],
   "source": [
    "mitarbeiter5['password'] = '456'"
   ],
   "metadata": {
    "collapsed": false,
    "ExecuteTime": {
     "end_time": "2023-10-10T13:08:38.757792300Z",
     "start_time": "2023-10-10T13:08:38.744790Z"
    }
   },
   "id": "e49af2513f36762d"
  },
  {
   "cell_type": "code",
   "execution_count": 73,
   "outputs": [
    {
     "data": {
      "text/plain": "{'name': 'Hans', 'email': 'hans@mail.de', 'password': '456'}"
     },
     "execution_count": 73,
     "metadata": {},
     "output_type": "execute_result"
    }
   ],
   "source": [
    "mitarbeiter5"
   ],
   "metadata": {
    "collapsed": false,
    "ExecuteTime": {
     "end_time": "2023-10-10T13:05:16.864131500Z",
     "start_time": "2023-10-10T13:05:16.822445300Z"
    }
   },
   "id": "73f4b5741ecf2327"
  },
  {
   "cell_type": "code",
   "execution_count": 76,
   "outputs": [
    {
     "data": {
      "text/plain": "'Hans'"
     },
     "execution_count": 76,
     "metadata": {},
     "output_type": "execute_result"
    }
   ],
   "source": [
    "mitarbeiter5.pop('name')"
   ],
   "metadata": {
    "collapsed": false,
    "ExecuteTime": {
     "end_time": "2023-10-10T13:06:55.306629Z",
     "start_time": "2023-10-10T13:06:55.298637100Z"
    }
   },
   "id": "c2c6045156c99029"
  },
  {
   "cell_type": "code",
   "execution_count": 81,
   "outputs": [
    {
     "data": {
      "text/plain": "{'email': 'hans@mail.de'}"
     },
     "execution_count": 81,
     "metadata": {},
     "output_type": "execute_result"
    }
   ],
   "source": [
    "mitarbeiter5"
   ],
   "metadata": {
    "collapsed": false,
    "ExecuteTime": {
     "end_time": "2023-10-10T13:07:31.183563200Z",
     "start_time": "2023-10-10T13:07:31.168017200Z"
    }
   },
   "id": "28397b378f7d2e5a"
  },
  {
   "cell_type": "code",
   "execution_count": 80,
   "outputs": [
    {
     "data": {
      "text/plain": "('password', '456')"
     },
     "execution_count": 80,
     "metadata": {},
     "output_type": "execute_result"
    }
   ],
   "source": [
    "mitarbeiter5.popitem()"
   ],
   "metadata": {
    "collapsed": false,
    "ExecuteTime": {
     "end_time": "2023-10-10T13:07:28.944494Z",
     "start_time": "2023-10-10T13:07:28.918801Z"
    }
   },
   "id": "9b0b1d18787c3993"
  },
  {
   "cell_type": "code",
   "execution_count": 86,
   "outputs": [],
   "source": [
    "del mitarbeiter5"
   ],
   "metadata": {
    "collapsed": false,
    "ExecuteTime": {
     "end_time": "2023-10-10T13:09:23.696622400Z",
     "start_time": "2023-10-10T13:09:23.681606600Z"
    }
   },
   "id": "2de29f7dc5ebf408"
  },
  {
   "cell_type": "code",
   "execution_count": 87,
   "outputs": [
    {
     "ename": "NameError",
     "evalue": "name 'mitarbeiter5' is not defined",
     "output_type": "error",
     "traceback": [
      "\u001B[1;31m---------------------------------------------------------------------------\u001B[0m",
      "\u001B[1;31mNameError\u001B[0m                                 Traceback (most recent call last)",
      "Cell \u001B[1;32mIn[87], line 1\u001B[0m\n\u001B[1;32m----> 1\u001B[0m \u001B[43mmitarbeiter5\u001B[49m\n",
      "\u001B[1;31mNameError\u001B[0m: name 'mitarbeiter5' is not defined"
     ]
    }
   ],
   "source": [
    "mitarbeiter5"
   ],
   "metadata": {
    "collapsed": false,
    "ExecuteTime": {
     "end_time": "2023-10-10T13:09:24.514404900Z",
     "start_time": "2023-10-10T13:09:24.501177100Z"
    }
   },
   "id": "db58bd863a7c9a64"
  },
  {
   "cell_type": "code",
   "execution_count": 89,
   "outputs": [
    {
     "name": "stdout",
     "output_type": "stream",
     "text": [
      "Manuel\n",
      "manuel@mail.de\n",
      "123\n",
      "MID786\n"
     ]
    }
   ],
   "source": [
    "for val in mitarbeiter1.values():\n",
    "    print(val)"
   ],
   "metadata": {
    "collapsed": false,
    "ExecuteTime": {
     "end_time": "2023-10-10T13:11:16.032197900Z",
     "start_time": "2023-10-10T13:11:16.016656400Z"
    }
   },
   "id": "389e0163fa4b6e74"
  },
  {
   "cell_type": "code",
   "execution_count": 90,
   "outputs": [
    {
     "name": "stdout",
     "output_type": "stream",
     "text": [
      "Das ist der key : name\n",
      "Das ist der value : Manuel\n",
      "Das ist der key : email\n",
      "Das ist der value : manuel@mail.de\n",
      "Das ist der key : passwort\n",
      "Das ist der value : 123\n",
      "Das ist der key : Id\n",
      "Das ist der value : MID786\n"
     ]
    }
   ],
   "source": [
    "for key , val in mitarbeiter1.items():\n",
    "    print(f'Das ist der key : {key}')\n",
    "    print(f'Das ist der value : {val}')\n",
    "    "
   ],
   "metadata": {
    "collapsed": false,
    "ExecuteTime": {
     "end_time": "2023-10-10T13:13:15.717039800Z",
     "start_time": "2023-10-10T13:13:15.681993500Z"
    }
   },
   "id": "4d969e37ab536cc2"
  },
  {
   "cell_type": "code",
   "execution_count": 91,
   "outputs": [],
   "source": [
    "keys = ['name', 'email', 'passwort', 'Id']\n",
    "namen = ['Hans', 'Manuel', 'Sven']\n",
    "email = ['1mail', '2mail', '3mail']\n",
    "password = ['123','123','123']\n",
    "mid = ['MID456', 'MID122', 'MID788']"
   ],
   "metadata": {
    "collapsed": false,
    "ExecuteTime": {
     "end_time": "2023-10-10T13:16:55.436670800Z",
     "start_time": "2023-10-10T13:16:55.409658700Z"
    }
   },
   "id": "35aa15e3d6392f55"
  },
  {
   "cell_type": "code",
   "execution_count": 109,
   "outputs": [
    {
     "name": "stdout",
     "output_type": "stream",
     "text": [
      "[{'name': 'Hans', 'email': '1mail', 'password': '123', 'Id': 'MID456'}, {'name': 'Manuel', 'email': '2mail', 'password': '123', 'Id': 'MID122'}, {'name': 'Sven', 'email': '3mail', 'password': '123', 'Id': 'MID788'}]\n"
     ]
    }
   ],
   "source": [
    "mitalist =[]\n",
    "for x in range(0,len(namen)):\n",
    "    mitalist.append({})\n",
    "    for key in keys:\n",
    "        mitalist[x]['name'] = namen[x]\n",
    "        mitalist[x]['email'] = email[x]\n",
    "        mitalist[x]['password'] = password[x]\n",
    "        mitalist[x]['Id'] = mid[x]\n",
    "   \n",
    "print(mitalist)"
   ],
   "metadata": {
    "collapsed": false,
    "ExecuteTime": {
     "end_time": "2023-10-10T13:42:06.129788200Z",
     "start_time": "2023-10-10T13:42:06.112245500Z"
    }
   },
   "id": "25ad81b490752764"
  },
  {
   "cell_type": "code",
   "execution_count": null,
   "outputs": [],
   "source": [],
   "metadata": {
    "collapsed": false
   },
   "id": "3ed290b4f91d6625"
  }
 ],
 "metadata": {
  "kernelspec": {
   "display_name": "Python 3",
   "language": "python",
   "name": "python3"
  },
  "language_info": {
   "codemirror_mode": {
    "name": "ipython",
    "version": 2
   },
   "file_extension": ".py",
   "mimetype": "text/x-python",
   "name": "python",
   "nbconvert_exporter": "python",
   "pygments_lexer": "ipython2",
   "version": "2.7.6"
  }
 },
 "nbformat": 4,
 "nbformat_minor": 5
}
