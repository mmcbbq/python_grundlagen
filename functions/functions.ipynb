{
 "cells": [
  {
   "cell_type": "code",
   "execution_count": null,
   "outputs": [],
   "source": [
    "print()\n",
    "sum()\n",
    "max()\n",
    "min()\n",
    "input()\n",
    "len()\n",
    "range()\n",
    "str()\n"
   ],
   "metadata": {
    "collapsed": false
   },
   "id": "2a02bd9fcc85ce10"
  },
  {
   "cell_type": "code",
   "execution_count": null,
   "outputs": [],
   "source": [
    "# Eingebe des Users\n",
    "zahl1 = int(input('Eingabe Zahl 1'))\n",
    "zahl2 = int(input('Eingabe Zahl 2'))\n",
    "\n",
    "# \n",
    "s = zahl1 + zahl2\n",
    "\n",
    "print(s)\n",
    "\n"
   ],
   "metadata": {
    "collapsed": false
   },
   "id": "b42fc686babf6509"
  },
  {
   "cell_type": "code",
   "execution_count": 22,
   "outputs": [],
   "source": [
    "def mysum():\n",
    "    zahl1 = int(input('Eingabe Zahl 1'))\n",
    "    zahl2 = int(input('Eingabe Zahl 2'))\n",
    "#\n",
    "    s = zahl1 + zahl2\n",
    "    print(s)"
   ],
   "metadata": {
    "collapsed": false,
    "ExecuteTime": {
     "end_time": "2023-10-16T06:31:28.714726100Z",
     "start_time": "2023-10-16T06:31:28.672183200Z"
    }
   },
   "id": "e4e0f0df93b475c2"
  },
  {
   "cell_type": "code",
   "execution_count": 23,
   "outputs": [
    {
     "name": "stdout",
     "output_type": "stream",
     "text": [
      "3\n"
     ]
    }
   ],
   "source": [
    "mysum()"
   ],
   "metadata": {
    "collapsed": false,
    "ExecuteTime": {
     "end_time": "2023-10-16T06:31:44.029247Z",
     "start_time": "2023-10-16T06:31:29.507649100Z"
    }
   },
   "id": "ab0f5b1a861c5bb2"
  },
  {
   "cell_type": "code",
   "execution_count": 25,
   "outputs": [],
   "source": [
    "def mysum2(zahl1,zahl2):\n",
    "    s = zahl1+zahl2\n",
    "    return s\n",
    "    "
   ],
   "metadata": {
    "collapsed": false,
    "ExecuteTime": {
     "end_time": "2023-10-16T06:32:41.817397600Z",
     "start_time": "2023-10-16T06:32:41.784649500Z"
    }
   },
   "id": "e51587af6afcda55"
  },
  {
   "cell_type": "code",
   "execution_count": 28,
   "outputs": [
    {
     "data": {
      "text/plain": "8"
     },
     "execution_count": 28,
     "metadata": {},
     "output_type": "execute_result"
    }
   ],
   "source": [
    "mysum2(5,3)"
   ],
   "metadata": {
    "collapsed": false,
    "ExecuteTime": {
     "end_time": "2023-10-16T06:33:03.099584900Z",
     "start_time": "2023-10-16T06:33:03.059680800Z"
    }
   },
   "id": "c13dc910aba6455"
  },
  {
   "cell_type": "markdown",
   "source": [
    "1. zahl1 = 5 , zahl2 = 3\n",
    "2. s = 5 + 3 = 8\n",
    "3. 8"
   ],
   "metadata": {
    "collapsed": false
   },
   "id": "6d3921f6551c3714"
  },
  {
   "cell_type": "code",
   "execution_count": null,
   "outputs": [],
   "source": [
    "def area(radius):\n",
    "    if type(radius) in (int, float) and radius >= 0:\n",
    "        return 3.14 * radius * radius"
   ],
   "metadata": {
    "collapsed": false
   },
   "id": "ac48bd639c555b5"
  },
  {
   "cell_type": "code",
   "execution_count": null,
   "outputs": [],
   "source": [
    "area(1.5)"
   ],
   "metadata": {
    "collapsed": false
   },
   "id": "df590b2686bdf93"
  },
  {
   "cell_type": "code",
   "execution_count": null,
   "outputs": [],
   "source": [
    "radii =  [1.5, -2,55, 11, True , 3.5 , 4 , 4j, 3+5 , 2.0,  False, 'Eins']\n",
    "count = 1\n",
    "for x in radii:\n",
    "    print(f'{count}. {x}: {area(x)}')\n",
    "    count += 1"
   ],
   "metadata": {
    "collapsed": false
   },
   "id": "91bd2eaadca9146a"
  },
  {
   "cell_type": "code",
   "execution_count": null,
   "outputs": [],
   "source": [
    "if  None != False :\n",
    "    print('nicht False')\n",
    "else:\n",
    "    print('False')"
   ],
   "metadata": {
    "collapsed": false
   },
   "id": "c1b18235ab50acc"
  },
  {
   "cell_type": "code",
   "execution_count": 29,
   "outputs": [],
   "source": [
    "def checknum(x):\n",
    "    if x > 0:\n",
    "        print(f'{x} ist positive')\n",
    "    elif x == 0:\n",
    "        print(f'{x} ist Null')\n",
    "    else:\n",
    "        print(f'{x} ist negative')\n",
    "    \n",
    "        \n",
    "        "
   ],
   "metadata": {
    "collapsed": false,
    "ExecuteTime": {
     "end_time": "2023-10-16T06:34:34.188396Z",
     "start_time": "2023-10-16T06:34:34.151522500Z"
    }
   },
   "id": "6875da114dc64837"
  },
  {
   "cell_type": "code",
   "execution_count": 30,
   "outputs": [
    {
     "name": "stdout",
     "output_type": "stream",
     "text": [
      "20 ist positive\n"
     ]
    }
   ],
   "source": [
    "checknum(20)"
   ],
   "metadata": {
    "collapsed": false,
    "ExecuteTime": {
     "end_time": "2023-10-16T06:34:35.873536200Z",
     "start_time": "2023-10-16T06:34:35.847597100Z"
    }
   },
   "id": "b474590b906481ea"
  },
  {
   "cell_type": "code",
   "execution_count": 31,
   "outputs": [
    {
     "name": "stdout",
     "output_type": "stream",
     "text": [
      "-200 ist negative\n"
     ]
    }
   ],
   "source": [
    "checknum(-200)"
   ],
   "metadata": {
    "collapsed": false,
    "ExecuteTime": {
     "end_time": "2023-10-16T06:34:37.003375600Z",
     "start_time": "2023-10-16T06:34:36.966833500Z"
    }
   },
   "id": "f5e7eeb3ad66c6f7"
  },
  {
   "cell_type": "code",
   "execution_count": 32,
   "outputs": [
    {
     "name": "stdout",
     "output_type": "stream",
     "text": [
      "0 ist Null\n"
     ]
    }
   ],
   "source": [
    "checknum(0)"
   ],
   "metadata": {
    "collapsed": false,
    "ExecuteTime": {
     "end_time": "2023-10-16T06:34:39.544526700Z",
     "start_time": "2023-10-16T06:34:39.509119700Z"
    }
   },
   "id": "84bf2095f2ff50f5"
  },
  {
   "cell_type": "code",
   "execution_count": 34,
   "outputs": [
    {
     "name": "stdout",
     "output_type": "stream",
     "text": [
      "True ist positive\n"
     ]
    }
   ],
   "source": [
    "checknum(True)"
   ],
   "metadata": {
    "collapsed": false,
    "ExecuteTime": {
     "end_time": "2023-10-16T06:35:15.902370900Z",
     "start_time": "2023-10-16T06:35:15.859687200Z"
    }
   },
   "id": "96dcb3315ae51b91"
  },
  {
   "cell_type": "code",
   "execution_count": 36,
   "outputs": [],
   "source": [
    "zahl3 = 50\n",
    "zahl4 = -20"
   ],
   "metadata": {
    "collapsed": false,
    "ExecuteTime": {
     "end_time": "2023-10-16T06:35:49.651950900Z",
     "start_time": "2023-10-16T06:35:49.620427800Z"
    }
   },
   "id": "6329e0b56270aa83"
  },
  {
   "cell_type": "code",
   "execution_count": 37,
   "outputs": [
    {
     "name": "stdout",
     "output_type": "stream",
     "text": [
      "50 ist positive\n"
     ]
    }
   ],
   "source": [
    "checknum(zahl3)"
   ],
   "metadata": {
    "collapsed": false,
    "ExecuteTime": {
     "end_time": "2023-10-16T06:35:51.517635500Z",
     "start_time": "2023-10-16T06:35:51.489144400Z"
    }
   },
   "id": "ffddbc1c32ac8ed7"
  },
  {
   "cell_type": "code",
   "execution_count": 39,
   "outputs": [
    {
     "ename": "NameError",
     "evalue": "name 's' is not defined",
     "output_type": "error",
     "traceback": [
      "\u001B[1;31m---------------------------------------------------------------------------\u001B[0m",
      "\u001B[1;31mNameError\u001B[0m                                 Traceback (most recent call last)",
      "Cell \u001B[1;32mIn[39], line 2\u001B[0m\n\u001B[0;32m      1\u001B[0m mysum2(\u001B[38;5;241m2\u001B[39m,\u001B[38;5;241m5\u001B[39m)\n\u001B[1;32m----> 2\u001B[0m test \u001B[38;5;241m=\u001B[39m \u001B[43ms\u001B[49m\n\u001B[0;32m      3\u001B[0m \u001B[38;5;28mprint\u001B[39m(\u001B[38;5;28mtype\u001B[39m(s))\n",
      "\u001B[1;31mNameError\u001B[0m: name 's' is not defined"
     ]
    }
   ],
   "source": [
    "mysum2(2,5)\n",
    "test = s\n",
    "print(type(s))"
   ],
   "metadata": {
    "collapsed": false,
    "ExecuteTime": {
     "end_time": "2023-10-16T06:36:19.735380100Z",
     "start_time": "2023-10-16T06:36:19.695576600Z"
    }
   },
   "id": "751a95d245e63a0d"
  },
  {
   "cell_type": "code",
   "execution_count": null,
   "outputs": [],
   "source": [
    "mylist = [1,52,45,54] \n",
    "def durchschnitt(liste):\n",
    "    return sum(liste)/len(liste)"
   ],
   "metadata": {
    "collapsed": false
   },
   "id": "5affde250ec073b4"
  },
  {
   "cell_type": "code",
   "execution_count": null,
   "outputs": [],
   "source": [
    "durchschnitt(mylist)"
   ],
   "metadata": {
    "collapsed": false
   },
   "id": "694ed70ca956e6f7"
  },
  {
   "cell_type": "code",
   "execution_count": null,
   "outputs": [],
   "source": [
    "def countLetterInWord(word,letter):\n",
    "    count = 0\n",
    "    for x in word:\n",
    "        if x == letter:\n",
    "            count += 1\n",
    "    return count\n",
    "def count2(word, letter):\n",
    "    return word.count(letter)\n",
    "\n"
   ],
   "metadata": {
    "collapsed": false
   },
   "id": "d7b65142b78b75f4"
  },
  {
   "cell_type": "code",
   "execution_count": null,
   "outputs": [],
   "source": [
    "print(countLetterInWord(mylist, 52))\n",
    "print(count2(mylist,52))"
   ],
   "metadata": {
    "collapsed": false
   },
   "id": "5f43c57026f51a9a"
  },
  {
   "cell_type": "code",
   "execution_count": null,
   "outputs": [],
   "source": [
    "def coffeemachine (water ,coffee):\n",
    "    return 'Coffee brewed!'"
   ],
   "metadata": {
    "collapsed": false
   },
   "id": "e871e768fd9320e5"
  },
  {
   "cell_type": "code",
   "execution_count": null,
   "outputs": [],
   "source": [
    "print(coffeemachine('asfgsdg','asfsdg'))"
   ],
   "metadata": {
    "collapsed": false
   },
   "id": "560d8de7a6460730"
  },
  {
   "cell_type": "code",
   "execution_count": 40,
   "outputs": [],
   "source": [
    "def myfunc(x):\n",
    "    x = 20 \n",
    "    return "
   ],
   "metadata": {
    "collapsed": false,
    "ExecuteTime": {
     "end_time": "2023-10-16T06:37:56.926849200Z",
     "start_time": "2023-10-16T06:37:56.880452Z"
    }
   },
   "id": "31f73136f77cd06c"
  },
  {
   "cell_type": "code",
   "execution_count": null,
   "outputs": [],
   "source": [],
   "metadata": {
    "collapsed": false
   },
   "id": "2407b7bd44a50e12"
  },
  {
   "cell_type": "code",
   "execution_count": 41,
   "outputs": [],
   "source": [
    "def xminusy(x  ,y = 10 ):\n",
    "    return x-y"
   ],
   "metadata": {
    "collapsed": false,
    "ExecuteTime": {
     "end_time": "2023-10-16T06:38:21.044635700Z",
     "start_time": "2023-10-16T06:38:21.007793200Z"
    }
   },
   "id": "c03aba45b69eb9c6"
  },
  {
   "cell_type": "code",
   "execution_count": 42,
   "outputs": [
    {
     "data": {
      "text/plain": "-5"
     },
     "execution_count": 42,
     "metadata": {},
     "output_type": "execute_result"
    }
   ],
   "source": [
    "xminusy(5)"
   ],
   "metadata": {
    "collapsed": false,
    "ExecuteTime": {
     "end_time": "2023-10-16T06:38:41.518067700Z",
     "start_time": "2023-10-16T06:38:41.481138600Z"
    }
   },
   "id": "e03958c0a055f29d"
  },
  {
   "cell_type": "code",
   "execution_count": null,
   "outputs": [],
   "source": [
    "xminusy(y = 3, x = 10)"
   ],
   "metadata": {
    "collapsed": false
   },
   "id": "84488810d2d32ec8"
  },
  {
   "cell_type": "code",
   "execution_count": null,
   "outputs": [],
   "source": [
    "xminusy(10 , 3)"
   ],
   "metadata": {
    "collapsed": false
   },
   "id": "654a7ec0c2dbe771"
  },
  {
   "cell_type": "code",
   "execution_count": null,
   "outputs": [],
   "source": [
    "xminusy(y = 3 ,x =  3)"
   ],
   "metadata": {
    "collapsed": false
   },
   "id": "26f08b5fa3cacc32"
  },
  {
   "cell_type": "code",
   "execution_count": null,
   "outputs": [],
   "source": [
    "xminusy(2, 1)"
   ],
   "metadata": {
    "collapsed": false
   },
   "id": "716aecc42a09d8d"
  },
  {
   "cell_type": "code",
   "execution_count": null,
   "outputs": [],
   "source": [
    "def boo(a,b,/,c,d,* ,e=1):\n",
    "    return "
   ],
   "metadata": {
    "collapsed": false
   },
   "id": "eaafd3413eca5fc6"
  },
  {
   "cell_type": "code",
   "execution_count": null,
   "outputs": [],
   "source": [
    "boo(1,2,d=2, c=3, e=5)"
   ],
   "metadata": {
    "collapsed": false
   },
   "id": "e9f8ad1250c676f3"
  },
  {
   "cell_type": "code",
   "execution_count": null,
   "outputs": [],
   "source": [
    "boo(1,2,3,4,e=5 )"
   ],
   "metadata": {
    "collapsed": false
   },
   "id": "76e043355058f6bd"
  },
  {
   "cell_type": "code",
   "execution_count": null,
   "outputs": [],
   "source": [
    "boo(1,2,3,4,5 )\n"
   ],
   "metadata": {
    "collapsed": false
   },
   "id": "e53bcecbfc03b2d8"
  },
  {
   "cell_type": "code",
   "execution_count": null,
   "outputs": [],
   "source": [
    "boo(a= 1,b = 2,3,4,e=5 )"
   ],
   "metadata": {
    "collapsed": false
   },
   "id": "cbe8a188d479aa8f"
  },
  {
   "cell_type": "code",
   "execution_count": null,
   "outputs": [],
   "source": [],
   "metadata": {
    "collapsed": false
   },
   "id": "69ed62d8c3e375d7"
  },
  {
   "cell_type": "code",
   "execution_count": 146,
   "outputs": [
    {
     "data": {
      "text/plain": "list"
     },
     "execution_count": 146,
     "metadata": {},
     "output_type": "execute_result"
    }
   ],
   "source": [
    "liste = [1,2,3,4,5,[4,5,6,2,3,4]]\n",
    "type(liste)"
   ],
   "metadata": {
    "collapsed": false,
    "ExecuteTime": {
     "end_time": "2023-10-16T12:24:44.760294400Z",
     "start_time": "2023-10-16T12:24:44.724673300Z"
    }
   },
   "id": "6095c413d9f6c5e9"
  },
  {
   "cell_type": "code",
   "execution_count": 45,
   "outputs": [
    {
     "data": {
      "text/plain": "8"
     },
     "execution_count": 45,
     "metadata": {},
     "output_type": "execute_result"
    }
   ],
   "source": [
    "max(1,2,4,5,6,7,8)\n",
    "        "
   ],
   "metadata": {
    "collapsed": false,
    "ExecuteTime": {
     "end_time": "2023-10-16T08:40:34.479068200Z",
     "start_time": "2023-10-16T08:40:34.454400700Z"
    }
   },
   "id": "3d050658db15e7c7"
  },
  {
   "cell_type": "code",
   "execution_count": 186,
   "outputs": [],
   "source": [],
   "metadata": {
    "collapsed": false,
    "ExecuteTime": {
     "end_time": "2023-10-16T13:00:14.997011400Z",
     "start_time": "2023-10-16T13:00:14.932975400Z"
    }
   },
   "id": "46d34ac5a766086a"
  },
  {
   "cell_type": "code",
   "execution_count": 208,
   "outputs": [
    {
     "data": {
      "text/plain": "30"
     },
     "execution_count": 208,
     "metadata": {},
     "output_type": "execute_result"
    }
   ],
   "source": [
    "liste = [1,2,[4,5,6,[2,3,6],1]]\n",
    "\n",
    "\n",
    "def mysum(liste):\n",
    "   \n",
    "    \n",
    "    count = 0\n",
    "    #([1, 2, 3, 45, 56, [4, 5, 6, 2, 3, 4]],)\n",
    "    for ele in liste:\n",
    "        if type(ele) == list:\n",
    "            count += mysum(ele)            \n",
    "        elif type(ele) == int:\n",
    "            count+= ele \n",
    "    return count      \n",
    "mysum(liste)\n",
    "    "
   ],
   "metadata": {
    "collapsed": false,
    "ExecuteTime": {
     "end_time": "2023-10-16T13:20:12.873273500Z",
     "start_time": "2023-10-16T13:20:12.839455900Z"
    }
   },
   "id": "ef0e897331cca97a"
  },
  {
   "cell_type": "code",
   "execution_count": 185,
   "outputs": [
    {
     "data": {
      "text/plain": "39"
     },
     "execution_count": 185,
     "metadata": {},
     "output_type": "execute_result"
    }
   ],
   "source": [
    "# mysum(liste)\n",
    "mysum(liste)"
   ],
   "metadata": {
    "collapsed": false,
    "ExecuteTime": {
     "end_time": "2023-10-16T12:59:42.511976500Z",
     "start_time": "2023-10-16T12:59:42.462079600Z"
    }
   },
   "id": "5aa46711a8ce818d"
  },
  {
   "cell_type": "code",
   "execution_count": 159,
   "outputs": [
    {
     "data": {
      "text/plain": "1"
     },
     "execution_count": 159,
     "metadata": {},
     "output_type": "execute_result"
    }
   ],
   "source": [
    "mysum(1,1,2,3,4,5,liste,1,2,58,78)"
   ],
   "metadata": {
    "collapsed": false,
    "ExecuteTime": {
     "end_time": "2023-10-16T12:36:30.920239300Z",
     "start_time": "2023-10-16T12:36:30.893023200Z"
    }
   },
   "id": "619460cc805bf6a3"
  },
  {
   "cell_type": "code",
   "execution_count": 139,
   "outputs": [],
   "source": [
    "def mytest(x ,*z):\n",
    "    print(x)\n",
    "    print(z)"
   ],
   "metadata": {
    "collapsed": false,
    "ExecuteTime": {
     "end_time": "2023-10-16T09:14:09.388162200Z",
     "start_time": "2023-10-16T09:14:09.363152900Z"
    }
   },
   "id": "fb5e9fc36782b1da"
  },
  {
   "cell_type": "code",
   "execution_count": 140,
   "outputs": [
    {
     "name": "stdout",
     "output_type": "stream",
     "text": [
      "hallo\n",
      "(1, 2, 3)\n"
     ]
    }
   ],
   "source": [
    "mytest('hallo',1,2,3)"
   ],
   "metadata": {
    "collapsed": false,
    "ExecuteTime": {
     "end_time": "2023-10-16T09:14:10.804890Z",
     "start_time": "2023-10-16T09:14:10.740742900Z"
    }
   },
   "id": "23f3318bc25b0894"
  },
  {
   "cell_type": "code",
   "execution_count": 142,
   "outputs": [
    {
     "ename": "SyntaxError",
     "evalue": "keyword argument repeated: z (2988213027.py, line 1)",
     "output_type": "error",
     "traceback": [
      "\u001B[1;36m  Cell \u001B[1;32mIn[142], line 1\u001B[1;36m\u001B[0m\n\u001B[1;33m    mytest(1,z = 5, z = 6)\u001B[0m\n\u001B[1;37m                    ^\u001B[0m\n\u001B[1;31mSyntaxError\u001B[0m\u001B[1;31m:\u001B[0m keyword argument repeated: z\n"
     ]
    }
   ],
   "source": [
    "mytest(1,z = 5, z = 6)"
   ],
   "metadata": {
    "collapsed": false,
    "ExecuteTime": {
     "end_time": "2023-10-16T09:15:49.121498600Z",
     "start_time": "2023-10-16T09:15:49.086703400Z"
    }
   },
   "id": "1e9ab65f57ac9c2b"
  },
  {
   "cell_type": "code",
   "execution_count": 143,
   "outputs": [],
   "source": [
    "def hallo(**name):\n",
    "    print(name['lname'])"
   ],
   "metadata": {
    "collapsed": false,
    "ExecuteTime": {
     "end_time": "2023-10-16T09:17:17.088829400Z",
     "start_time": "2023-10-16T09:17:17.018531100Z"
    }
   },
   "id": "d4d788bfb0ed07e1"
  },
  {
   "cell_type": "code",
   "execution_count": 144,
   "outputs": [
    {
     "name": "stdout",
     "output_type": "stream",
     "text": [
      "Martienz\n"
     ]
    }
   ],
   "source": [
    "hallo(fname = 'Manuel', lname='Martienz')"
   ],
   "metadata": {
    "collapsed": false,
    "ExecuteTime": {
     "end_time": "2023-10-16T09:17:56.281738500Z",
     "start_time": "2023-10-16T09:17:56.191027900Z"
    }
   },
   "id": "73df5d6b089296b4"
  },
  {
   "cell_type": "code",
   "execution_count": null,
   "outputs": [],
   "source": [],
   "metadata": {
    "collapsed": false
   },
   "id": "e0c56ac8b2254e7f"
  }
 ],
 "metadata": {
  "kernelspec": {
   "display_name": "Python 3",
   "language": "python",
   "name": "python3"
  },
  "language_info": {
   "codemirror_mode": {
    "name": "ipython",
    "version": 2
   },
   "file_extension": ".py",
   "mimetype": "text/x-python",
   "name": "python",
   "nbconvert_exporter": "python",
   "pygments_lexer": "ipython2",
   "version": "2.7.6"
  }
 },
 "nbformat": 4,
 "nbformat_minor": 5
}
