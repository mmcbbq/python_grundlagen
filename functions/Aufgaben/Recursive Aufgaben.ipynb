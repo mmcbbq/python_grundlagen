{
 "cells": [
  {
   "cell_type": "markdown",
   "source": [
    "### Summe\n",
    "Berechne die Summe aller Zahlen von x - y"
   ],
   "metadata": {
    "collapsed": false
   },
   "id": "6c543c74e752a372"
  },
  {
   "cell_type": "code",
   "execution_count": 8,
   "outputs": [
    {
     "data": {
      "text/plain": "15"
     },
     "execution_count": 8,
     "metadata": {},
     "output_type": "execute_result"
    }
   ],
   "source": [
    "def summe(x,y):\n",
    "    count = 0\n",
    "    for zahl in range(x,y+1):\n",
    "        count += zahl\n",
    "    return count\n",
    "\n",
    "def summe_rec(x,y):\n",
    "    if x > y:\n",
    "        return 0\n",
    "    else:\n",
    "        return x + summe_rec(x+1,y)\n",
    "summe_rec(1,5)"
   ],
   "metadata": {
    "collapsed": false,
    "ExecuteTime": {
     "end_time": "2023-10-17T07:11:30.354627Z",
     "start_time": "2023-10-17T07:11:30.332473Z"
    }
   },
   "id": "f104437c46b5a61f"
  },
  {
   "cell_type": "markdown",
   "source": [
    "### Muster\n",
    "Schreib eine Schleife die folgendes Muster ausgibt\n",
    "    *\n",
    "    **\n",
    "    ***\n",
    "    ****\n",
    "    *****"
   ],
   "metadata": {
    "collapsed": false
   },
   "id": "b3f30525295bafcf"
  },
  {
   "cell_type": "code",
   "execution_count": 12,
   "outputs": [
    {
     "name": "stdout",
     "output_type": "stream",
     "text": [
      "*****\n",
      "****\n",
      "***\n",
      "**\n",
      "*\n"
     ]
    }
   ],
   "source": [
    "def sterne(zeichen,anzahl):\n",
    "    if  anzahl == 0:\n",
    "        return \n",
    "    \n",
    "    sterne(zeichen,anzahl-1)\n",
    "    print(zeichen*anzahl)\n",
    "    \n",
    "# sterne('*',3)\n",
    "# an = 3 -> 3 != 0 print *** -> sterne an = 3-1 pause\n",
    "# an = 2 -> 2 != 0 print(**) -> sterne(an = 2-1) pause\n",
    "# an = 1 -> 1 != 0 print(*) -> sterne(an = 1-1) pause\n",
    "# an = 0 0 = 0 -> stop \n",
    "# \n",
    "# an = 3 -> 3!=0 sterne an = 3-1 print(***)\n",
    "# an = 2 -> 2!=0 sterne an = 2-1 print(**)\n",
    "# an = 1 -> 1!=0 sterne an = 1-1 -> print(*)\n",
    "# an = 0 0==0 -y return\n",
    "\n",
    "\n"
   ],
   "metadata": {
    "collapsed": false,
    "ExecuteTime": {
     "end_time": "2023-10-17T07:16:02.146822100Z",
     "start_time": "2023-10-17T07:16:02.110885Z"
    }
   },
   "id": "ac5883ca0b07a6bc"
  },
  {
   "cell_type": "markdown",
   "source": [
    "Berechne die Potenz y einer Zahl x ohne den In Python vorhandenen Operator '**' zu benutzen.\n",
    "x = 5 , y = 3 ->5³ = 5 * 5 * 5"
   ],
   "metadata": {
    "collapsed": false
   },
   "id": "12549f7f11e5462f"
  },
  {
   "cell_type": "markdown",
   "source": [
    " Schreibe eine rekursive Funktion, die die Fibonacci-Folge bis zur n-ten Stelle berechnet.\n",
    " http://www.mat.uc.pt/~mat1164/FibonacciAN.html\n",
    " Die Fibonacci-Folge ist eine unendliche Folge von Zahlen (den Fibonacci-Zahlen), bei der sich die jeweils folgende Zahl durch Addition ihrer beiden vorherigen Zahlen ergibt:  1, 1, 2, 3, 5, 8, 13, … Benannt ist sie nach Leonardo Fibonacci, der damit 1202 das Wachstum einer Kaninchenpopulation beschrieb."
   ],
   "metadata": {
    "collapsed": false
   },
   "id": "4ae4009fb50563e3"
  },
  {
   "cell_type": "markdown",
   "source": [
    "5. Palindrom-Überprüfung\n",
    "Schreibe eine rekursive Funktion, um zu überprüfen, ob ein gegebener String ein Palindrom ist. Ein Palindrom ist ein Wort oder Satz, der vorwärts und rückwärts gleich gelesen werden kann."
   ],
   "metadata": {
    "collapsed": false
   },
   "id": "9e6dbb1bb7689465"
  },
  {
   "cell_type": "code",
   "execution_count": null,
   "outputs": [],
   "source": [
    "Rekursiver String-Abgleich\n",
    "Schreibe eine rekursive Funktion, die überprüft, ob zwei Strings gleich sind."
   ],
   "metadata": {
    "collapsed": false,
    "ExecuteTime": {
     "end_time": "2023-10-17T06:34:35.821410400Z",
     "start_time": "2023-10-17T06:34:35.766408100Z"
    }
   },
   "id": "b510c7125ee6509b"
  }
 ],
 "metadata": {
  "kernelspec": {
   "display_name": "Python 3",
   "language": "python",
   "name": "python3"
  },
  "language_info": {
   "codemirror_mode": {
    "name": "ipython",
    "version": 2
   },
   "file_extension": ".py",
   "mimetype": "text/x-python",
   "name": "python",
   "nbconvert_exporter": "python",
   "pygments_lexer": "ipython2",
   "version": "2.7.6"
  }
 },
 "nbformat": 4,
 "nbformat_minor": 5
}
