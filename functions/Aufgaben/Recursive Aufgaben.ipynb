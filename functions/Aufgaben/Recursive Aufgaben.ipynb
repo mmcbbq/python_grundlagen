{
 "cells": [
  {
   "cell_type": "markdown",
   "source": [
    "### Summe\n",
    "Berechne die Summe aller Zahlen von x - y"
   ],
   "metadata": {
    "collapsed": false
   },
   "id": "6c543c74e752a372"
  },
  {
   "cell_type": "code",
   "execution_count": 80,
   "outputs": [
    {
     "data": {
      "text/plain": "15"
     },
     "execution_count": 80,
     "metadata": {},
     "output_type": "execute_result"
    }
   ],
   "source": [
    "def summe(x,y):\n",
    "    count = 0\n",
    "    for zahl in range(x,y+1):\n",
    "        count += zahl\n",
    "    return count\n",
    "\n",
    "def summe_rec(x,y):\n",
    "    if x > y:\n",
    "        return 0\n",
    "    else:\n",
    "        return x + summe_rec(x+1,y)\n",
    "summe_rec(1,5)"
   ],
   "metadata": {
    "collapsed": false,
    "ExecuteTime": {
     "end_time": "2023-10-17T13:30:25.253439800Z",
     "start_time": "2023-10-17T13:30:25.065683Z"
    }
   },
   "id": "f104437c46b5a61f"
  },
  {
   "cell_type": "markdown",
   "source": [
    "### Muster\n",
    "Schreib eine Schleife die folgendes Muster ausgibt\n",
    "    *\n",
    "    **\n",
    "    ***\n",
    "    ****\n",
    "    *****"
   ],
   "metadata": {
    "collapsed": false
   },
   "id": "b3f30525295bafcf"
  },
  {
   "cell_type": "code",
   "execution_count": 81,
   "outputs": [],
   "source": [
    "def sterne(zeichen,anzahl):\n",
    "    if  anzahl == 0:\n",
    "        return \n",
    "    \n",
    "    sterne(zeichen,anzahl-1)\n",
    "    print(zeichen*anzahl)\n",
    "    \n",
    "# sterne('*',3)\n",
    "# an = 3 -> 3 != 0 print *** -> sterne an = 3-1 pause\n",
    "# an = 2 -> 2 != 0 print(**) -> sterne(an = 2-1) pause\n",
    "# an = 1 -> 1 != 0 print(*) -> sterne(an = 1-1) pause\n",
    "# an = 0 0 = 0 -> stop \n",
    "# \n",
    "# an = 3 -> 3!=0 sterne an = 3-1 print(***)\n",
    "# an = 2 -> 2!=0 sterne an = 2-1 print(**)\n",
    "# an = 1 -> 1!=0 sterne an = 1-1 -> print(*)\n",
    "# an = 0 0==0 -y return\n",
    "\n",
    "\n"
   ],
   "metadata": {
    "collapsed": false,
    "ExecuteTime": {
     "end_time": "2023-10-17T13:30:25.280448300Z",
     "start_time": "2023-10-17T13:30:25.073185400Z"
    }
   },
   "id": "ac5883ca0b07a6bc"
  },
  {
   "cell_type": "markdown",
   "source": [
    "Berechne die Potenz y einer Zahl x ohne den In Python vorhandenen Operator '**' zu benutzen.\n",
    "x = 5 , y = 3 ->5³ = 5 * 5 * 5"
   ],
   "metadata": {
    "collapsed": false
   },
   "id": "12549f7f11e5462f"
  },
  {
   "cell_type": "code",
   "execution_count": 82,
   "outputs": [
    {
     "data": {
      "text/plain": "125"
     },
     "execution_count": 82,
     "metadata": {},
     "output_type": "execute_result"
    }
   ],
   "source": [
    "def potenz(x,y):\n",
    "    if  y == 0 :\n",
    "        return 1\n",
    "    return x * potenz(x,y-1)\n",
    "potenz(5,3)"
   ],
   "metadata": {
    "collapsed": false,
    "ExecuteTime": {
     "end_time": "2023-10-17T13:30:25.303439400Z",
     "start_time": "2023-10-17T13:30:25.089911200Z"
    }
   },
   "id": "2e3fe8ed0abf265b"
  },
  {
   "cell_type": "markdown",
   "source": [
    " Schreibe eine rekursive Funktion, die die Fibonacci-Folge bis zur n-ten Stelle berechnet.\n",
    " http://www.mat.uc.pt/~mat1164/FibonacciAN.html\n",
    " Die Fibonacci-Folge ist eine unendliche Folge von Zahlen (den Fibonacci-Zahlen), bei der sich die jeweils folgende Zahl durch Addition ihrer beiden vorherigen Zahlen ergibt:  1, 1, 2, 3, 5, 8, 13, … Benannt ist sie nach Leonardo Fibonacci, der damit 1202 das Wachstum einer Kaninchenpopulation beschrieb."
   ],
   "metadata": {
    "collapsed": false
   },
   "id": "4ae4009fb50563e3"
  },
  {
   "cell_type": "code",
   "execution_count": 83,
   "outputs": [
    {
     "ename": "KeyboardInterrupt",
     "evalue": "",
     "output_type": "error",
     "traceback": [
      "\u001B[1;31m---------------------------------------------------------------------------\u001B[0m",
      "\u001B[1;31mKeyboardInterrupt\u001B[0m                         Traceback (most recent call last)",
      "Cell \u001B[1;32mIn[83], line 10\u001B[0m\n\u001B[0;32m      8\u001B[0m     \u001B[38;5;28;01melse\u001B[39;00m:\n\u001B[0;32m      9\u001B[0m         \u001B[38;5;28;01mreturn\u001B[39;00m fibo(n\u001B[38;5;241m-\u001B[39m\u001B[38;5;241m1\u001B[39m) \u001B[38;5;241m+\u001B[39m fibo(n\u001B[38;5;241m-\u001B[39m\u001B[38;5;241m2\u001B[39m) \n\u001B[1;32m---> 10\u001B[0m \u001B[43mfibo\u001B[49m\u001B[43m(\u001B[49m\u001B[38;5;241;43m50\u001B[39;49m\u001B[43m)\u001B[49m\n",
      "Cell \u001B[1;32mIn[83], line 9\u001B[0m, in \u001B[0;36mfibo\u001B[1;34m(n)\u001B[0m\n\u001B[0;32m      7\u001B[0m     \u001B[38;5;28;01mreturn\u001B[39;00m \u001B[38;5;241m1\u001B[39m\n\u001B[0;32m      8\u001B[0m \u001B[38;5;28;01melse\u001B[39;00m:\n\u001B[1;32m----> 9\u001B[0m     \u001B[38;5;28;01mreturn\u001B[39;00m \u001B[43mfibo\u001B[49m\u001B[43m(\u001B[49m\u001B[43mn\u001B[49m\u001B[38;5;241;43m-\u001B[39;49m\u001B[38;5;241;43m1\u001B[39;49m\u001B[43m)\u001B[49m \u001B[38;5;241m+\u001B[39m fibo(n\u001B[38;5;241m-\u001B[39m\u001B[38;5;241m2\u001B[39m)\n",
      "Cell \u001B[1;32mIn[83], line 9\u001B[0m, in \u001B[0;36mfibo\u001B[1;34m(n)\u001B[0m\n\u001B[0;32m      7\u001B[0m     \u001B[38;5;28;01mreturn\u001B[39;00m \u001B[38;5;241m1\u001B[39m\n\u001B[0;32m      8\u001B[0m \u001B[38;5;28;01melse\u001B[39;00m:\n\u001B[1;32m----> 9\u001B[0m     \u001B[38;5;28;01mreturn\u001B[39;00m \u001B[43mfibo\u001B[49m\u001B[43m(\u001B[49m\u001B[43mn\u001B[49m\u001B[38;5;241;43m-\u001B[39;49m\u001B[38;5;241;43m1\u001B[39;49m\u001B[43m)\u001B[49m \u001B[38;5;241m+\u001B[39m fibo(n\u001B[38;5;241m-\u001B[39m\u001B[38;5;241m2\u001B[39m)\n",
      "    \u001B[1;31m[... skipping similar frames: fibo at line 9 (37 times)]\u001B[0m\n",
      "Cell \u001B[1;32mIn[83], line 9\u001B[0m, in \u001B[0;36mfibo\u001B[1;34m(n)\u001B[0m\n\u001B[0;32m      7\u001B[0m     \u001B[38;5;28;01mreturn\u001B[39;00m \u001B[38;5;241m1\u001B[39m\n\u001B[0;32m      8\u001B[0m \u001B[38;5;28;01melse\u001B[39;00m:\n\u001B[1;32m----> 9\u001B[0m     \u001B[38;5;28;01mreturn\u001B[39;00m \u001B[43mfibo\u001B[49m\u001B[43m(\u001B[49m\u001B[43mn\u001B[49m\u001B[38;5;241;43m-\u001B[39;49m\u001B[38;5;241;43m1\u001B[39;49m\u001B[43m)\u001B[49m \u001B[38;5;241m+\u001B[39m fibo(n\u001B[38;5;241m-\u001B[39m\u001B[38;5;241m2\u001B[39m)\n",
      "Cell \u001B[1;32mIn[83], line 1\u001B[0m, in \u001B[0;36mfibo\u001B[1;34m(n)\u001B[0m\n\u001B[1;32m----> 1\u001B[0m \u001B[38;5;28;01mdef\u001B[39;00m \u001B[38;5;21mfibo\u001B[39m(n):\n\u001B[0;32m      2\u001B[0m     \u001B[38;5;28;01mif\u001B[39;00m n \u001B[38;5;241m<\u001B[39m\u001B[38;5;241m=\u001B[39m \u001B[38;5;241m0\u001B[39m :\n\u001B[0;32m      3\u001B[0m         \u001B[38;5;28;01mreturn\u001B[39;00m \u001B[38;5;124m'\u001B[39m\u001B[38;5;124mStay positiv\u001B[39m\u001B[38;5;124m'\u001B[39m\n",
      "\u001B[1;31mKeyboardInterrupt\u001B[0m: "
     ]
    }
   ],
   "source": [
    "def fibo(n):\n",
    "    if n <= 0 :\n",
    "        return 'Stay positiv'\n",
    "    elif n == 1:\n",
    "        return 0\n",
    "    elif n == 2:\n",
    "        return 1\n",
    "    else:\n",
    "        return fibo(n-1) + fibo(n-2) \n",
    "fibo(50)"
   ],
   "metadata": {
    "collapsed": false,
    "ExecuteTime": {
     "end_time": "2023-10-17T13:30:28.048731200Z",
     "start_time": "2023-10-17T13:30:25.107433800Z"
    }
   },
   "id": "6f4ec0c5d81c53a2"
  },
  {
   "cell_type": "code",
   "execution_count": null,
   "outputs": [],
   "source": [
    "def fibo_ita(n):\n",
    "    fib_list = [0,1]\n",
    "    for zahl in range(2,n+1):     \n",
    "        fib_list.append(fib_list[zahl-2]+fib_list[zahl-1])\n",
    "    return fib_list\n",
    "fibo_ita(500)#12 586 269 025"
   ],
   "metadata": {
    "collapsed": false,
    "ExecuteTime": {
     "start_time": "2023-10-17T13:30:28.050725500Z"
    }
   },
   "id": "6ce4eba1524afbe5"
  },
  {
   "cell_type": "markdown",
   "source": [
    "5. Palindrom-Überprüfung\n",
    "Schreibe eine rekursive Funktion, um zu überprüfen, ob ein gegebener String ein Palindrom ist. Ein Palindrom ist ein Wort oder Satz, der vorwärts und rückwärts gleich gelesen werden kann."
   ],
   "metadata": {
    "collapsed": false
   },
   "id": "9e6dbb1bb7689465"
  },
  {
   "cell_type": "markdown",
   "source": [
    "Otto anna abba burggrub ehe hangnah Reliefpfeiler rentner"
   ],
   "metadata": {
    "collapsed": false
   },
   "id": "384d718fd5c950d5"
  },
  {
   "cell_type": "code",
   "execution_count": null,
   "outputs": [],
   "source": [
    "def palin(word):\n",
    "    word = word.upper()\n",
    "    if len(word) >= 1:     \n",
    "        if word[0] == word[-1]:\n",
    "            return palin(word[1:-1])\n",
    "        elif word[0] != word[-1]:\n",
    "            return False\n",
    "    return True    \n",
    "palin(1)   "
   ],
   "metadata": {
    "collapsed": false,
    "ExecuteTime": {
     "end_time": "2023-10-17T13:30:28.053716700Z",
     "start_time": "2023-10-17T13:30:28.052730500Z"
    }
   },
   "id": "dd89e41bf010ecd0"
  },
  {
   "cell_type": "markdown",
   "source": [
    "Rekursiver String-Abgleich\n",
    "Schreibe eine rekursive Funktion, die überprüft, ob zwei Strings gleich sind."
   ],
   "metadata": {
    "collapsed": false
   },
   "id": "cdb374f82f886663"
  },
  {
   "cell_type": "code",
   "execution_count": null,
   "outputs": [],
   "source": [
    "def string_vergleich(word1,word2):\n",
    "    if len(word1) != len(word2):\n",
    "        return False\n",
    "    if len(word1) >= 1:     \n",
    "        if word1[0] == word2[0]:\n",
    "            return string_vergleich(word1[1:],word2[1:])\n",
    "        elif word1[0] != word2[0]:\n",
    "            return False\n",
    "    return True   \n",
    "string_vergleich('Hello','HelLo')"
   ],
   "metadata": {
    "collapsed": false,
    "ExecuteTime": {
     "start_time": "2023-10-17T13:30:28.054727500Z"
    }
   },
   "id": "b001d3e9be46713d"
  },
  {
   "cell_type": "code",
   "execution_count": null,
   "outputs": [],
   "source": [
    "def zinsen_ita(kapital,zinsen,jahre):\n",
    "    \n",
    "    for jahr in range(1,jahre+1):\n",
    "        kapital += kapital * (zinsen/100)\n",
    "    return kapital\n",
    "zinsen_ita(1000,4,10)"
   ],
   "metadata": {
    "collapsed": false,
    "ExecuteTime": {
     "start_time": "2023-10-17T13:30:28.056718500Z"
    }
   },
   "id": "eadb0e4c9024b0cc"
  },
  {
   "cell_type": "code",
   "execution_count": null,
   "outputs": [],
   "source": [],
   "metadata": {
    "collapsed": false,
    "ExecuteTime": {
     "start_time": "2023-10-17T13:30:28.059721400Z"
    }
   },
   "id": "802ffeea48bb1442"
  }
 ],
 "metadata": {
  "kernelspec": {
   "display_name": "Python 3",
   "language": "python",
   "name": "python3"
  },
  "language_info": {
   "codemirror_mode": {
    "name": "ipython",
    "version": 2
   },
   "file_extension": ".py",
   "mimetype": "text/x-python",
   "name": "python",
   "nbconvert_exporter": "python",
   "pygments_lexer": "ipython2",
   "version": "2.7.6"
  }
 },
 "nbformat": 4,
 "nbformat_minor": 5
}
