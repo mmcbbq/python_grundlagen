{
 "cells": [
  {
   "cell_type": "code",
   "execution_count": null,
   "id": "initial_id",
   "metadata": {
    "collapsed": true
   },
   "outputs": [],
   "source": [
    "\n",
    "var = True\n",
    "while var :\n",
    "    try:\n",
    "        frage = int(input('Wie alt bist du?'))\n",
    "        if frage >= 18:\n",
    "            print('Hallo komm rein')\n",
    "            var = False\n",
    "        else:\n",
    "            print('Du musst noch warten')\n",
    "    except ValueError as error:\n",
    "        print('Schreib eine Zahl')\n",
    "            "
   ]
  },
  {
   "cell_type": "code",
   "execution_count": 56,
   "outputs": [
    {
     "name": "stdout",
     "output_type": "stream",
     "text": [
      "[80.0, 40.0, 26.666666666666668, 20.0, 6.666666666666667, 80, 16.0, 1.2307692307692308]\n"
     ]
    }
   ],
   "source": [
    "import datetime\n",
    "liste =[1,2,3,True,4,'12',0,None,'Manuel',5,True,False,'65','fgfd',None]\n",
    "filter_list = []\n",
    "def changeelment(x):\n",
    "    return  80/x\n",
    "def error_log(error,stelle):\n",
    "    datei = open('error_log.txt','a')\n",
    "    datei.write(f'({datetime.datetime.now().strftime(\"%Y %B %A %d %H:%M:%S \")}) {stelle}: {error.__str__()}\\n')\n",
    "    datei.close()    \n",
    "for x in range(0,20):\n",
    "    try:        \n",
    "        assert  (type(liste[x]) != bool and liste[x] is not None ), 'Ist True oder False oder None'\n",
    "        # assert (liste[x] is not None), 'Ist None'\n",
    "        filter_list.append(changeelment(liste[x]))\n",
    "    except IndexError as error:   \n",
    "        error_log(error,x)\n",
    "        break\n",
    "    except AssertionError as error:   \n",
    "        error_log(error,x)\n",
    "        continue\n",
    "    except TypeError as error:\n",
    "        error_log(error,x)\n",
    "        try:\n",
    "            liste[x] = int(liste[x])     \n",
    "            filter_list.append(changeelment(liste[x]))\n",
    "        except ValueError as error: \n",
    "            error_log(error,x)\n",
    "            \n",
    "            continue      \n",
    "    except ZeroDivisionError as error:\n",
    "        error_log(error,x)\n",
    "        filter_list.append(80)\n",
    "    except:\n",
    "        datei = open('error_log.txt','a')\n",
    "        datei.write(f'{x}: Unbekannt\\n')\n",
    "        datei.close()\n",
    "        continue\n",
    "\n",
    "print(filter_list)"
   ],
   "metadata": {
    "collapsed": false,
    "ExecuteTime": {
     "end_time": "2023-10-18T12:50:19.583019100Z",
     "start_time": "2023-10-18T12:50:19.572982Z"
    }
   },
   "id": "ab17000ec2bc2a11"
  },
  {
   "cell_type": "code",
   "execution_count": 57,
   "outputs": [],
   "source": [
    "for x in range(100):\n",
    "    datei = open('feierabend.txt','a')\n",
    "    datei.write(f'Ich will Feierabend haben\\n')\n",
    "    datei.close()"
   ],
   "metadata": {
    "collapsed": false,
    "ExecuteTime": {
     "end_time": "2023-10-18T12:54:45.535404400Z",
     "start_time": "2023-10-18T12:54:45.502428600Z"
    }
   },
   "id": "e3eb92313cccfffb"
  },
  {
   "cell_type": "code",
   "execution_count": null,
   "outputs": [],
   "source": [],
   "metadata": {
    "collapsed": false
   },
   "id": "b3ee5ca670cb0fd9"
  },
  {
   "cell_type": "markdown",
   "source": [
    "Schreiben Sie eine Funktion, die zwei Zahlen vom Benutzer einliest und sie durch einander teilt. Verwenden Sie try und except, um Division durch Null abzufangen."
   ],
   "metadata": {
    "collapsed": false
   },
   "id": "d550e1124c29851b"
  },
  {
   "cell_type": "code",
   "execution_count": 61,
   "outputs": [
    {
     "name": "stdout",
     "output_type": "stream",
     "text": [
      "Man kann nicht durch Null teilen\n"
     ]
    }
   ],
   "source": [
    "zahl1 = int(input('Gib eine Zahl ein'))\n",
    "zahl2 = int(input('Durch was soll die Zahl geteilt werden'))\n",
    "try:\n",
    "    print(zahl1/zahl2)\n",
    "except ZeroDivisionError as error:\n",
    "    print('Man kann nicht durch Null teilen')\n",
    "    "
   ],
   "metadata": {
    "collapsed": false,
    "ExecuteTime": {
     "end_time": "2023-10-18T13:09:03.994257700Z",
     "start_time": "2023-10-18T13:09:00.568652300Z"
    }
   },
   "id": "f81d93fe46029cab"
  },
  {
   "cell_type": "markdown",
   "source": [
    "Schreiben Sie eine Funktion, die den Benutzer nach einem Index fragt und dann versucht, auf diesen Index in einer Liste zuzugreifen. Verwenden Sie try und except, um Indexfehler zu behandeln."
   ],
   "metadata": {
    "collapsed": false
   },
   "id": "8ce8ef82ded584af"
  },
  {
   "cell_type": "code",
   "execution_count": 64,
   "outputs": [
    {
     "name": "stdout",
     "output_type": "stream",
     "text": [
      "Die Liste ist zu Kurz\n"
     ]
    }
   ],
   "source": [
    "liste = ['eins','zwei','drei','vier']\n",
    "index = int(input('Gib einen Index an.'))\n",
    "try:\n",
    "    print(liste[index])\n",
    "except IndexError as error:\n",
    "    print('Die Liste ist zu Kurz')"
   ],
   "metadata": {
    "collapsed": false,
    "ExecuteTime": {
     "end_time": "2023-10-18T13:12:03.587333Z",
     "start_time": "2023-10-18T13:12:01.984701700Z"
    }
   },
   "id": "3d70237d54c2d509"
  },
  {
   "cell_type": "markdown",
   "source": [
    "Schreiben Sie eine Funktion, die den Benutzer nach einer Zeichenfolge fragt und versucht, sie in eine Ganzzahl umzuwandeln. Verwenden Sie try und except, um Fehler bei der Umwandlung abzufangen."
   ],
   "metadata": {
    "collapsed": false
   },
   "id": "bca5b60988007313"
  },
  {
   "cell_type": "code",
   "execution_count": 69,
   "outputs": [
    {
     "name": "stdout",
     "output_type": "stream",
     "text": [
      "Gib eine Zahl an\n"
     ]
    }
   ],
   "source": [
    "zahl2 = input('Gib eine Zahl ein')\n",
    "try:\n",
    "    print(int(zahl2))\n",
    "except Exception as error:\n",
    "    print('Gib eine Zahl an')"
   ],
   "metadata": {
    "collapsed": false,
    "ExecuteTime": {
     "end_time": "2023-10-18T13:14:30.854318500Z",
     "start_time": "2023-10-18T13:14:27.977181200Z"
    }
   },
   "id": "833f80c136b3f073"
  },
  {
   "cell_type": "code",
   "execution_count": null,
   "outputs": [],
   "source": [],
   "metadata": {
    "collapsed": false
   },
   "id": "8a1062c40a2c16e6"
  }
 ],
 "metadata": {
  "kernelspec": {
   "display_name": "Python 3",
   "language": "python",
   "name": "python3"
  },
  "language_info": {
   "codemirror_mode": {
    "name": "ipython",
    "version": 2
   },
   "file_extension": ".py",
   "mimetype": "text/x-python",
   "name": "python",
   "nbconvert_exporter": "python",
   "pygments_lexer": "ipython2",
   "version": "2.7.6"
  }
 },
 "nbformat": 4,
 "nbformat_minor": 5
}
