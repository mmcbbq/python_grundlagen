{
 "cells": [
  {
   "cell_type": "code",
   "execution_count": 52,
   "id": "initial_id",
   "metadata": {
    "collapsed": true,
    "ExecuteTime": {
     "end_time": "2023-10-17T13:30:32.166410800Z",
     "start_time": "2023-10-17T13:30:32.066048200Z"
    }
   },
   "outputs": [],
   "source": [
    "import mysql.connector"
   ]
  },
  {
   "cell_type": "code",
   "execution_count": 53,
   "outputs": [
    {
     "name": "stdout",
     "output_type": "stream",
     "text": [
      "<mysql.connector.connection_cext.CMySQLConnection object at 0x0000023DFFF67310>\n"
     ]
    }
   ],
   "source": [
    "mydb = mysql.connector.connect(\n",
    "  host=\"localhost\",\n",
    "  user=\"root\",\n",
    "  password=\"\",\n",
    "  database=\"ap1_2023_herbst\"\n",
    ")\n",
    "print(mydb)"
   ],
   "metadata": {
    "collapsed": false,
    "ExecuteTime": {
     "end_time": "2023-10-17T13:30:32.204405400Z",
     "start_time": "2023-10-17T13:30:32.072048200Z"
    }
   },
   "id": "a3fd1da82f404b2"
  },
  {
   "cell_type": "code",
   "execution_count": 54,
   "outputs": [
    {
     "name": "stdout",
     "output_type": "stream",
     "text": [
      "<class 'tuple'>\n"
     ]
    }
   ],
   "source": [
    "mycursor = mydb.cursor()\n",
    "mycursor.execute(\"SELECT * FROM kunde;\")\n",
    "myresult = mycursor.fetchall()\n",
    "print(type(myresult[0]))"
   ],
   "metadata": {
    "collapsed": false,
    "ExecuteTime": {
     "end_time": "2023-10-17T13:30:32.205411100Z",
     "start_time": "2023-10-17T13:30:32.083838500Z"
    }
   },
   "id": "a152f46f6817ca54"
  },
  {
   "cell_type": "code",
   "execution_count": 55,
   "outputs": [
    {
     "name": "stdout",
     "output_type": "stream",
     "text": [
      "['Daniela Stein B.Eng.', 'Simon Lechner', 'Emine Fleischer', 'Theo Barthel', 'Frau Prof. Gundula Auer B.Eng.', 'Frau Prof. Nora Bühler B.Eng.', 'Mathilde Stoll', 'Frau Prof. Marie-Luise Rau MBA.', 'John Reimer', 'Frau Kati Janßen', 'Sandra Fink', 'Liesbeth Wenzel-Kirchner', 'Frau Prof. Marlis Sommer', 'Gernot Schweizer', 'Karina Berger', 'Herr Dr. Juergen Kunz', 'Magdalene Möller', 'Boris Kaufmann-Krieger', 'Luzia Scherer', 'Frau Traudel Voß', 'Karen Förster-Weiß', 'Johanna Haas', 'Herr Prof. Dr. Dietmar Scheffler B.Sc.', 'Ingeburg Kraft', 'Birgitt Albrecht', 'Harry Schindler-Schlüter', 'Karl-Josef Lemke', 'Herr Prof. Franco Reichert', 'Herr Prof. Meinolf Henke B.Eng.', 'Denis Nagel-Frey']\n"
     ]
    }
   ],
   "source": [
    "name_list = []\n",
    "myresult[0][1]\n",
    "for zeile in myresult:\n",
    "  name_list.append(zeile[1])\n",
    "print(name_list)"
   ],
   "metadata": {
    "collapsed": false,
    "ExecuteTime": {
     "end_time": "2023-10-17T13:30:32.206394400Z",
     "start_time": "2023-10-17T13:30:32.096514600Z"
    }
   },
   "id": "cbf36aab58d862ad"
  },
  {
   "cell_type": "code",
   "execution_count": 56,
   "outputs": [
    {
     "name": "stdout",
     "output_type": "stream",
     "text": [
      "{'a': 41, 'b': 14, 'c': 12, 'd': 11, 'e': 68, 'f': 24, 'g': 14, 'h': 24, 'i': 28, 'j': 5, 'k': 12, 'l': 26, 'm': 15, 'n': 35, 'o': 20, 'p': 7, 'q': 0, 'r': 69, 's': 20, 't': 17, 'u': 17, 'v': 1, 'w': 3, 'x': 0, 'y': 2, 'z': 4}\n"
     ]
    }
   ],
   "source": [
    "buchstaben = {\n",
    "    \"a\": 0,\n",
    "    \"b\": 0,\n",
    "    \"c\": 0,\n",
    "    \"d\": 0,\n",
    "    \"e\": 0,\n",
    "    \"f\": 0,\n",
    "    \"g\": 0,\n",
    "    \"h\": 0,\n",
    "    \"i\": 0,\n",
    "    \"j\": 0,\n",
    "    \"k\": 0,\n",
    "    \"l\": 0,\n",
    "    \"m\": 0,\n",
    "    \"n\": 0,\n",
    "    \"o\": 0,\n",
    "    \"p\": 0,\n",
    "    \"q\": 0,\n",
    "    \"r\": 0,\n",
    "    \"s\": 0,\n",
    "    \"t\": 0,\n",
    "    \"u\": 0,\n",
    "    \"v\": 0,\n",
    "    \"w\": 0,\n",
    "    \"x\": 0,\n",
    "    \"y\": 0,\n",
    "    \"z\": 0,\n",
    "}\n",
    "\n",
    "for name in name_list:\n",
    "    for b in name:\n",
    "        if b.lower() not in(buchstaben.keys())  :\n",
    "            \n",
    "            continue\n",
    "        else:\n",
    "            \n",
    "            buchstaben[b.lower()] = buchstaben[b.lower()] +1\n",
    "print(buchstaben)"
   ],
   "metadata": {
    "collapsed": false,
    "ExecuteTime": {
     "end_time": "2023-10-17T13:30:32.206394400Z",
     "start_time": "2023-10-17T13:30:32.104068800Z"
    }
   },
   "id": "6f9bd6fa7e9a11ab"
  },
  {
   "cell_type": "code",
   "execution_count": 57,
   "outputs": [
    {
     "data": {
      "text/plain": "<Figure size 640x480 with 1 Axes>",
      "image/png": "[encoded data removed]"
     },
     "metadata": {},
     "output_type": "display_data"
    }
   ],
   "source": [
    "import matplotlib.pyplot as plt\n",
    "plt.bar(buchstaben.keys(), buchstaben.values())\n",
    "plt.xlabel('Wert')\n",
    "plt.ylabel('Anzahl')\n",
    "plt.show()"
   ],
   "metadata": {
    "collapsed": false,
    "ExecuteTime": {
     "end_time": "2023-10-17T13:30:32.317749900Z",
     "start_time": "2023-10-17T13:30:32.110400400Z"
    }
   },
   "id": "ef2b11ca661db681"
  },
  {
   "cell_type": "code",
   "execution_count": 57,
   "outputs": [],
   "source": [],
   "metadata": {
    "collapsed": false,
    "ExecuteTime": {
     "end_time": "2023-10-17T13:30:32.317749900Z",
     "start_time": "2023-10-17T13:30:32.262889600Z"
    }
   },
   "id": "ff299881a1e63c0c"
  }
 ],
 "metadata": {
  "kernelspec": {
   "display_name": "Python 3",
   "language": "python",
   "name": "python3"
  },
  "language_info": {
   "codemirror_mode": {
    "name": "ipython",
    "version": 2
   },
   "file_extension": ".py",
   "mimetype": "text/x-python",
   "name": "python",
   "nbconvert_exporter": "python",
   "pygments_lexer": "ipython2",
   "version": "2.7.6"
  }
 },
 "nbformat": 4,
 "nbformat_minor": 5
}
