{
 "cells": [
  {
   "cell_type": "code",
   "execution_count": 1,
   "id": "initial_id",
   "metadata": {
    "collapsed": true,
    "ExecuteTime": {
     "end_time": "2023-10-16T09:43:44.289772700Z",
     "start_time": "2023-10-16T09:43:44.284753100Z"
    }
   },
   "outputs": [],
   "source": [
    "def fakultaet(zahl): # zahl = 6 -> 1x2x3x4x5x6:\n",
    "    count = 1\n",
    "    for x in range(1,zahl+1):\n",
    "        count *= x\n",
    "    return count"
   ]
  },
  {
   "cell_type": "code",
   "execution_count": 3,
   "outputs": [
    {
     "data": {
      "text/plain": "126886932185884164103433389335161480802865516174545192198801894375214704230400000000000000"
     },
     "execution_count": 3,
     "metadata": {},
     "output_type": "execute_result"
    }
   ],
   "source": [
    "fakultaet(64)"
   ],
   "metadata": {
    "collapsed": false,
    "ExecuteTime": {
     "end_time": "2023-10-16T09:44:12.851698Z",
     "start_time": "2023-10-16T09:44:12.833489Z"
    }
   },
   "id": "21305e1323cade27"
  },
  {
   "cell_type": "code",
   "execution_count": 6,
   "outputs": [
    {
     "data": {
      "text/plain": "720"
     },
     "execution_count": 6,
     "metadata": {},
     "output_type": "execute_result"
    }
   ],
   "source": [
    "def fakultaet_rec(zahl):\n",
    "    if zahl <= 1:\n",
    "        return 1\n",
    "    else:\n",
    "        count = zahl * fakultaet_rec(zahl-1)\n",
    "        return count\n",
    "fakultaet_rec(6)\n",
    "\n",
    "\n",
    "    \n",
    "    "
   ],
   "metadata": {
    "collapsed": false,
    "ExecuteTime": {
     "end_time": "2023-10-16T09:57:40.460500400Z",
     "start_time": "2023-10-16T09:57:40.431662900Z"
    }
   },
   "id": "64037e80f115834e"
  },
  {
   "cell_type": "code",
   "execution_count": 8,
   "outputs": [],
   "source": [
    "def digital_sum(zahl):\n",
    "    zahl = str(zahl) # 1123 -> '1123'\n",
    "    count = 0\n",
    "    for stelle in zahl:\n",
    "        stelle = int(stelle)\n",
    "        count += stelle\n",
    "    return count\n",
    "        \n",
    "    \n",
    "    "
   ],
   "metadata": {
    "collapsed": false,
    "ExecuteTime": {
     "end_time": "2023-10-16T10:04:54.429396400Z",
     "start_time": "2023-10-16T10:04:54.409187400Z"
    }
   },
   "id": "62a217cd433cc44f"
  },
  {
   "cell_type": "code",
   "execution_count": 10,
   "outputs": [
    {
     "data": {
      "text/plain": "12"
     },
     "execution_count": 10,
     "metadata": {},
     "output_type": "execute_result"
    }
   ],
   "source": [
    "digital_sum(2019)"
   ],
   "metadata": {
    "collapsed": false,
    "ExecuteTime": {
     "end_time": "2023-10-16T10:05:26.868217100Z",
     "start_time": "2023-10-16T10:05:26.836424100Z"
    }
   },
   "id": "f9a9da0dedb5bc51"
  },
  {
   "cell_type": "code",
   "execution_count": 15,
   "outputs": [
    {
     "data": {
      "text/plain": "76"
     },
     "execution_count": 15,
     "metadata": {},
     "output_type": "execute_result"
    }
   ],
   "source": [
    "def digital_sum(zahl):\n",
    "    zahl = str(zahl) # 1123 -> '1123'#\n",
    "    if len(zahl[1:]) > 0:\n",
    "        return int(zahl[0]) + digital_sum(zahl[1:])\n",
    "    else:\n",
    "        return int(zahl[0])\n",
    "\n",
    "digital_sum(898989898)\n",
    "\n",
    "\n",
    "    \n",
    "    "
   ],
   "metadata": {
    "collapsed": false,
    "ExecuteTime": {
     "end_time": "2023-10-16T10:23:20.660288400Z",
     "start_time": "2023-10-16T10:23:20.646307100Z"
    }
   },
   "id": "52b960181fd85943"
  },
  {
   "cell_type": "code",
   "execution_count": 22,
   "outputs": [
    {
     "name": "stdout",
     "output_type": "stream",
     "text": [
      "5\n",
      "16\n",
      "8\n",
      "4\n",
      "2\n",
      "1\n"
     ]
    }
   ],
   "source": [
    "def hailstone(n):\n",
    "    \n",
    "    while n > 1:\n",
    "        print(n)\n",
    "        if n%2 == 0:\n",
    "            n = n//2\n",
    "        elif n%2 != 0:\n",
    "            n = 3*n+1\n",
    "    print(n) \n",
    "hailstone(5)"
   ],
   "metadata": {
    "collapsed": false,
    "ExecuteTime": {
     "end_time": "2023-10-16T12:13:56.972438700Z",
     "start_time": "2023-10-16T12:13:56.941957500Z"
    }
   },
   "id": "467be465b744a63b"
  },
  {
   "cell_type": "code",
   "execution_count": 2,
   "outputs": [
    {
     "name": "stdout",
     "output_type": "stream",
     "text": [
      "5\n",
      "16\n",
      "8\n",
      "4\n",
      "2\n",
      "1\n"
     ]
    }
   ],
   "source": [
    "def hailstone(n):\n",
    "    print(n)\n",
    "    if n == 1:\n",
    "        return 1\n",
    "    elif n%2 == 0:\n",
    "        n = n//2\n",
    "    elif n%2 != 0:\n",
    "        n = 3*n+1  \n",
    "    hailstone(n)\n",
    "\n",
    "test = hailstone(5)"
   ],
   "metadata": {
    "collapsed": false,
    "ExecuteTime": {
     "end_time": "2023-10-17T05:52:38.504495800Z",
     "start_time": "2023-10-17T05:52:38.463862Z"
    }
   },
   "id": "b995186c01f4c3d8"
  },
  {
   "cell_type": "code",
   "execution_count": null,
   "outputs": [],
   "source": [],
   "metadata": {
    "collapsed": false
   },
   "id": "bec0d4babdb3833c"
  }
 ],
 "metadata": {
  "kernelspec": {
   "display_name": "Python 3",
   "language": "python",
   "name": "python3"
  },
  "language_info": {
   "codemirror_mode": {
    "name": "ipython",
    "version": 2
   },
   "file_extension": ".py",
   "mimetype": "text/x-python",
   "name": "python",
   "nbconvert_exporter": "python",
   "pygments_lexer": "ipython2",
   "version": "2.7.6"
  }
 },
 "nbformat": 4,
 "nbformat_minor": 5
}
