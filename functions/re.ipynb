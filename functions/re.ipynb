{
 "cells": [
  {
   "cell_type": "code",
   "execution_count": 1,
   "id": "initial_id",
   "metadata": {
    "collapsed": true,
    "ExecuteTime": {
     "end_time": "2023-10-16T13:36:35.506109400Z",
     "start_time": "2023-10-16T13:36:35.496801700Z"
    }
   },
   "outputs": [
    {
     "data": {
      "text/plain": "30"
     },
     "execution_count": 1,
     "metadata": {},
     "output_type": "execute_result"
    }
   ],
   "source": [
    "liste = [1,2,[4,5,6,[2,3,6],1]]\n",
    "def mysum_recursive(liste):\n",
    "    count = 0\n",
    "    for ele in liste:\n",
    "        if type(ele) == int:\n",
    "            count += ele\n",
    "        elif type(ele) == list:\n",
    "            count += mysum_recursive(ele)\n",
    "    return count\n",
    "    # ele -> 1 count = 0+1\n",
    "    # ele -> 2 count = 1+2\n",
    "    # ele -> [4,5,6,[2,3,6],1] -> count = 3 + mysum_rec([4,5,6,[2,3,6],1])\n",
    "                                            # ele -> 4 count = 0 + 4\n",
    "                                            # ele -> 5 count = 4 + 5\n",
    "                                            # ele -> 6 count = 9 +6\n",
    "                                            # ele -> [2,3,6] count = 15 + mysum_rec([2,3,6])\n",
    "                                                                        # ele -> 2 count = 0 + 2\n",
    "                                                                        # ele -> 3 count = 2 + 3\n",
    "                                                                        # ele -> 6 count = 5 + 6  ---> return 5 + 6 = 11\n",
    "                                                            #count = 15 + mysum_rec([2,3,6] -> 11) --->  15 + 11 = 26\n",
    "    \n",
    "                                    #count = 3 + mysum_rec([4,5,6,[2,3,6],1])  -> 3 + 26 = 29\n",
    "                                     # ele -> 1 count 29 + 1 ----> return 30   \n",
    "mysum_recursive(liste)                                                            "
   ]
  },
  {
   "cell_type": "code",
   "execution_count": null,
   "outputs": [],
   "source": [],
   "metadata": {
    "collapsed": false
   },
   "id": "27885f8772a3957d"
  }
 ],
 "metadata": {
  "kernelspec": {
   "display_name": "Python 3",
   "language": "python",
   "name": "python3"
  },
  "language_info": {
   "codemirror_mode": {
    "name": "ipython",
    "version": 2
   },
   "file_extension": ".py",
   "mimetype": "text/x-python",
   "name": "python",
   "nbconvert_exporter": "python",
   "pygments_lexer": "ipython2",
   "version": "2.7.6"
  }
 },
 "nbformat": 4,
 "nbformat_minor": 5
}
