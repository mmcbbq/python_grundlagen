{
 "cells": [
  {
   "cell_type": "code",
   "execution_count": 2,
   "outputs": [],
   "source": [
    "import time\n",
    "\n",
    "numbers = [65, 44, 77, 58, 38, 56, 77, 91, 18, 57, 67, 84, 12, 66, 43, 7, 53, 76, 66, 11, 44, 26, 34, 61, 98, 13, 55, 46, 29, 9, 78, 85, 14, 86, 18, 4, 98, 98, 10, 70, 32, 98, 83, 70, 24, 6, 30, 6, 98, 34, 81, 2, 96, 21, 4, 6, 84, 20, 39, 59, 3, 84, 71, 30, 29, 27, 25, 21, 68, 76, 70, 57, 98, 53, 84, 63, 34, 26, 40, 38, 71, 92, 64, 78, 9, 1, 30, 25, 70, 85, 11, 77, 31, 41, 23, 59, 100, 45, 5, 94]"
   ],
   "metadata": {
    "collapsed": false,
    "ExecuteTime": {
     "end_time": "2023-10-09T08:46:49.747240100Z",
     "start_time": "2023-10-09T08:46:49.719586400Z"
    }
   },
   "id": "c882a3d8a60e5944"
  },
  {
   "cell_type": "markdown",
   "source": [
    "Gebe alle Zahlen aus die kleiner gleich 50 sind"
   ],
   "metadata": {
    "collapsed": false
   },
   "id": "e889badb778fa9f"
  },
  {
   "cell_type": "code",
   "execution_count": 3,
   "outputs": [
    {
     "name": "stdout",
     "output_type": "stream",
     "text": [
      "44\n",
      "38\n",
      "18\n",
      "12\n",
      "43\n",
      "7\n",
      "11\n",
      "44\n",
      "26\n",
      "34\n",
      "13\n",
      "46\n",
      "29\n",
      "9\n",
      "14\n",
      "18\n",
      "4\n",
      "10\n",
      "32\n",
      "24\n",
      "6\n",
      "30\n",
      "6\n",
      "34\n",
      "2\n",
      "21\n",
      "4\n",
      "6\n",
      "20\n",
      "39\n",
      "3\n",
      "30\n",
      "29\n",
      "27\n",
      "25\n",
      "21\n",
      "34\n",
      "26\n",
      "40\n",
      "38\n",
      "9\n",
      "1\n",
      "30\n",
      "25\n",
      "11\n",
      "31\n",
      "41\n",
      "23\n",
      "45\n",
      "5\n"
     ]
    }
   ],
   "source": [
    "for x in numbers:\n",
    "    if x <= 50:\n",
    "        print(x)"
   ],
   "metadata": {
    "collapsed": false,
    "ExecuteTime": {
     "end_time": "2023-10-09T08:46:51.447369800Z",
     "start_time": "2023-10-09T08:46:51.430827800Z"
    }
   },
   "id": "8a8535cae6363250"
  },
  {
   "cell_type": "markdown",
   "source": [
    "Die Anzahl der Zahlen die 30 <= und >=70 sind "
   ],
   "metadata": {
    "collapsed": false
   },
   "id": "a6c64b4ec54d840e"
  },
  {
   "cell_type": "code",
   "execution_count": null,
   "outputs": [],
   "source": [
    "for x in numbers:"
   ],
   "metadata": {
    "collapsed": false
   },
   "id": "43336bf6a4958169"
  },
  {
   "cell_type": "markdown",
   "source": [
    "Gebe alle zahlen die grade durch 5 teilbar sind aus (modulo = 0)"
   ],
   "metadata": {
    "collapsed": false
   },
   "id": "98110ab444ab4c75"
  },
  {
   "cell_type": "code",
   "execution_count": null,
   "outputs": [],
   "source": [],
   "metadata": {
    "collapsed": false
   },
   "id": "7447b93ee4cb44f4"
  },
  {
   "cell_type": "markdown",
   "source": [
    "Erstelle eine Liste (sieben) mit allen Zahlen die grade durch 7 teilbar sind aus in eine Liste"
   ],
   "metadata": {
    "collapsed": false
   },
   "id": "ccdfb4bc7af5bd8f"
  },
  {
   "cell_type": "code",
   "execution_count": null,
   "outputs": [],
   "source": [],
   "metadata": {
    "collapsed": false
   },
   "id": "69f0020590144a"
  },
  {
   "cell_type": "code",
   "execution_count": null,
   "outputs": [],
   "source": [
    "list1 = [22, 27, 31, 19, 47, 89, 22, 79, 26, 27]\n",
    "list2 = [71, 6, 47, 19, 94, 71, 22, 59, 19, 64]\n",
    "list3 = [19, 14, 34, 86, 86, 31, 97, 6, 21, 21]\n",
    "nested_list = [ list1,list2,list3]"
   ],
   "metadata": {
    "collapsed": false
   },
   "id": "688ba4b694a09365"
  },
  {
   "cell_type": "markdown",
   "source": [
    "Die Anzahl der Zahl 19 in nested_list"
   ],
   "metadata": {
    "collapsed": false
   },
   "id": "8de29a116316e49e"
  },
  {
   "cell_type": "code",
   "execution_count": null,
   "outputs": [],
   "source": [],
   "metadata": {
    "collapsed": false
   },
   "id": "a03e5b77841c7a93"
  },
  {
   "cell_type": "markdown",
   "source": [
    "### Erstelle drei Listen (kl33, zw33_66 und gr66). Sortiere Alle Zahlen aus dem nested_list in die passende Liste "
   ],
   "metadata": {
    "collapsed": false
   },
   "id": "90829f8dc8d940a8"
  },
  {
   "cell_type": "code",
   "execution_count": null,
   "outputs": [],
   "source": [],
   "metadata": {
    "collapsed": false
   },
   "id": "eeab7d20353e4fbb"
  },
  {
   "cell_type": "code",
   "execution_count": 1,
   "outputs": [
    {
     "name": "stdout",
     "output_type": "stream",
     "text": [
      "34\n"
     ]
    }
   ],
   "source": [
    "zahlen = [9,2,3,5,8,5,2]\n",
    "summe = 0\n",
    "for zahl in zahlen:\n",
    "    summe = summe + zahl\n",
    "print(summe)"
   ],
   "metadata": {
    "collapsed": false,
    "ExecuteTime": {
     "end_time": "2023-10-10T07:34:23.909418200Z",
     "start_time": "2023-10-10T07:34:23.902484100Z"
    }
   },
   "id": "a83c179335d54600"
  },
  {
   "cell_type": "code",
   "execution_count": 6,
   "outputs": [
    {
     "name": "stdout",
     "output_type": "stream",
     "text": [
      "-1\n"
     ]
    }
   ],
   "source": [
    "zahlen = [9,2,3,5,8,5,-1,2,10]\n",
    "max_wert = 'leer'\n",
    "\n",
    "for zahl in zahlen:\n",
    "    if max_wert == 'leer':\n",
    "        max_wert = zahl\n",
    "    if max_wert > zahl :\n",
    "        max_wert = zahl\n",
    "print(max_wert)"
   ],
   "metadata": {
    "collapsed": false,
    "ExecuteTime": {
     "end_time": "2023-10-10T08:00:37.154961400Z",
     "start_time": "2023-10-10T08:00:37.141417900Z"
    }
   },
   "id": "d8bdc78d4d4f38e2"
  },
  {
   "cell_type": "code",
   "execution_count": 59,
   "outputs": [
    {
     "name": "stdout",
     "output_type": "stream",
     "text": [
      "['MID456', 'MID122', 'MID788', 'MID123', 'MID785', 'MID024', 'MID007', 'MID555']\n",
      "['nest', False, 'MDI6', True, 'tewst']\n"
     ]
    }
   ],
   "source": [
    "mitarbeiter_id = [456,'MID122',788,'nest',False,'MID123',785,'MID24',7, 555,'MDI6',True,'tewst']\n",
    "for_mid = []\n",
    "filter_mid = []\n",
    "for mid in mitarbeiter_id:\n",
    "    if type(mid)== int:\n",
    "        mid = str(mid)\n",
    "        mid = 'MID'+mid\n",
    "    if type(mid) == bool or mid[0:3]!= 'MID':\n",
    "        filter_mid.append(mid)\n",
    "        continue\n",
    "    anzahl_der_Nullen = 6-len(mid)\n",
    "    mid = mid[0:3]+'0'*anzahl_der_Nullen+mid[3:]\n",
    "    for_mid.append(mid)\n",
    "print(for_mid)\n",
    "print(filter_mid)\n",
    "        \n",
    "    "
   ],
   "metadata": {
    "collapsed": false,
    "ExecuteTime": {
     "end_time": "2023-10-10T10:32:47.983395900Z",
     "start_time": "2023-10-10T10:32:47.959840100Z"
    }
   },
   "id": "17c1c7aeedffb0ea"
  },
  {
   "cell_type": "code",
   "execution_count": 19,
   "outputs": [
    {
     "data": {
      "text/plain": "str"
     },
     "execution_count": 19,
     "metadata": {},
     "output_type": "execute_result"
    }
   ],
   "source": [
    "type('sdglhdfhkl')"
   ],
   "metadata": {
    "collapsed": false,
    "ExecuteTime": {
     "end_time": "2023-10-10T09:03:25.530326900Z",
     "start_time": "2023-10-10T09:03:25.514488200Z"
    }
   },
   "id": "38dcc6bf799d647a"
  },
  {
   "cell_type": "code",
   "execution_count": 51,
   "outputs": [],
   "source": [
    "string1 = 'aslhgdskjgh'"
   ],
   "metadata": {
    "collapsed": false,
    "ExecuteTime": {
     "end_time": "2023-10-10T10:23:47.476574500Z",
     "start_time": "2023-10-10T10:23:47.452486400Z"
    }
   },
   "id": "d698fd624376ca52"
  },
  {
   "cell_type": "code",
   "execution_count": 52,
   "outputs": [
    {
     "data": {
      "text/plain": "'asl'"
     },
     "execution_count": 52,
     "metadata": {},
     "output_type": "execute_result"
    }
   ],
   "source": [
    "string1[:3]"
   ],
   "metadata": {
    "collapsed": false,
    "ExecuteTime": {
     "end_time": "2023-10-10T10:24:42.904274300Z",
     "start_time": "2023-10-10T10:24:42.879797200Z"
    }
   },
   "id": "4f406004a5cc909f"
  },
  {
   "cell_type": "code",
   "execution_count": 55,
   "outputs": [
    {
     "name": "stdout",
     "output_type": "stream",
     "text": [
      "nicht ok\n"
     ]
    }
   ],
   "source": [
    "if string1[0:3] == 'MID':\n",
    "    print('ist ok')\n",
    "else:\n",
    "    print('nicht ok')"
   ],
   "metadata": {
    "collapsed": false,
    "ExecuteTime": {
     "end_time": "2023-10-10T10:25:48.564779700Z",
     "start_time": "2023-10-10T10:25:48.550782300Z"
    }
   },
   "id": "cc8c764b26e211f1"
  },
  {
   "cell_type": "code",
   "execution_count": 68,
   "outputs": [
    {
     "name": "stdout",
     "output_type": "stream",
     "text": [
      "10\n",
      "9\n",
      "8\n",
      "7\n",
      "6\n",
      "5\n",
      "4\n",
      "3\n",
      "2\n",
      "1\n",
      "Happy new Year\n"
     ]
    }
   ],
   "source": [
    "import time\n",
    "for zahl in range(10,-1,-1):\n",
    "    time.sleep(1)\n",
    "    if zahl == 0:\n",
    "        print('Happy new Year')\n",
    "    else:\n",
    "        print(zahl)"
   ],
   "metadata": {
    "collapsed": false,
    "ExecuteTime": {
     "end_time": "2023-10-10T10:49:35.438929900Z",
     "start_time": "2023-10-10T10:49:24.426813100Z"
    }
   },
   "id": "1e8b6e7a64aa7ded"
  },
  {
   "cell_type": "code",
   "execution_count": null,
   "outputs": [],
   "source": [],
   "metadata": {
    "collapsed": false
   },
   "id": "8c7d72f993536f6f"
  }
 ],
 "metadata": {
  "kernelspec": {
   "display_name": "Python 3",
   "language": "python",
   "name": "python3"
  },
  "language_info": {
   "codemirror_mode": {
    "name": "ipython",
    "version": 2
   },
   "file_extension": ".py",
   "mimetype": "text/x-python",
   "name": "python",
   "nbconvert_exporter": "python",
   "pygments_lexer": "ipython2",
   "version": "2.7.6"
  }
 },
 "nbformat": 4,
 "nbformat_minor": 5
}
