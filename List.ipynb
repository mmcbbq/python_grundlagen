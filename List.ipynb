{
 "cells": [
  {
   "cell_type": "markdown",
   "source": [
    "### List erstellen"
   ],
   "metadata": {
    "collapsed": false
   },
   "id": "e6a2167cc98f6e4"
  },
  {
   "cell_type": "code",
   "execution_count": 5,
   "outputs": [],
   "source": [
    "students = []"
   ],
   "metadata": {
    "collapsed": false,
    "ExecuteTime": {
     "end_time": "2023-10-06T08:26:59.191139700Z",
     "start_time": "2023-10-06T08:26:59.175311400Z"
    }
   },
   "id": "e83d225a3d5bc672"
  },
  {
   "cell_type": "code",
   "execution_count": 6,
   "outputs": [],
   "source": [
    "students = ['Hans', 'Yannic', 'Guiseppe', 'Paula', 'Siam', 'Markus', 'Altin', 'Erkan']"
   ],
   "metadata": {
    "collapsed": false,
    "ExecuteTime": {
     "end_time": "2023-10-06T08:26:59.898533800Z",
     "start_time": "2023-10-06T08:26:59.888627700Z"
    }
   },
   "id": "initial_id"
  },
  {
   "cell_type": "markdown",
   "source": [
    "### Access List Items"
   ],
   "metadata": {
    "collapsed": false
   },
   "id": "220af0c4537e4330"
  },
  {
   "cell_type": "code",
   "execution_count": 7,
   "outputs": [
    {
     "data": {
      "text/plain": "'Guiseppe'"
     },
     "execution_count": 7,
     "metadata": {},
     "output_type": "execute_result"
    }
   ],
   "source": [
    "students[2] #Index starts 0 "
   ],
   "metadata": {
    "collapsed": false,
    "ExecuteTime": {
     "end_time": "2023-10-06T08:27:05.399245600Z",
     "start_time": "2023-10-06T08:27:05.383126700Z"
    }
   },
   "id": "bc5fa413c7e70358"
  },
  {
   "cell_type": "code",
   "execution_count": 8,
   "outputs": [
    {
     "data": {
      "text/plain": "'Erkan'"
     },
     "execution_count": 8,
     "metadata": {},
     "output_type": "execute_result"
    }
   ],
   "source": [
    "students[-1] #Last element"
   ],
   "metadata": {
    "collapsed": false,
    "ExecuteTime": {
     "end_time": "2023-10-06T08:27:06.485413Z",
     "start_time": "2023-10-06T08:27:06.453264500Z"
    }
   },
   "id": "ca978d7e5256f3c0"
  },
  {
   "cell_type": "code",
   "execution_count": 9,
   "outputs": [
    {
     "data": {
      "text/plain": "['Guiseppe', 'Paula']"
     },
     "execution_count": 9,
     "metadata": {},
     "output_type": "execute_result"
    }
   ],
   "source": [
    "students[2:4] #Range of Indexes"
   ],
   "metadata": {
    "collapsed": false,
    "ExecuteTime": {
     "end_time": "2023-10-06T08:28:17.354823500Z",
     "start_time": "2023-10-06T08:28:17.349497300Z"
    }
   },
   "id": "947a072dededfd80"
  },
  {
   "cell_type": "code",
   "execution_count": 10,
   "outputs": [
    {
     "data": {
      "text/plain": "['Hans', 'Yannic', 'Guiseppe', 'Paula', 'Peter', 'Markus', 'Altin', 'Erkan']"
     },
     "execution_count": 10,
     "metadata": {},
     "output_type": "execute_result"
    }
   ],
   "source": [
    "students[4]='Peter' #Change Item Value\n",
    "\n",
    "students"
   ],
   "metadata": {
    "collapsed": false,
    "ExecuteTime": {
     "end_time": "2023-10-06T08:29:33.260436Z",
     "start_time": "2023-10-06T08:29:33.242507600Z"
    }
   },
   "id": "280f3a093e185785"
  },
  {
   "cell_type": "markdown",
   "source": [
    "### Multidimensional array"
   ],
   "metadata": {
    "collapsed": false
   },
   "id": "b8aabdf936f41077"
  },
  {
   "cell_type": "code",
   "execution_count": 13,
   "outputs": [],
   "source": [
    "cour= ['math', 'arts', 'physics', 'Politik', 'sport', 'IT', 'Chemie', 'Biologie']"
   ],
   "metadata": {
    "collapsed": false,
    "ExecuteTime": {
     "end_time": "2023-10-06T08:31:15.598919100Z",
     "start_time": "2023-10-06T08:31:15.584324800Z"
    }
   },
   "id": "6d35eafc13f5114"
  },
  {
   "cell_type": "code",
   "execution_count": 14,
   "outputs": [],
   "source": [
    "noten = [1,5,3,4,6,2,4]"
   ],
   "metadata": {
    "collapsed": false,
    "ExecuteTime": {
     "end_time": "2023-10-06T08:31:16.093565300Z",
     "start_time": "2023-10-06T08:31:16.089569600Z"
    }
   },
   "id": "cad3bc0ad607bad0"
  },
  {
   "cell_type": "code",
   "execution_count": 15,
   "outputs": [],
   "source": [
    "multi_list = [students,cour,noten]"
   ],
   "metadata": {
    "collapsed": false,
    "ExecuteTime": {
     "end_time": "2023-10-06T08:31:16.504071400Z",
     "start_time": "2023-10-06T08:31:16.499285500Z"
    }
   },
   "id": "f8cd3e2208ea6f05"
  },
  {
   "cell_type": "code",
   "execution_count": 16,
   "outputs": [
    {
     "data": {
      "text/plain": "4"
     },
     "execution_count": 16,
     "metadata": {},
     "output_type": "execute_result"
    }
   ],
   "source": [
    "multi_list[2][6]"
   ],
   "metadata": {
    "collapsed": false,
    "ExecuteTime": {
     "end_time": "2023-10-06T08:31:17.628024400Z",
     "start_time": "2023-10-06T08:31:17.599913100Z"
    }
   },
   "id": "9849961e63358b8e"
  },
  {
   "cell_type": "code",
   "execution_count": 17,
   "outputs": [
    {
     "data": {
      "text/plain": "['physics', 'Politik', 'sport']"
     },
     "execution_count": 17,
     "metadata": {},
     "output_type": "execute_result"
    }
   ],
   "source": [
    "multi_list[1][2:5]"
   ],
   "metadata": {
    "collapsed": false,
    "ExecuteTime": {
     "end_time": "2023-10-06T08:31:18.301353200Z",
     "start_time": "2023-10-06T08:31:18.280234200Z"
    }
   },
   "id": "e4267018d15e2d38"
  },
  {
   "cell_type": "markdown",
   "source": [
    "### Append Items"
   ],
   "metadata": {
    "collapsed": false
   },
   "id": "8d4b67436717b19b"
  },
  {
   "cell_type": "code",
   "execution_count": 18,
   "outputs": [],
   "source": [
    "cour.append('History') "
   ],
   "metadata": {
    "collapsed": false,
    "ExecuteTime": {
     "end_time": "2023-10-06T08:31:52.229116300Z",
     "start_time": "2023-10-06T08:31:52.226116300Z"
    }
   },
   "id": "25d9d264b46af2a9"
  },
  {
   "cell_type": "code",
   "execution_count": 19,
   "outputs": [
    {
     "data": {
      "text/plain": "['math',\n 'arts',\n 'physics',\n 'Politik',\n 'sport',\n 'IT',\n 'Chemie',\n 'Biologie',\n 'History']"
     },
     "execution_count": 19,
     "metadata": {},
     "output_type": "execute_result"
    }
   ],
   "source": [
    "cour"
   ],
   "metadata": {
    "collapsed": false,
    "ExecuteTime": {
     "end_time": "2023-10-06T08:31:53.395513Z",
     "start_time": "2023-10-06T08:31:53.379431800Z"
    }
   },
   "id": "474181fd8f242364"
  },
  {
   "cell_type": "code",
   "execution_count": null,
   "outputs": [],
   "source": [
    "students.insert(3,'Manuel')# Insert at Index 3\n",
    "students"
   ],
   "metadata": {
    "collapsed": false,
    "ExecuteTime": {
     "start_time": "2023-10-06T08:24:33.187564800Z"
    }
   },
   "id": "1c591a9220331656"
  },
  {
   "cell_type": "code",
   "execution_count": null,
   "outputs": [],
   "source": [
    "students.insert(-1,'Joe')# Insert at last pos."
   ],
   "metadata": {
    "collapsed": false,
    "ExecuteTime": {
     "start_time": "2023-10-06T08:24:33.194567300Z"
    }
   },
   "id": "971fde3e792fc786"
  },
  {
   "cell_type": "code",
   "execution_count": 20,
   "outputs": [
    {
     "data": {
      "text/plain": "['Hans', 'Yannic', 'Guiseppe', 'Paula', 'Peter', 'Markus', 'Altin', 'Erkan']"
     },
     "execution_count": 20,
     "metadata": {},
     "output_type": "execute_result"
    }
   ],
   "source": [
    "students\n"
   ],
   "metadata": {
    "collapsed": false,
    "ExecuteTime": {
     "end_time": "2023-10-06T08:32:36.597306300Z",
     "start_time": "2023-10-06T08:32:36.580315800Z"
    }
   },
   "id": "a18f509441df362e"
  },
  {
   "cell_type": "markdown",
   "source": [
    "### Remove item"
   ],
   "metadata": {
    "collapsed": false
   },
   "id": "a5e6674435e5fe88"
  },
  {
   "cell_type": "code",
   "execution_count": null,
   "outputs": [],
   "source": [
    "students.remove('Joe')# Removes the first Joe in the List"
   ],
   "metadata": {
    "collapsed": false,
    "ExecuteTime": {
     "start_time": "2023-10-06T08:24:33.198564600Z"
    }
   },
   "id": "ebae9de249a0a820"
  },
  {
   "cell_type": "code",
   "execution_count": null,
   "outputs": [],
   "source": [
    "students.pop(2)# Removes Item wit index 2\n",
    "students"
   ],
   "metadata": {
    "collapsed": false,
    "ExecuteTime": {
     "start_time": "2023-10-06T08:24:33.201566600Z"
    }
   },
   "id": "4b12280c48cf19f9"
  },
  {
   "cell_type": "code",
   "execution_count": null,
   "outputs": [],
   "source": [
    "del students[-2]\n",
    "students"
   ],
   "metadata": {
    "collapsed": false,
    "ExecuteTime": {
     "start_time": "2023-10-06T08:24:33.204572400Z"
    }
   },
   "id": "418ed68d6afb1207"
  },
  {
   "cell_type": "code",
   "execution_count": null,
   "outputs": [],
   "source": [
    "del students[2:4]\n",
    "students"
   ],
   "metadata": {
    "collapsed": false,
    "ExecuteTime": {
     "end_time": "2023-10-06T08:24:33.240567800Z",
     "start_time": "2023-10-06T08:24:33.207595700Z"
    }
   },
   "id": "6b98a8365e73b696"
  },
  {
   "cell_type": "code",
   "execution_count": null,
   "outputs": [],
   "source": [
    "del students\n"
   ],
   "metadata": {
    "collapsed": false,
    "ExecuteTime": {
     "start_time": "2023-10-06T08:24:33.210572700Z"
    }
   },
   "id": "94c5d319cc7736d9"
  },
  {
   "cell_type": "code",
   "execution_count": null,
   "outputs": [],
   "source": [
    "students"
   ],
   "metadata": {
    "collapsed": false,
    "ExecuteTime": {
     "start_time": "2023-10-06T08:24:33.213571200Z"
    }
   },
   "id": "c358b3a0d7226781"
  },
  {
   "cell_type": "code",
   "execution_count": null,
   "outputs": [],
   "source": [
    "students.clear()"
   ],
   "metadata": {
    "collapsed": false,
    "ExecuteTime": {
     "start_time": "2023-10-06T08:24:33.215566400Z"
    }
   },
   "id": "a4d0c3ea40610701"
  },
  {
   "cell_type": "code",
   "execution_count": null,
   "outputs": [],
   "source": [
    "students"
   ],
   "metadata": {
    "collapsed": false,
    "ExecuteTime": {
     "start_time": "2023-10-06T08:24:33.218566600Z"
    }
   },
   "id": "2feb894860f6e74c"
  },
  {
   "cell_type": "code",
   "execution_count": null,
   "outputs": [],
   "source": [
    "students_copy = students\n",
    "students_copy"
   ],
   "metadata": {
    "collapsed": false,
    "ExecuteTime": {
     "start_time": "2023-10-06T08:24:33.219571500Z"
    }
   },
   "id": "1d7e7bbe0d3da654"
  },
  {
   "cell_type": "code",
   "execution_count": null,
   "outputs": [],
   "source": [
    "print(students)\n",
    "print(students_copy,'copy')"
   ],
   "metadata": {
    "collapsed": false,
    "ExecuteTime": {
     "start_time": "2023-10-06T08:24:33.221572900Z"
    }
   },
   "id": "91af022b48c72d16"
  },
  {
   "cell_type": "code",
   "execution_count": null,
   "outputs": [],
   "source": [
    "students.pop()"
   ],
   "metadata": {
    "collapsed": false,
    "ExecuteTime": {
     "start_time": "2023-10-06T08:24:33.223566300Z"
    }
   },
   "id": "c0d4c6df2332b8c9"
  },
  {
   "cell_type": "code",
   "execution_count": null,
   "outputs": [],
   "source": [
    "print(students)\n",
    "print(students_copy,'copy')"
   ],
   "metadata": {
    "collapsed": false,
    "ExecuteTime": {
     "start_time": "2023-10-06T08:24:33.225564500Z"
    }
   },
   "id": "70592f0caa0614ae"
  },
  {
   "cell_type": "code",
   "execution_count": null,
   "outputs": [],
   "source": [
    "students_copy.pop()"
   ],
   "metadata": {
    "collapsed": false,
    "ExecuteTime": {
     "start_time": "2023-10-06T08:24:33.227568400Z"
    }
   },
   "id": "1ca4e69e8947be1d"
  },
  {
   "cell_type": "code",
   "execution_count": null,
   "outputs": [],
   "source": [
    "print(students)\n",
    "print(students_copy,'copy')"
   ],
   "metadata": {
    "collapsed": false,
    "ExecuteTime": {
     "start_time": "2023-10-06T08:24:33.229567400Z"
    }
   },
   "id": "ccd369d863553269"
  },
  {
   "cell_type": "code",
   "execution_count": null,
   "outputs": [],
   "source": [
    "students = ['Hans', 'Yannic', 'Guiseppe', 'Paula', 'Siam', 'Markus', 'Altin', 'Erkan']"
   ],
   "metadata": {
    "collapsed": false,
    "ExecuteTime": {
     "start_time": "2023-10-06T08:24:33.230569200Z"
    }
   },
   "id": "6636d30b919da909"
  },
  {
   "cell_type": "code",
   "execution_count": null,
   "outputs": [],
   "source": [
    "students_copy = students.copy()"
   ],
   "metadata": {
    "collapsed": false,
    "ExecuteTime": {
     "start_time": "2023-10-06T08:24:33.232569300Z"
    }
   },
   "id": "9ddfc05b97605f22"
  },
  {
   "cell_type": "code",
   "execution_count": null,
   "outputs": [],
   "source": [
    "print(students)\n",
    "print(students_copy,'copy')"
   ],
   "metadata": {
    "collapsed": false,
    "ExecuteTime": {
     "start_time": "2023-10-06T08:24:33.234566200Z"
    }
   },
   "id": "e2470d0f303448ee"
  },
  {
   "cell_type": "code",
   "execution_count": null,
   "outputs": [],
   "source": [
    "students_copy.pop()"
   ],
   "metadata": {
    "collapsed": false,
    "ExecuteTime": {
     "start_time": "2023-10-06T08:24:33.236569100Z"
    }
   },
   "id": "6051b9de9e14aaf0"
  },
  {
   "cell_type": "code",
   "execution_count": null,
   "outputs": [],
   "source": [
    "print(students)\n",
    "print(students_copy,'copy')"
   ],
   "metadata": {
    "collapsed": false,
    "ExecuteTime": {
     "start_time": "2023-10-06T08:24:33.238567500Z"
    }
   },
   "id": "b8faf6a518b64dc5"
  },
  {
   "cell_type": "code",
   "execution_count": null,
   "outputs": [],
   "source": [],
   "metadata": {
    "collapsed": false,
    "ExecuteTime": {
     "start_time": "2023-10-06T08:24:33.239567300Z"
    }
   },
   "id": "3647d3cf4f2c0fc2"
  },
  {
   "cell_type": "code",
   "execution_count": null,
   "outputs": [],
   "source": [],
   "metadata": {
    "collapsed": false,
    "ExecuteTime": {
     "end_time": "2023-10-06T08:24:33.266566500Z",
     "start_time": "2023-10-06T08:24:33.241566Z"
    }
   },
   "id": "28e6ca38cd971171"
  },
  {
   "cell_type": "code",
   "execution_count": null,
   "outputs": [],
   "source": [],
   "metadata": {
    "collapsed": false,
    "ExecuteTime": {
     "start_time": "2023-10-06T08:24:33.243572500Z"
    }
   },
   "id": "ac374ec1bd481c8b"
  }
 ],
 "metadata": {
  "kernelspec": {
   "display_name": "Python 3",
   "language": "python",
   "name": "python3"
  },
  "language_info": {
   "codemirror_mode": {
    "name": "ipython",
    "version": 2
   },
   "file_extension": ".py",
   "mimetype": "text/x-python",
   "name": "python",
   "nbconvert_exporter": "python",
   "pygments_lexer": "ipython2",
   "version": "2.7.6"
  }
 },
 "nbformat": 4,
 "nbformat_minor": 5
}
