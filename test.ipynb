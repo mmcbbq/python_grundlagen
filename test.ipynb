{
 "cells": [
  {
   "cell_type": "code",
   "execution_count": null,
   "id": "initial_id",
   "metadata": {
    "collapsed": true
   },
   "outputs": [],
   "source": [
    "def fak(x):\n",
    "    summe = 1\n",
    "    for i in range (1,x+1):\n",
    "        summe = summe * i\n",
    "    return summe"
   ]
  },
  {
   "cell_type": "code",
   "execution_count": null,
   "outputs": [],
   "source": [
    "def fak_rec(n):\n",
    "    if n <= 1:\n",
    "        return 1\n",
    "    else:   \n",
    "      return  n * fak_rec(n-1)"
   ],
   "metadata": {
    "collapsed": false
   },
   "id": "bea03552ff80db33"
  }
 ],
 "metadata": {
  "kernelspec": {
   "display_name": "Python 3",
   "language": "python",
   "name": "python3"
  },
  "language_info": {
   "codemirror_mode": {
    "name": "ipython",
    "version": 2
   },
   "file_extension": ".py",
   "mimetype": "text/x-python",
   "name": "python",
   "nbconvert_exporter": "python",
   "pygments_lexer": "ipython2",
   "version": "2.7.6"
  }
 },
 "nbformat": 4,
 "nbformat_minor": 5
}
