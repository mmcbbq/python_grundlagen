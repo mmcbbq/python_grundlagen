{
 "cells": [
  {
   "cell_type": "code",
   "execution_count": null,
   "id": "initial_id",
   "metadata": {
    "collapsed": true
   },
   "outputs": [],
   "source": [
    "x = range(6)\n"
   ]
  },
  {
   "cell_type": "markdown",
   "source": [
    "### Aufgabe 1 fizzbuzz\n",
    "Schreiben Sie ein Programm, das die Zahlen von 1 bis 100 ausgibt. Bei jeder Zahl, die durch 5 teilbar ist, soll \"fizz\" ausgegeben werden und bei jeder Zahl, die durch 7 teilbar ist, soll \"buzz\" ausgegeben werden. Wenn die Zahl sowohl durch 7 als auch durch 5 teilbar ist, soll \"fizzbuzz\" ausgegeben werden. Der Modulo-Operator ermittelt den Rest bei Division. Somit ist eine Teilbarkeit einfach dann erreicht, wenn die Modulo-Operation (%, MOD) den Rest 0 liefert."
   ],
   "metadata": {
    "collapsed": false
   },
   "id": "58b45738277eeec1"
  },
  {
   "cell_type": "code",
   "execution_count": null,
   "outputs": [],
   "source": [
    "for i in range(1,101):\n",
    "    if i%5 == 0 and i%7 == 0:\n",
    "        print('fizzubzz')\n",
    "    elif i%5 == 0:\n",
    "        print('fizz')\n",
    "    elif i%7 == 0:\n",
    "        print('buzz')\n",
    "    else:\n",
    "        print(i)"
   ],
   "metadata": {
    "collapsed": false
   },
   "id": "6d154f1e061a4667"
  },
  {
   "cell_type": "markdown",
   "source": [
    "### Aufgabe 2 Sieb des Eratosthenes\n",
    "\n",
    "Das Sieb des Eratosthenes ist ein Algorithmus zur Bestimmung einer Liste oder Tabelle aller Primzahlen kleiner oder gleich einer vorgegebenen Zahl.\n",
    "\n",
    "Aus http://de.wikipedia.org/wiki/Sieb_des_Eratosthenes:\n",
    "\n",
    "Zunächst werden alle Zahlen 2, 3, 4, … bis zu einem frei wählbaren Maximalwert N aufgeschrieben. Die zunächst unmarkierten Zahlen sind potentielle Primzahlen. Die kleinste unmarkierte Zahl ist immer eine Primzahl. Nachdem eine Primzahl gefunden wurde, werden alle Vielfachen dieser Primzahl als zusammengesetzt markiert. Man bestimmt die nächstgrössere nicht markierte Zahl. Da sie kein Vielfaches von Zahlen kleiner als sie selbst ist (sonst wäre sie markiert worden), kann sie nur durch eins und sich selbst teilbar sein. Folglich muss es sich um eine Primzahl handeln. Diese wird dementsprechend als Primzahl ausgegeben. Man streicht wieder alle Vielfachen und führt das Verfahren fort, bis man am Ende der Liste angekommen ist. Im Verlauf des Verfahren werden alle Primzahlen ausgegeben.\n",
    "\n"
   ],
   "metadata": {
    "collapsed": false
   },
   "id": "2ae10987557ede5"
  },
  {
   "cell_type": "code",
   "execution_count": null,
   "outputs": [],
   "source": [
    "zahlen = []\n",
    "for x in range(2,201):\n",
    "    zahlen.append(x)\n",
    "print(zahlen)"
   ],
   "metadata": {
    "collapsed": false
   },
   "id": "4997e6eecd1fa5ee"
  },
  {
   "cell_type": "code",
   "execution_count": null,
   "outputs": [],
   "source": [
    "for x in zahlen:\n",
    "    for y in zahlen:\n",
    "        if y != x and y%x == 0:\n",
    "            zahlen.remove(y)\n",
    "print(len(zahlen))\n",
    "            \n",
    "        "
   ],
   "metadata": {
    "collapsed": false
   },
   "id": "3667babe81ccaba6"
  },
  {
   "cell_type": "code",
   "execution_count": null,
   "outputs": [],
   "source": [
    "for x in zahlen:\n",
    "    print(x)\n",
    "    for y in zahlen:\n",
    "        if  y%x == 0 and y > x:\n",
    "            zahlen.remove(y)"
   ],
   "metadata": {
    "collapsed": false
   },
   "id": "499fa8707f23f054"
  },
  {
   "cell_type": "markdown",
   "source": [
    "2, 3, 5, 7, 11, 13, 17, 19, 23, 29, 31, 37, 41, 43, 47, 53, 59, 61, 67, 71, 73, 79, 83, 89, 97, 101, 103, 107, 109, 113, 127, 131, 137, 139, 149, 151, 157, 163, 167, 173, 179, 181, 191, 193, 197, 199 "
   ],
   "metadata": {
    "collapsed": false
   },
   "id": "37c45edf55c75bff"
  },
  {
   "cell_type": "code",
   "execution_count": 69,
   "outputs": [
    {
     "name": "stdout",
     "output_type": "stream",
     "text": [
      "[89, 63, 75, 7, 64, 30, 98, 20, 19, 83, 61, 59, 75, 23, 74, 14, 9, 65, 12, 78]\n"
     ]
    }
   ],
   "source": [
    "import random\n",
    "ran_zahlen = []\n",
    "for x in range(20):\n",
    "    ran_zahlen.append(random.randint(1,100))\n",
    "print(ran_zahlen)"
   ],
   "metadata": {
    "collapsed": false,
    "ExecuteTime": {
     "end_time": "2023-10-09T12:04:48.706731Z",
     "start_time": "2023-10-09T12:04:48.694866Z"
    }
   },
   "id": "849824a963f04c96"
  },
  {
   "cell_type": "code",
   "execution_count": 148,
   "outputs": [
    {
     "name": "stdout",
     "output_type": "stream",
     "text": [
      "[1, 3, 3, 4, 8, 10, 10, 10, 10, 12, 12, 13, 13, 14, 15, 16, 18, 18, 18, 18, 18, 20, 21, 23, 24, 24, 25, 25, 25, 26, 28, 30, 30, 32, 33, 34, 34, 34, 35, 35, 36, 37, 38, 38, 38, 41, 41, 44, 44, 45, 46, 47, 48, 49, 49, 50, 50, 51, 53, 54, 55, 59, 62, 62, 62, 63, 65, 73, 75, 76, 77, 78, 78, 78, 80, 80, 80, 81, 82, 83, 83, 85, 85, 85, 86, 88, 89, 90, 90, 92, 92, 93, 95, 95, 95, 97, 99, 99, 100, 100]\n"
     ]
    }
   ],
   "source": [
    "import random\n",
    "ran_zahlen = []\n",
    "for x in range(100):\n",
    "    ran_zahlen.append(random.randint(1,100))\n",
    "n = len(ran_zahlen)\n",
    "for x in range(n-1):\n",
    "    for y in range(n-1-x):\n",
    "        if ran_zahlen[y] > ran_zahlen[y+1]:\n",
    "            ran_zahlen[y] , ran_zahlen[y+1] = ran_zahlen[y+1] , ran_zahlen[y]\n",
    "            \n",
    "print(ran_zahlen)"
   ],
   "metadata": {
    "collapsed": false,
    "ExecuteTime": {
     "end_time": "2023-10-09T13:07:47.952125700Z",
     "start_time": "2023-10-09T13:07:47.938257700Z"
    }
   },
   "id": "f3d643dc003cfa98"
  },
  {
   "cell_type": "code",
   "execution_count": 140,
   "outputs": [],
   "source": [],
   "metadata": {
    "collapsed": false,
    "ExecuteTime": {
     "end_time": "2023-10-09T13:00:12.796149700Z",
     "start_time": "2023-10-09T13:00:12.790134300Z"
    }
   },
   "id": "9cdf3efbd7880bb8"
  },
  {
   "cell_type": "code",
   "execution_count": null,
   "outputs": [],
   "source": [],
   "metadata": {
    "collapsed": false
   },
   "id": "893c0219351f90c7"
  }
 ],
 "metadata": {
  "kernelspec": {
   "display_name": "Python 3",
   "language": "python",
   "name": "python3"
  },
  "language_info": {
   "codemirror_mode": {
    "name": "ipython",
    "version": 2
   },
   "file_extension": ".py",
   "mimetype": "text/x-python",
   "name": "python",
   "nbconvert_exporter": "python",
   "pygments_lexer": "ipython2",
   "version": "2.7.6"
  }
 },
 "nbformat": 4,
 "nbformat_minor": 5
}
