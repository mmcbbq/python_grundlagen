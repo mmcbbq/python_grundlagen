{
 "cells": [
  {
   "cell_type": "markdown",
   "id": "e2ccf70d05ce601a",
   "metadata": {
    "collapsed": false
   },
   "source": [
    "\n",
    "### while loop\n",
    "while loops wiederholen etwas solange eine Bedingung WAHR ist\n"
   ]
  },
  {
   "cell_type": "markdown",
   "source": [
    "Gleich: a == b\n",
    "Nicht Gleich: a != b\n",
    "Kleiner als: a < b\n",
    "Kleiner Gleich als to: a <= b\n",
    "Größer als: a > b\n",
    "Größer Gleich als: a >= b"
   ],
   "metadata": {
    "collapsed": false
   },
   "id": "2e4a88d4ea517584"
  },
  {
   "cell_type": "code",
   "execution_count": 1,
   "id": "37dcdb052b25935e",
   "metadata": {
    "collapsed": false
   },
   "outputs": [
    {
     "name": "stdout",
     "output_type": "stream",
     "text": [
      "0\n",
      "1\n",
      "2\n",
      "3\n",
      "4\n",
      "5\n"
     ]
    }
   ],
   "source": [
    "i = 0\n",
    "while i < 6 :\n",
    "    print(i)\n",
    "    i += 1"
   ]
  },
  {
   "cell_type": "code",
   "execution_count": 2,
   "id": "311ca0ccf0fe342f",
   "metadata": {
    "collapsed": false
   },
   "outputs": [
    {
     "name": "stdout",
     "output_type": "stream",
     "text": [
      "5\n",
      "4\n",
      "3\n",
      "2\n",
      "1\n",
      "0\n"
     ]
    }
   ],
   "source": [
    "i = 5\n",
    "while i >= 0:\n",
    "    print(i)\n",
    "    i -= 1"
   ]
  },
  {
   "cell_type": "markdown",
   "source": [
    "Eine Schleife die solange ausgeführt wird bis der User \"Hallo Welt\" eingibt"
   ],
   "metadata": {
    "collapsed": false
   },
   "id": "2e4320e9db8085b6"
  },
  {
   "cell_type": "code",
   "execution_count": null,
   "outputs": [],
   "source": [
    "string = ''\n",
    "while string != 'Hallo Welt':\n",
    "    string = input('Schreib Hallo Welt')"
   ],
   "metadata": {
    "collapsed": false
   },
   "id": "fdd2c0c40df98be6"
  },
  {
   "cell_type": "code",
   "execution_count": null,
   "id": "6bca64856f84578c",
   "metadata": {
    "collapsed": false
   },
   "outputs": [],
   "source": [
    "var = True\n",
    "while var :\n",
    "    frage = int(input('Wie alt bist du?'))\n",
    "    if frage >= 18:\n",
    "        print('Hallo komm rein')\n",
    "        var = False\n",
    "    else:\n",
    "        print('Du musst noch warten')"
   ]
  },
  {
   "cell_type": "code",
   "execution_count": null,
   "id": "c6c5cb6d7a4ea48",
   "metadata": {
    "collapsed": false
   },
   "outputs": [],
   "source": [
    "i = 0\n",
    "while i < 100:\n",
    "    i+=1\n",
    "    \n",
    "    if i == 55:\n",
    "        continue\n",
    "    print(i)\n",
    "    "
   ]
  },
  {
   "cell_type": "code",
   "execution_count": null,
   "id": "72f5e1e7cee606e1",
   "metadata": {
    "collapsed": false
   },
   "outputs": [],
   "source": [
    "i = 0\n",
    "while i < 100:\n",
    "    i+=1\n",
    "    \n",
    "    if i**2 == 36:\n",
    "        break\n",
    "    print(i)"
   ]
  },
  {
   "cell_type": "code",
   "execution_count": 6,
   "id": "284f97db330685c9",
   "metadata": {
    "collapsed": false
   },
   "outputs": [
    {
     "name": "stdin",
     "output_type": "stream",
     "text": [
      "Was ist 7 + 10?  111\n"
     ]
    },
    {
     "name": "stdout",
     "output_type": "stream",
     "text": [
      "<class 'int'>\n",
      "Falsch\n"
     ]
    },
    {
     "name": "stdin",
     "output_type": "stream",
     "text": [
      "Was ist 7 + 10?  45666\n"
     ]
    },
    {
     "name": "stdout",
     "output_type": "stream",
     "text": [
      "<class 'int'>\n",
      "Falsch\n"
     ]
    },
    {
     "name": "stdin",
     "output_type": "stream",
     "text": [
      "Was ist 7 + 10?  j\n",
      "Gib eine Zahl ein!!! 123\n"
     ]
    },
    {
     "name": "stdout",
     "output_type": "stream",
     "text": [
      "<class 'int'>\n",
      "Falsch\n"
     ]
    },
    {
     "name": "stdin",
     "output_type": "stream",
     "text": [
      "Was ist 7 + 10?  17\n"
     ]
    },
    {
     "name": "stdout",
     "output_type": "stream",
     "text": [
      "<class 'int'>\n",
      "richtig\n"
     ]
    }
   ],
   "source": [
    "import random\n",
    "\n",
    "zahl1 = random.randint(1,10)\n",
    "zahl2 = random.randint(1,10)\n",
    "antwort = ''\n",
    "zahlenstring = []\n",
    "for i in range(10):\n",
    "    zahlenstring.append(str(i))\n",
    "\n",
    "while antwort != (zahl1 + zahl2):\n",
    "    isint = True\n",
    "    antwort = input(f'Was ist {zahl1} + {zahl2}? ')\n",
    "    \n",
    "    while isint :\n",
    "        for stelle in antwort:\n",
    "            if stelle not in zahlenstring:\n",
    "                antwort = input('Gib eine Zahl ein!!!')\n",
    "                isint = True\n",
    "                break\n",
    "            else:\n",
    "                isint = False\n",
    "    antwort = int(antwort)      \n",
    "    print(type(antwort))\n",
    "    if zahl1+ zahl2 != antwort:\n",
    "        print('Falsch')\n",
    "print('richtig')"
   ]
  },
  {
   "cell_type": "code",
   "execution_count": null,
   "id": "91a770bcb9499cac",
   "metadata": {
    "collapsed": false
   },
   "outputs": [],
   "source": [
    "zahlenstring = []\n",
    "for i in range(10):\n",
    "    zahlenstring.append(str(i))\n",
    "print(zahlenstring)"
   ]
  },
  {
   "cell_type": "code",
   "execution_count": null,
   "id": "fd04276ee7a1bbd8",
   "metadata": {
    "collapsed": false
   },
   "outputs": [],
   "source": []
  },
  {
   "cell_type": "code",
   "execution_count": 94,
   "id": "e5643715f2c45f62",
   "metadata": {
    "collapsed": false,
    "ExecuteTime": {
     "end_time": "2023-10-12T13:11:58.325952500Z",
     "start_time": "2023-10-12T13:11:58.230404100Z"
    }
   },
   "outputs": [
    {
     "data": {
      "text/plain": "<Figure size 640x480 with 1 Axes>",
      "image/png": "[encoded data removed]"
     },
     "metadata": {},
     "output_type": "display_data"
    },
    {
     "name": "stdout",
     "output_type": "stream",
     "text": [
      "Summe aller Würfe 706\n",
      "Durchschnitt 117.66666666666667\n",
      "min 100\n",
      "max 126\n",
      "Standardabweichung 10.6092203085597\n",
      "Unteres Quartil 110.0\n",
      "Obere Quartil 126.0\n",
      "Median 124.0\n"
     ]
    }
   ],
   "source": [
    "import random\n",
    "import matplotlib.pyplot as plt\n",
    "import numpy as np\n",
    "wuerfe = []\n",
    "anzahl = {'1':0,'2':0,'3':0,'4':0,'5':0,'6':0}\n",
    "n = True\n",
    "\n",
    "while n :\n",
    "    wuerfel = random.randint(1,6)\n",
    "    wuerfe.append(wuerfel)\n",
    "    anzahl[str(wuerfel)] +=1\n",
    "    for anz in anzahl.values():\n",
    "        if anz >= 100:\n",
    "            n = False\n",
    "        else:\n",
    "            n = True\n",
    "            break \n",
    "plt.bar(anzahl.keys(), anzahl.values())\n",
    "plt.xlabel('Wert')\n",
    "plt.ylabel('Anzahl')\n",
    "plt.show()\n",
    "np_array = np.array(list(anzahl.values()))\n",
    "print('Summe aller Würfe',np_array.sum())\n",
    "print('Durchschnitt',np_array.mean())\n",
    "print('min',np_array.min())\n",
    "print('max',np_array.max())\n",
    "print('Standardabweichung',np_array.std())\n",
    "print('Unteres Quartil', np.percentile(np_array, 25))\n",
    "print('Obere Quartil', np.percentile(np_array, 75))\n",
    "print('Median', np.median(np_array))"
   ]
  },
  {
   "cell_type": "code",
   "execution_count": 151,
   "outputs": [],
   "source": [
    "import numpy as np\n",
    "liste = []\n",
    "for x in range(1,500000):\n",
    "    liste.append(x)\n"
   ],
   "metadata": {
    "collapsed": false,
    "ExecuteTime": {
     "end_time": "2023-10-12T13:21:50.400455800Z",
     "start_time": "2023-10-12T13:21:50.392210100Z"
    }
   },
   "id": "4ad58703c7cf52f4"
  },
  {
   "cell_type": "code",
   "execution_count": 152,
   "outputs": [
    {
     "data": {
      "text/plain": "124999750000"
     },
     "execution_count": 152,
     "metadata": {},
     "output_type": "execute_result"
    }
   ],
   "source": [
    "sum(liste)\n"
   ],
   "metadata": {
    "collapsed": false,
    "ExecuteTime": {
     "end_time": "2023-10-12T13:21:50.671002400Z",
     "start_time": "2023-10-12T13:21:50.655100200Z"
    }
   },
   "id": "305132e10d33ba49"
  },
  {
   "cell_type": "code",
   "execution_count": 153,
   "outputs": [
    {
     "name": "stdout",
     "output_type": "stream",
     "text": [
      "[     1      2      3 ... 499997 499998 499999]\n"
     ]
    }
   ],
   "source": [
    "np_array = np.array(liste)\n",
    "print(np_array)"
   ],
   "metadata": {
    "collapsed": false,
    "ExecuteTime": {
     "end_time": "2023-10-12T13:21:51.018632700Z",
     "start_time": "2023-10-12T13:21:50.983979700Z"
    }
   },
   "id": "cd2c74977ac3d7ae"
  },
  {
   "cell_type": "code",
   "execution_count": 154,
   "outputs": [
    {
     "data": {
      "text/plain": "445698416"
     },
     "execution_count": 154,
     "metadata": {},
     "output_type": "execute_result"
    }
   ],
   "source": [
    "np_array.sum()"
   ],
   "metadata": {
    "collapsed": false,
    "ExecuteTime": {
     "end_time": "2023-10-12T13:21:51.773042Z",
     "start_time": "2023-10-12T13:21:51.744048700Z"
    }
   },
   "id": "81c9d24917e8595b"
  },
  {
   "cell_type": "code",
   "execution_count": null,
   "outputs": [],
   "source": [],
   "metadata": {
    "collapsed": false
   },
   "id": "20b6372e585325e9"
  }
 ],
 "metadata": {
  "kernelspec": {
   "display_name": "Python 3 (ipykernel)",
   "language": "python",
   "name": "python3"
  },
  "language_info": {
   "codemirror_mode": {
    "name": "ipython",
    "version": 3
   },
   "file_extension": ".py",
   "mimetype": "text/x-python",
   "name": "python",
   "nbconvert_exporter": "python",
   "pygments_lexer": "ipython3",
   "version": "3.11.5"
  }
 },
 "nbformat": 4,
 "nbformat_minor": 5
}
