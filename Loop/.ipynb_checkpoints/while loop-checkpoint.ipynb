{
 "cells": [
  {
   "cell_type": "markdown",
   "source": [
    "\n",
    "while loop"
   ],
   "metadata": {
    "collapsed": false
   },
   "id": "e2ccf70d05ce601a"
  },
  {
   "cell_type": "code",
   "execution_count": null,
   "outputs": [],
   "source": [
    "i = 0\n",
    "while i < 6 :\n",
    "    print(i)\n",
    "    i += 1"
   ],
   "metadata": {
    "collapsed": false
   },
   "id": "37dcdb052b25935e"
  },
  {
   "cell_type": "code",
   "execution_count": null,
   "outputs": [],
   "source": [
    "i = 5\n",
    "while i >= 0:\n",
    "    print(i)\n",
    "    i -= 1"
   ],
   "metadata": {
    "collapsed": false
   },
   "id": "311ca0ccf0fe342f"
  },
  {
   "cell_type": "code",
   "execution_count": null,
   "outputs": [],
   "source": [
    "string = ''\n",
    "while string != 'Hallo Welt':\n",
    "    string = input('Schreib Hallo Welt')"
   ],
   "metadata": {
    "collapsed": false
   },
   "id": "fdd2c0c40df98be6"
  },
  {
   "cell_type": "code",
   "execution_count": null,
   "outputs": [],
   "source": [
    "var = True\n",
    "while var :\n",
    "    frage = int(input('Wie alt bist du?'))\n",
    "    if frage >= 18:\n",
    "        print('Hallo komm rein')\n",
    "        var = False\n",
    "    else:\n",
    "        print('Du musst noch warten')"
   ],
   "metadata": {
    "collapsed": false
   },
   "id": "6bca64856f84578c"
  },
  {
   "cell_type": "code",
   "execution_count": null,
   "outputs": [],
   "source": [
    "i = 0\n",
    "while i < 100:\n",
    "    i+=1\n",
    "    \n",
    "    if i == 55:\n",
    "        continue\n",
    "    print(i)\n",
    "    "
   ],
   "metadata": {
    "collapsed": false
   },
   "id": "c6c5cb6d7a4ea48"
  },
  {
   "cell_type": "code",
   "execution_count": null,
   "outputs": [],
   "source": [
    "i = 0\n",
    "while i < 100:\n",
    "    i+=1\n",
    "    \n",
    "    if i**2 == 36:\n",
    "        break\n",
    "    print(i)"
   ],
   "metadata": {
    "collapsed": false
   },
   "id": "72f5e1e7cee606e1"
  },
  {
   "cell_type": "code",
   "execution_count": null,
   "outputs": [],
   "source": [
    "import random\n",
    "\n",
    "zahl1 = random.randint(1,10)\n",
    "zahl2 = random.randint(1,10)\n",
    "antwort = ''\n",
    "zahlenstring = []\n",
    "for i in range(10):\n",
    "    zahlenstring.append(str(i))\n",
    "\n",
    "while antwort != (zahl1 + zahl2):\n",
    "    isint = True\n",
    "    antwort = input(f'Was ist {zahl1} + {zahl2}? ')\n",
    "    \n",
    "    while isint :\n",
    "        for stelle in antwort:\n",
    "            if stelle not in zahlenstring:\n",
    "                antwort = input('Gib eine Zahl ein!!!')\n",
    "                isint = True\n",
    "                break\n",
    "            else:\n",
    "                isint = False\n",
    "    int(antwort)      \n",
    "    print(type(antwort))\n",
    "    if zahl1+ zahl2 != antwort:\n",
    "        print('Falsch')\n",
    "print('richtig')"
   ],
   "metadata": {
    "collapsed": false
   },
   "id": "284f97db330685c9"
  },
  {
   "cell_type": "code",
   "execution_count": null,
   "outputs": [],
   "source": [
    "zahlenstring = []\n",
    "for i in range(10):\n",
    "    zahlenstring.append(str(i))\n",
    "print(zahlenstring)"
   ],
   "metadata": {
    "collapsed": false
   },
   "id": "91a770bcb9499cac"
  },
  {
   "cell_type": "code",
   "execution_count": null,
   "outputs": [],
   "source": [],
   "metadata": {
    "collapsed": false
   },
   "id": "fd04276ee7a1bbd8"
  },
  {
   "cell_type": "code",
   "execution_count": null,
   "outputs": [],
   "source": [],
   "metadata": {
    "collapsed": false
   },
   "id": "e5643715f2c45f62"
  }
 ],
 "metadata": {
  "kernelspec": {
   "display_name": "Python 3",
   "language": "python",
   "name": "python3"
  },
  "language_info": {
   "codemirror_mode": {
    "name": "ipython",
    "version": 2
   },
   "file_extension": ".py",
   "mimetype": "text/x-python",
   "name": "python",
   "nbconvert_exporter": "python",
   "pygments_lexer": "ipython2",
   "version": "2.7.6"
  }
 },
 "nbformat": 4,
 "nbformat_minor": 5
}
