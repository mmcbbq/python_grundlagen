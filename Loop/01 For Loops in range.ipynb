{
 "cells": [
  {
   "cell_type": "markdown",
   "source": [
    "# For Loops in range"
   ],
   "metadata": {
    "collapsed": false
   },
   "id": "889e0070640526aa"
  },
  {
   "cell_type": "markdown",
   "source": [
    "### Range funktion\n",
    "Erzeugt eine Zahlenreihenfolge.\n",
    "Der Range-funktion können bis zu 3 Parameter übergeben werden\n",
    "range(start = 0,stop, step = 1)"
   ],
   "metadata": {
    "collapsed": false
   },
   "id": "51f3ae4d4c2ea9cd"
  },
  {
   "cell_type": "markdown",
   "source": [
    "stop: Benötigter Parameter der angibt wann die Reihenfolge stoppt.(Der Parameter nicht inbegriffen z.B. eingabe 5 Reihenfolge geht bis 4)"
   ],
   "metadata": {
    "collapsed": false
   },
   "id": "2f0b14bc0ad12e3"
  },
  {
   "cell_type": "code",
   "execution_count": 5,
   "outputs": [
    {
     "name": "stdout",
     "output_type": "stream",
     "text": [
      "[0, 1, 2, 3, 4]\n"
     ]
    }
   ],
   "source": [
    "print(list(range(5)))"
   ],
   "metadata": {
    "collapsed": false,
    "ExecuteTime": {
     "end_time": "2023-10-11T06:04:13.364862800Z",
     "start_time": "2023-10-11T06:04:13.354114900Z"
    }
   },
   "id": "ddd1a33c08dcd757"
  },
  {
   "cell_type": "markdown",
   "source": [
    "start: Optionaler Parameter der angibt an welcher Position die Zahlenreihenfolge startet (default value = 0).\n",
    "Ist der erste übergabe Parameter. Der Stop-Parameter liegt dann an zweiter Stelle."
   ],
   "metadata": {
    "collapsed": false
   },
   "id": "dc869b5c2a2d663a"
  },
  {
   "cell_type": "code",
   "execution_count": 11,
   "outputs": [
    {
     "name": "stdout",
     "output_type": "stream",
     "text": [
      "[3, 4]\n"
     ]
    }
   ],
   "source": [
    "print(list(range(3,5)))"
   ],
   "metadata": {
    "collapsed": false,
    "ExecuteTime": {
     "end_time": "2023-10-11T06:23:59.448844300Z",
     "start_time": "2023-10-11T06:23:59.410849700Z"
    }
   },
   "id": "c1202d9e01c03119"
  },
  {
   "cell_type": "markdown",
   "source": [
    "step: Ist die Schrittweite. (default value = 1)"
   ],
   "metadata": {
    "collapsed": false
   },
   "id": "a6c819a018c069aa"
  },
  {
   "cell_type": "code",
   "execution_count": 12,
   "outputs": [
    {
     "name": "stdout",
     "output_type": "stream",
     "text": [
      "[1, 4, 7]\n"
     ]
    }
   ],
   "source": [
    "print(list(range(1,10,3)))\n"
   ],
   "metadata": {
    "collapsed": false,
    "ExecuteTime": {
     "end_time": "2023-10-11T06:24:34.471722700Z",
     "start_time": "2023-10-11T06:24:34.456720500Z"
    }
   },
   "id": "2cb6017111bcebc4"
  },
  {
   "cell_type": "markdown",
   "source": [
    "Negative Zahlenreihenfolgen\n"
   ],
   "metadata": {
    "collapsed": false
   },
   "id": "31b1620d6017e99"
  },
  {
   "cell_type": "code",
   "execution_count": 13,
   "outputs": [
    {
     "name": "stdout",
     "output_type": "stream",
     "text": [
      "[10, 9, 8, 7, 6, 5, 4, 3, 2]\n"
     ]
    }
   ],
   "source": [
    "print(list(range(10,1,-1))) # Es muss eine Negative Schrittweite angegeben werden."
   ],
   "metadata": {
    "collapsed": false,
    "ExecuteTime": {
     "end_time": "2023-10-11T06:25:26.894910Z",
     "start_time": "2023-10-11T06:25:26.888899300Z"
    }
   },
   "id": "6166809f86e6ff41"
  },
  {
   "cell_type": "markdown",
   "source": [
    "For Loop"
   ],
   "metadata": {
    "collapsed": false
   },
   "id": "827c4cc4ae6eb612"
  },
  {
   "cell_type": "code",
   "execution_count": 19,
   "outputs": [
    {
     "name": "stdout",
     "output_type": "stream",
     "text": [
      "499500\n"
     ]
    }
   ],
   "source": [
    "summe = 0\n",
    "for x in range(1000):\n",
    "    summe = summe + x\n",
    "print(summe)\n",
    "    # [0,1,2,3,4,5,6,7,8,9,10]\n",
    "    #x = 0\n",
    "    #summe = 0 + 0\n",
    "    #-----------\n",
    "    #x = 1 \n",
    "    #summe = 0 + 1\n",
    "    #-----------\n",
    "    #x = 2\n",
    "    #summw = 1 + 2\n",
    "    #------------\n",
    "    #x = 3\n",
    "    #summe = 3 + 3\n",
    "    #---------------\n",
    "    #x = 4 \n",
    "    #summe = 6 + 4\n",
    "    #---------\n",
    "    #x = 5\n",
    "    #summe  = 10 + 5\n",
    "    #--------------\n",
    "    #x = 6 \n",
    "    #summe = 15 + 6\n",
    "    #------------\n",
    "    #x = 7\n",
    "    #summe 21 + 7\n",
    "    #------------\n",
    "    # x = 8\n",
    "    #summe = 28 +8\n",
    "    # -----------\n",
    "    # x = 9\n",
    "    # summe = 36 + 9\n",
    "    #----------\n",
    "    # x = 10 \n",
    "    #summe = 45 + 10 \n",
    "    #-- Ende\n",
    "    #print(summe) -> 55\n",
    "    \n",
    "    "
   ],
   "metadata": {
    "collapsed": false,
    "ExecuteTime": {
     "end_time": "2023-10-11T06:47:31.940186300Z",
     "start_time": "2023-10-11T06:47:31.924079100Z"
    }
   },
   "id": "d7426454784aeb58"
  },
  {
   "cell_type": "markdown",
   "source": [],
   "metadata": {
    "collapsed": false
   },
   "id": "c77fabe08c413e20"
  },
  {
   "cell_type": "code",
   "execution_count": 23,
   "outputs": [
    {
     "name": "stdout",
     "output_type": "stream",
     "text": [
      "*\n",
      "**\n",
      "***\n",
      "****\n",
      "*****\n"
     ]
    }
   ],
   "source": [],
   "metadata": {
    "collapsed": false,
    "ExecuteTime": {
     "end_time": "2023-10-11T06:53:47.890028300Z",
     "start_time": "2023-10-11T06:53:47.869526Z"
    }
   },
   "id": "a9870ad7683f8c1c"
  },
  {
   "cell_type": "code",
   "execution_count": 25,
   "outputs": [
    {
     "name": "stdout",
     "output_type": "stream",
     "text": [
      "*****\n",
      "****\n",
      "***\n",
      "**\n",
      "*\n"
     ]
    }
   ],
   "source": [],
   "metadata": {
    "collapsed": false,
    "ExecuteTime": {
     "end_time": "2023-10-11T06:56:05.361049800Z",
     "start_time": "2023-10-11T06:56:05.350517800Z"
    }
   },
   "id": "d953888c02e432d5"
  },
  {
   "cell_type": "code",
   "execution_count": 31,
   "outputs": [
    {
     "name": "stdout",
     "output_type": "stream",
     "text": [
      "0 , 0\n",
      "0 , 1\n",
      "1 , 0\n",
      "1 , 1\n",
      "2 , 0\n",
      "2 , 1\n"
     ]
    }
   ],
   "source": [
    "for i in range(3):\n",
    "    for x in range(2):\n",
    "        print(i,',',x)"
   ],
   "metadata": {
    "collapsed": false,
    "ExecuteTime": {
     "end_time": "2023-10-11T08:12:33.180468500Z",
     "start_time": "2023-10-11T08:12:33.137006900Z"
    }
   },
   "id": "37a73fe6bc180d27"
  },
  {
   "cell_type": "code",
   "execution_count": 32,
   "outputs": [
    {
     "name": "stdout",
     "output_type": "stream",
     "text": [
      "Los geht es\n",
      "0\n",
      "1\n",
      "Los geht es\n",
      "1\n",
      "2\n",
      "Los geht es\n",
      "2\n",
      "3\n"
     ]
    }
   ],
   "source": [
    "\n",
    "for i in range(3):\n",
    "    print('Los geht es')\n",
    "    for x in range(2):\n",
    "        print(i+x)\n"
   ],
   "metadata": {
    "collapsed": false,
    "ExecuteTime": {
     "end_time": "2023-10-11T08:14:51.852674900Z",
     "start_time": "2023-10-11T08:14:51.843687600Z"
    }
   },
   "id": "36b81cbd73b4cc6e"
  },
  {
   "cell_type": "code",
   "execution_count": null,
   "outputs": [],
   "source": [],
   "metadata": {
    "collapsed": false
   },
   "id": "2301d1f7dd65c08a"
  }
 ],
 "metadata": {
  "kernelspec": {
   "display_name": "Python 3",
   "language": "python",
   "name": "python3"
  },
  "language_info": {
   "codemirror_mode": {
    "name": "ipython",
    "version": 2
   },
   "file_extension": ".py",
   "mimetype": "text/x-python",
   "name": "python",
   "nbconvert_exporter": "python",
   "pygments_lexer": "ipython2",
   "version": "2.7.6"
  }
 },
 "nbformat": 4,
 "nbformat_minor": 5
}
