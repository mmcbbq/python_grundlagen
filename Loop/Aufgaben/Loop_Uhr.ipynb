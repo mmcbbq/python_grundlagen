{
 "cells": [
  {
   "cell_type": "code",
   "execution_count": 4,
   "id": "initial_id",
   "metadata": {
    "collapsed": true,
    "ExecuteTime": {
     "end_time": "2023-10-12T07:01:12.163932500Z",
     "start_time": "2023-10-12T07:01:05.143740100Z"
    }
   },
   "outputs": [
    {
     "name": "stdout",
     "output_type": "stream",
     "text": [
      "00:00:00\n",
      "00:00:01\n",
      "00:00:02\n",
      "00:00:03\n",
      "00:00:04\n",
      "00:00:05\n"
     ]
    },
    {
     "ename": "KeyboardInterrupt",
     "evalue": "",
     "output_type": "error",
     "traceback": [
      "\u001B[1;31m---------------------------------------------------------------------------\u001B[0m",
      "\u001B[1;31mKeyboardInterrupt\u001B[0m                         Traceback (most recent call last)",
      "Cell \u001B[1;32mIn[4], line 9\u001B[0m\n\u001B[0;32m      7\u001B[0m \u001B[38;5;28;01mfor\u001B[39;00m sec \u001B[38;5;129;01min\u001B[39;00m \u001B[38;5;28mrange\u001B[39m(\u001B[38;5;241m60\u001B[39m):\n\u001B[0;32m      8\u001B[0m     s \u001B[38;5;241m=\u001B[39m sec\n\u001B[1;32m----> 9\u001B[0m     \u001B[43mtime\u001B[49m\u001B[38;5;241;43m.\u001B[39;49m\u001B[43msleep\u001B[49m\u001B[43m(\u001B[49m\u001B[38;5;241;43m1\u001B[39;49m\u001B[43m)\u001B[49m\n\u001B[0;32m     10\u001B[0m     \u001B[38;5;28;01mif\u001B[39;00m h \u001B[38;5;241m<\u001B[39m \u001B[38;5;241m10\u001B[39m:\n\u001B[0;32m     11\u001B[0m         h0 \u001B[38;5;241m=\u001B[39m \u001B[38;5;124m'\u001B[39m\u001B[38;5;124m0\u001B[39m\u001B[38;5;124m'\u001B[39m\n",
      "\u001B[1;31mKeyboardInterrupt\u001B[0m: "
     ]
    }
   ],
   "source": [
    "import time\n",
    "\n",
    "for stunde in range(24):\n",
    "    h = stunde\n",
    "    for minute in range(60):\n",
    "        m = minute\n",
    "        for sec in range(60):\n",
    "            s = sec\n",
    "            time.sleep(1)\n",
    "            if h < 10:\n",
    "                h0 = '0'\n",
    "            else:\n",
    "                h0 = ''\n",
    "            if m < 10:\n",
    "                m0 = '0'\n",
    "            else:\n",
    "                m0 = ''\n",
    "            if s < 10:\n",
    "                s0 = '0'\n",
    "            else:\n",
    "                s0 = ''\n",
    "                \n",
    "            \n",
    "            print(f'\\r{h0}{h}:{m0}{m}:{s0}{s}')\n",
    "        "
   ]
  },
  {
   "cell_type": "code",
   "execution_count": null,
   "outputs": [],
   "source": [],
   "metadata": {
    "collapsed": false
   },
   "id": "2bc9f129c059e911"
  }
 ],
 "metadata": {
  "kernelspec": {
   "display_name": "Python 3",
   "language": "python",
   "name": "python3"
  },
  "language_info": {
   "codemirror_mode": {
    "name": "ipython",
    "version": 2
   },
   "file_extension": ".py",
   "mimetype": "text/x-python",
   "name": "python",
   "nbconvert_exporter": "python",
   "pygments_lexer": "ipython2",
   "version": "2.7.6"
  }
 },
 "nbformat": 4,
 "nbformat_minor": 5
}
