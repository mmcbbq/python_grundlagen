{
 "cells": [
  {
   "cell_type": "markdown",
   "source": [
    "Ein Spieler soll eine (zufällig gewählte) Zahl zwischen 1 und 100 erraten. Das Programm soll jeweils die Meldungen „Die Zahl ist zu groß“, „Die Zahl ist zu klein“ bzw. „Treffer“ ausgeben.\n",
    "Wenn die Zahl zu Gross oder zu klein ist soll die Frage erneut gestellt werden"
   ],
   "metadata": {
    "collapsed": false
   },
   "id": "2ad4950ac7e94333"
  },
  {
   "cell_type": "code",
   "execution_count": 25,
   "outputs": [
    {
     "name": "stdout",
     "output_type": "stream",
     "text": [
      "Die gesuchte Zahl ist größer\n",
      "Die gesuchte Zahl ist größer\n",
      "Die gesuchte Zahl ist größer\n",
      "Die gesuchte Zahl ist größer\n",
      "Die gesuchte Zahl ist größer\n",
      "Die gesuchte Zahl ist größer\n",
      "Die gesuchte Zahl ist größer\n",
      "Die gesuchte Zahl ist größer\n",
      "Die gesuchte Zahl ist größer\n",
      "Die gesuchte Zahl ist größer\n",
      "Alle versuche verbraucht die Lösung war  8\n"
     ]
    }
   ],
   "source": [
    "versuche = 0\n",
    "loesung = 8\n",
    "raten = False\n",
    "while raten == False:\n",
    "    versuche += 1\n",
    "    if versuche > 10:\n",
    "        print('Alle versuche verbraucht die Lösung war ', loesung)\n",
    "        break\n",
    "    userzahl = int(input('Rate die zahl zwischen 1-100'))\n",
    "    if loesung == userzahl:\n",
    "        print('Richtig du hast ', versuche ,' mal geraten')\n",
    "        raten = True\n",
    "    elif loesung < userzahl:\n",
    "        print('Die gesuchte Zahl ist kleiner')\n",
    "    else:\n",
    "        print('Die gesuchte Zahl ist größer')\n",
    "    "
   ],
   "metadata": {
    "collapsed": false,
    "ExecuteTime": {
     "end_time": "2023-10-11T10:29:43.535207600Z",
     "start_time": "2023-10-11T10:29:32.683664400Z"
    }
   },
   "id": "d93bc0c4f11e58be"
  },
  {
   "cell_type": "code",
   "execution_count": null,
   "outputs": [],
   "source": [],
   "metadata": {
    "collapsed": false
   },
   "id": "7ccf9161f1bb8c7c"
  }
 ],
 "metadata": {
  "kernelspec": {
   "display_name": "Python 3",
   "language": "python",
   "name": "python3"
  },
  "language_info": {
   "codemirror_mode": {
    "name": "ipython",
    "version": 2
   },
   "file_extension": ".py",
   "mimetype": "text/x-python",
   "name": "python",
   "nbconvert_exporter": "python",
   "pygments_lexer": "ipython2",
   "version": "2.7.6"
  }
 },
 "nbformat": 4,
 "nbformat_minor": 5
}
