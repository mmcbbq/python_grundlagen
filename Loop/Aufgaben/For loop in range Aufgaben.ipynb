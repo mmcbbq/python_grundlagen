{
 "cells": [
  {
   "cell_type": "markdown",
   "source": [
    "### Summe\n",
    "Berechne die Summe aller Zahlen von 1 - 500"
   ],
   "metadata": {
    "collapsed": false
   },
   "id": "544e8fc3ce8856d"
  },
  {
   "cell_type": "code",
   "execution_count": 87,
   "outputs": [],
   "source": [],
   "metadata": {
    "collapsed": false,
    "ExecuteTime": {
     "end_time": "2023-10-11T13:20:49.047992700Z",
     "start_time": "2023-10-11T13:20:48.956736700Z"
    }
   },
   "id": "d715a44bac93b77a"
  },
  {
   "cell_type": "markdown",
   "source": [
    "### Muster\n",
    "Schreib eine Schleife die folgendes Muster ausgibt\n",
    "    *\n",
    "    **\n",
    "    ***\n",
    "    ****\n",
    "    *****"
   ],
   "metadata": {
    "collapsed": false
   },
   "id": "3ed00adb322800d0"
  },
  {
   "cell_type": "code",
   "execution_count": 87,
   "outputs": [],
   "source": [],
   "metadata": {
    "collapsed": false,
    "ExecuteTime": {
     "end_time": "2023-10-11T13:20:49.051989700Z",
     "start_time": "2023-10-11T13:20:48.959741300Z"
    }
   },
   "id": "167f45c33f3e1914"
  },
  {
   "cell_type": "markdown",
   "source": [
    "Schreib eine Schleife die folgendes Muster ausgibt\n",
    "    *****\n",
    "    ****\n",
    "    ***\n",
    "    **\n",
    "    *"
   ],
   "metadata": {
    "collapsed": false
   },
   "id": "d374521f50b0c968"
  },
  {
   "cell_type": "code",
   "execution_count": 87,
   "outputs": [],
   "source": [],
   "metadata": {
    "collapsed": false,
    "ExecuteTime": {
     "end_time": "2023-10-11T13:20:49.060990100Z",
     "start_time": "2023-10-11T13:20:48.965023100Z"
    }
   },
   "id": "f8fce1377a2dfdfd"
  },
  {
   "cell_type": "markdown",
   "source": [
    "Heron von Alexandria (genannt Mechanicus) war ein Mathematiker und Ingenieur, der vermutlich im 1. Jahrhundert lebte. Bekannt sind vor allem seine Ausführungen zu automatischen, teilweise sogar schon programmierbaren Geräten und der Ausnutzung von Wasser, Luft und Hitze als treibende Kraft. Hier sind insbesondere die Erfindung der Aeolipile, auch Heronsball genannt, und der Heronsbrunnen zu nennen (wikipedia).\n",
    "\n",
    "Außerdem entwickelte er einen Algorithmus, mit dem man für eine beliebige Zahl die Quadratwurzel auf eine beliebige Genauigkeit berechnen kann … das Heron-Verfahren:\n",
    "\n",
    "Wähle eine Startwert x zur Bestimmung der Wurzel aus w.\n",
    "Wähle \n",
    "\n",
    "x = (x + w/x)/2\n",
    " ):2 als nächsten Näherungswert.\n",
    "Wiederhole (2.) mit den jeweils neuen Näherungswerten bis die gewünschte Genauigkeit erreicht ist.\n",
    "Die Grundidee für dieses Verfahren basiert auf der Frage, wie ein Rechteck in ein flächengleiches Quadrat umgewandelt werden kann … dafür wird die Seitenlänge des Quadrats benötigt."
   ],
   "metadata": {
    "collapsed": false
   },
   "id": "d9ba50f417eac589"
  },
  {
   "cell_type": "code",
   "execution_count": 87,
   "outputs": [],
   "source": [],
   "metadata": {
    "collapsed": false,
    "ExecuteTime": {
     "end_time": "2023-10-11T13:20:49.064991Z",
     "start_time": "2023-10-11T13:20:48.969063100Z"
    }
   },
   "id": "954543b79aceada4"
  },
  {
   "cell_type": "markdown",
   "source": [
    "Der user soll zwei Zahlen angeben.\n",
    "Bei der Eingabe von 6 und 2 soll folgendes Muster ausgegeben werden\n",
    "\n",
    "    **\n",
    "    **\n",
    "    **\n",
    "    **\n",
    "    **\n",
    "    **\n",
    "    \n",
    "    ******\n",
    "    ******\n",
    "    \n",
    "    *\n",
    "    **\n",
    "    ***\n",
    "    ****\n",
    "    *****\n",
    "    ******\n",
    "    \n",
    "    ******\n",
    "    *****\n",
    "    \n",
    "Bei 7 und 4\n",
    "\n",
    "    ****\n",
    "    ****\n",
    "    ****\n",
    "    ****\n",
    "    ****\n",
    "    ****\n",
    "    ****\n",
    "    \n",
    "    *******\n",
    "    *******\n",
    "    \n",
    "    *\n",
    "    **\n",
    "    ***\n",
    "    ****\n",
    "    *****\n",
    "    ******\n",
    "    *******\n",
    "    \n",
    "    *******\n",
    "    ******\n",
    "    *****\n",
    "    ****"
   ],
   "metadata": {
    "collapsed": false
   },
   "id": "cb4093a2950de3a8"
  },
  {
   "cell_type": "code",
   "execution_count": 87,
   "outputs": [],
   "source": [],
   "metadata": {
    "collapsed": false,
    "ExecuteTime": {
     "end_time": "2023-10-11T13:20:49.072991100Z",
     "start_time": "2023-10-11T13:20:48.973106200Z"
    }
   },
   "id": "83ea118ca36c7047"
  },
  {
   "cell_type": "markdown",
   "source": [
    "Schreib eine Schleife, die folgendes Muster ausgibt\n",
    "1\n",
    "12\n",
    "123\n",
    "1234\n",
    "12345"
   ],
   "metadata": {
    "collapsed": false
   },
   "id": "b6a92abca87d6028"
  },
  {
   "cell_type": "code",
   "execution_count": 2,
   "outputs": [
    {
     "name": "stdout",
     "output_type": "stream",
     "text": [
      "1\n",
      "12\n",
      "123\n",
      "1234\n",
      "12345\n"
     ]
    }
   ],
   "source": [
    "for zeile in range(1,6):\n",
    "    for zahl in range(1,zeile+1):\n",
    "        print(zahl, end='')\n",
    "    print()"
   ],
   "metadata": {
    "collapsed": false,
    "ExecuteTime": {
     "end_time": "2023-10-12T06:20:28.151930800Z",
     "start_time": "2023-10-12T06:20:28.132226600Z"
    }
   },
   "id": "8000aec5aa8c90fe"
  },
  {
   "cell_type": "markdown",
   "source": [
    "Schreib eine Schleife, die folgendes Muster ausgibt\n",
    "5\n",
    "45\n",
    "345\n",
    "2345\n",
    "12345"
   ],
   "metadata": {
    "collapsed": false
   },
   "id": "b4c6f885fde2ed68"
  },
  {
   "cell_type": "code",
   "execution_count": 87,
   "outputs": [],
   "source": [
    "\n",
    "        "
   ],
   "metadata": {
    "collapsed": false,
    "ExecuteTime": {
     "end_time": "2023-10-11T13:20:49.112990700Z",
     "start_time": "2023-10-11T13:20:48.981433800Z"
    }
   },
   "id": "4278984c481ab711"
  },
  {
   "cell_type": "markdown",
   "source": [
    "Schreib eine Schleife, die folgendes Muster ausgibt\n",
    "12345\n",
    "1234\n",
    "123\n",
    "12\n",
    "1"
   ],
   "metadata": {
    "collapsed": false
   },
   "id": "35ac6f1f2756e2c1"
  },
  {
   "cell_type": "code",
   "execution_count": 87,
   "outputs": [],
   "source": [],
   "metadata": {
    "collapsed": false,
    "ExecuteTime": {
     "end_time": "2023-10-11T13:20:49.115991Z",
     "start_time": "2023-10-11T13:20:48.990022500Z"
    }
   },
   "id": "45630f0ae582e2ed"
  },
  {
   "cell_type": "markdown",
   "source": [
    "Schreib eine Schleife, die folgendes Muster ausgibt\n",
    "OXOXOXOX\n",
    "XOXOXOXO\n",
    "OXOXOXOX\n",
    "XOXOXOXO\n",
    "OXOXOXOX\n",
    "XOXOXOXO\n",
    "OXOXOXOX\n",
    "XOXOXOXO"
   ],
   "metadata": {
    "collapsed": false
   },
   "id": "63e6f1e05618d8c1"
  },
  {
   "cell_type": "code",
   "execution_count": 32,
   "outputs": [
    {
     "name": "stdout",
     "output_type": "stream",
     "text": [
      "OXOXOXOX\n",
      "XOXOXOXO\n",
      "OXOXOXOX\n",
      "XOXOXOXO\n",
      "OXOXOXOX\n",
      "XOXOXOXO\n",
      "OXOXOXOX\n",
      "XOXOXOXO\n"
     ]
    }
   ],
   "source": [
    "n=2\n",
    "for zeile in range(8):\n",
    "    for ox in range(8):\n",
    "        if n%2 == 0:\n",
    "            print('O', end='')\n",
    "        elif n%2 != 0:\n",
    "            print('X', end='')\n",
    "        n+=1\n",
    "    print()\n",
    "    n+=1"
   ],
   "metadata": {
    "collapsed": false,
    "ExecuteTime": {
     "end_time": "2023-10-12T07:22:24.470169100Z",
     "start_time": "2023-10-12T07:22:24.451528500Z"
    }
   },
   "id": "5dbf2cf193009600"
  },
  {
   "cell_type": "markdown",
   "source": [
    "Schreib eine Schleife die folgendes Muster ausgibt\n",
    "       1\n",
    "      212\n",
    "     32123\n",
    "    4321234\n",
    "   543212345\n",
    "  65432123456\n",
    " 7654321234567"
   ],
   "metadata": {
    "collapsed": false
   },
   "id": "b993ab9aebfc8b30"
  },
  {
   "cell_type": "code",
   "execution_count": 25,
   "outputs": [
    {
     "name": "stdout",
     "output_type": "stream",
     "text": [
      "1\n",
      "212\n",
      "32123\n",
      "4321234\n"
     ]
    }
   ],
   "source": [
    "for i in range(1,5):\n",
    "    for k in range(i-1,0,-1):\n",
    "        print(k+1, end='')      \n",
    "    for end in range(1,i+1):\n",
    "        print(end, end='')\n",
    "    print()\n",
    "   "
   ],
   "metadata": {
    "collapsed": false,
    "ExecuteTime": {
     "end_time": "2023-10-12T06:48:46.487860500Z",
     "start_time": "2023-10-12T06:48:46.476853100Z"
    }
   },
   "id": "66f048582c704d99"
  },
  {
   "cell_type": "markdown",
   "source": [
    "### fizzbuzz\n",
    "Schreiben Sie ein Programm, das die Zahlen von 1 bis 100 ausgibt. Bei jeder Zahl, die durch 5 teilbar ist, soll \"fizz\" ausgegeben werden und bei jeder Zahl, die durch 7 teilbar ist, soll \"buzz\" ausgegeben werden. Wenn die Zahl sowohl durch 7 als auch durch 5 teilbar ist, soll \"fizzbuzz\" ausgegeben werden. Der Modulo-Operator ermittelt den Rest bei Division. Somit ist eine Teilbarkeit einfach dann erreicht, wenn die Modulo-Operation (%, MOD) den Rest 0 liefert."
   ],
   "metadata": {
    "collapsed": false
   },
   "id": "2e627f9c8d28eef"
  },
  {
   "cell_type": "code",
   "execution_count": 35,
   "outputs": [
    {
     "name": "stdout",
     "output_type": "stream",
     "text": [
      "1\n",
      "2\n",
      "3\n",
      "4\n",
      "fizz\n",
      "6\n",
      "buzz\n",
      "8\n",
      "9\n",
      "fizz\n",
      "11\n",
      "12\n",
      "13\n",
      "buzz\n",
      "fizz\n",
      "16\n",
      "17\n",
      "18\n",
      "19\n",
      "fizz\n",
      "buzz\n",
      "22\n",
      "23\n",
      "24\n",
      "fizz\n",
      "26\n",
      "27\n",
      "buzz\n",
      "29\n",
      "fizz\n",
      "31\n",
      "32\n",
      "33\n",
      "34\n",
      "fizzbuzz\n",
      "36\n",
      "37\n",
      "38\n",
      "39\n",
      "fizz\n",
      "41\n",
      "buzz\n",
      "43\n",
      "44\n",
      "fizz\n",
      "46\n",
      "47\n",
      "48\n",
      "buzz\n",
      "fizz\n",
      "51\n",
      "52\n",
      "53\n",
      "54\n",
      "fizz\n",
      "buzz\n",
      "57\n",
      "58\n",
      "59\n",
      "fizz\n",
      "61\n",
      "62\n",
      "buzz\n",
      "64\n",
      "fizz\n",
      "66\n",
      "67\n",
      "68\n",
      "69\n",
      "fizzbuzz\n",
      "71\n",
      "72\n",
      "73\n",
      "74\n",
      "fizz\n",
      "76\n",
      "buzz\n",
      "78\n",
      "79\n",
      "fizz\n",
      "81\n",
      "82\n",
      "83\n",
      "buzz\n",
      "fizz\n",
      "86\n",
      "87\n",
      "88\n",
      "89\n",
      "fizz\n",
      "buzz\n",
      "92\n",
      "93\n",
      "94\n",
      "fizz\n",
      "96\n",
      "97\n",
      "buzz\n",
      "99\n",
      "fizz\n"
     ]
    }
   ],
   "source": [
    "for x in range(1,101):\n",
    "    if x%5 == 0 and x%7 == 0:\n",
    "        print('fizzbuzz')\n",
    "    elif x%5 == 0:\n",
    "        print('fizz')\n",
    "    elif x%7 == 0:\n",
    "        print('buzz')\n",
    "    \n",
    "    else:\n",
    "        print(x)"
   ],
   "metadata": {
    "collapsed": false,
    "ExecuteTime": {
     "end_time": "2023-10-12T07:27:07.081557700Z",
     "start_time": "2023-10-12T07:27:07.064564400Z"
    }
   },
   "id": "8e9e7d7de68ef702"
  },
  {
   "cell_type": "markdown",
   "source": [],
   "metadata": {
    "collapsed": false
   },
   "id": "650f45a204aa6d9e"
  }
 ],
 "metadata": {
  "kernelspec": {
   "display_name": "Python 3",
   "language": "python",
   "name": "python3"
  },
  "language_info": {
   "codemirror_mode": {
    "name": "ipython",
    "version": 2
   },
   "file_extension": ".py",
   "mimetype": "text/x-python",
   "name": "python",
   "nbconvert_exporter": "python",
   "pygments_lexer": "ipython2",
   "version": "2.7.6"
  }
 },
 "nbformat": 4,
 "nbformat_minor": 5
}
