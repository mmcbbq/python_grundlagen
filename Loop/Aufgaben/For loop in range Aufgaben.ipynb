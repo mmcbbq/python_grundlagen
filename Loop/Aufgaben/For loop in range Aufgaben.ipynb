{
 "cells": [
  {
   "cell_type": "markdown",
   "source": [
    "### Summe\n",
    "Berechne die Summe aller Zahlen von 1 - 500"
   ],
   "metadata": {
    "collapsed": false
   },
   "id": "544e8fc3ce8856d"
  },
  {
   "cell_type": "code",
   "execution_count": 87,
   "outputs": [],
   "source": [],
   "metadata": {
    "collapsed": false,
    "ExecuteTime": {
     "end_time": "2023-10-11T13:20:49.047992700Z",
     "start_time": "2023-10-11T13:20:48.956736700Z"
    }
   },
   "id": "d715a44bac93b77a"
  },
  {
   "cell_type": "markdown",
   "source": [
    "### Muster\n",
    "Schreib eine Schleife die folgendes Muster ausgibt\n",
    "    *\n",
    "    **\n",
    "    ***\n",
    "    ****\n",
    "    *****"
   ],
   "metadata": {
    "collapsed": false
   },
   "id": "3ed00adb322800d0"
  },
  {
   "cell_type": "code",
   "execution_count": 87,
   "outputs": [],
   "source": [],
   "metadata": {
    "collapsed": false,
    "ExecuteTime": {
     "end_time": "2023-10-11T13:20:49.051989700Z",
     "start_time": "2023-10-11T13:20:48.959741300Z"
    }
   },
   "id": "167f45c33f3e1914"
  },
  {
   "cell_type": "markdown",
   "source": [
    "Schreib eine Schleife die folgendes Muster ausgibt\n",
    "    *****\n",
    "    ****\n",
    "    ***\n",
    "    **\n",
    "    *"
   ],
   "metadata": {
    "collapsed": false
   },
   "id": "d374521f50b0c968"
  },
  {
   "cell_type": "code",
   "execution_count": 87,
   "outputs": [],
   "source": [],
   "metadata": {
    "collapsed": false,
    "ExecuteTime": {
     "end_time": "2023-10-11T13:20:49.060990100Z",
     "start_time": "2023-10-11T13:20:48.965023100Z"
    }
   },
   "id": "f8fce1377a2dfdfd"
  },
  {
   "cell_type": "markdown",
   "source": [
    "Heron von Alexandria (genannt Mechanicus) war ein Mathematiker und Ingenieur, der vermutlich im 1. Jahrhundert lebte. Bekannt sind vor allem seine Ausführungen zu automatischen, teilweise sogar schon programmierbaren Geräten und der Ausnutzung von Wasser, Luft und Hitze als treibende Kraft. Hier sind insbesondere die Erfindung der Aeolipile, auch Heronsball genannt, und der Heronsbrunnen zu nennen (wikipedia).\n",
    "\n",
    "Außerdem entwickelte er einen Algorithmus, mit dem man für eine beliebige Zahl die Quadratwurzel auf eine beliebige Genauigkeit berechnen kann … das Heron-Verfahren:\n",
    "\n",
    "Wähle eine Startwert x zur Bestimmung der Wurzel aus w.\n",
    "Wähle \n",
    "\n",
    "x = (x + w/x)/2\n",
    " ):2 als nächsten Näherungswert.\n",
    "Wiederhole (2.) mit den jeweils neuen Näherungswerten bis die gewünschte Genauigkeit erreicht ist.\n",
    "Die Grundidee für dieses Verfahren basiert auf der Frage, wie ein Rechteck in ein flächengleiches Quadrat umgewandelt werden kann … dafür wird die Seitenlänge des Quadrats benötigt."
   ],
   "metadata": {
    "collapsed": false
   },
   "id": "d9ba50f417eac589"
  },
  {
   "cell_type": "code",
   "execution_count": 87,
   "outputs": [],
   "source": [],
   "metadata": {
    "collapsed": false,
    "ExecuteTime": {
     "end_time": "2023-10-11T13:20:49.064991Z",
     "start_time": "2023-10-11T13:20:48.969063100Z"
    }
   },
   "id": "954543b79aceada4"
  },
  {
   "cell_type": "markdown",
   "source": [
    "Der user soll zwei Zahlen angeben.\n",
    "Bei der Eingabe von 6 und 2 soll folgendes Muster ausgegeben werden\n",
    "\n",
    "    **\n",
    "    **\n",
    "    **\n",
    "    **\n",
    "    **\n",
    "    **\n",
    "    \n",
    "    ******\n",
    "    ******\n",
    "    \n",
    "    *\n",
    "    **\n",
    "    ***\n",
    "    ****\n",
    "    *****\n",
    "    ******\n",
    "    \n",
    "    ******\n",
    "    *****\n",
    "    \n",
    "Bei 7 und 4\n",
    "\n",
    "    ****\n",
    "    ****\n",
    "    ****\n",
    "    ****\n",
    "    ****\n",
    "    ****\n",
    "    ****\n",
    "    \n",
    "    *******\n",
    "    *******\n",
    "    \n",
    "    *\n",
    "    **\n",
    "    ***\n",
    "    ****\n",
    "    *****\n",
    "    ******\n",
    "    *******\n",
    "    \n",
    "    *******\n",
    "    ******\n",
    "    *****\n",
    "    ****"
   ],
   "metadata": {
    "collapsed": false
   },
   "id": "cb4093a2950de3a8"
  },
  {
   "cell_type": "code",
   "execution_count": 87,
   "outputs": [],
   "source": [],
   "metadata": {
    "collapsed": false,
    "ExecuteTime": {
     "end_time": "2023-10-11T13:20:49.072991100Z",
     "start_time": "2023-10-11T13:20:48.973106200Z"
    }
   },
   "id": "83ea118ca36c7047"
  },
  {
   "cell_type": "markdown",
   "source": [
    "Schreib eine Schleife, die folgendes Muster ausgibt\n",
    "1\n",
    "12\n",
    "123\n",
    "1234\n",
    "12345"
   ],
   "metadata": {
    "collapsed": false
   },
   "id": "b6a92abca87d6028"
  },
  {
   "cell_type": "code",
   "execution_count": 87,
   "outputs": [],
   "source": [],
   "metadata": {
    "collapsed": false,
    "ExecuteTime": {
     "end_time": "2023-10-11T13:20:49.112990700Z",
     "start_time": "2023-10-11T13:20:48.977733900Z"
    }
   },
   "id": "8000aec5aa8c90fe"
  },
  {
   "cell_type": "markdown",
   "source": [
    "Schreib eine Schleife, die folgendes Muster ausgibt\n",
    "5\n",
    "45\n",
    "345\n",
    "2345\n",
    "12345"
   ],
   "metadata": {
    "collapsed": false
   },
   "id": "b4c6f885fde2ed68"
  },
  {
   "cell_type": "code",
   "execution_count": 87,
   "outputs": [],
   "source": [
    "\n",
    "        "
   ],
   "metadata": {
    "collapsed": false,
    "ExecuteTime": {
     "end_time": "2023-10-11T13:20:49.112990700Z",
     "start_time": "2023-10-11T13:20:48.981433800Z"
    }
   },
   "id": "4278984c481ab711"
  },
  {
   "cell_type": "markdown",
   "source": [
    "Schreib eine Schleife, die folgendes Muster ausgibt\n",
    "12345\n",
    "1234\n",
    "123\n",
    "12\n",
    "1"
   ],
   "metadata": {
    "collapsed": false
   },
   "id": "35ac6f1f2756e2c1"
  },
  {
   "cell_type": "code",
   "execution_count": 87,
   "outputs": [],
   "source": [],
   "metadata": {
    "collapsed": false,
    "ExecuteTime": {
     "end_time": "2023-10-11T13:20:49.115991Z",
     "start_time": "2023-10-11T13:20:48.990022500Z"
    }
   },
   "id": "45630f0ae582e2ed"
  },
  {
   "cell_type": "markdown",
   "source": [
    "Schreib eine Schleife, die folgendes Muster ausgibt\n",
    "OXOXOXOX\n",
    "XOXOXOXO\n",
    "OXOXOXOX\n",
    "XOXOXOXO\n",
    "OXOXOXOX\n",
    "XOXOXOXO\n",
    "OXOXOXOX\n",
    "XOXOXOXO"
   ],
   "metadata": {
    "collapsed": false
   },
   "id": "63e6f1e05618d8c1"
  },
  {
   "cell_type": "code",
   "execution_count": 87,
   "outputs": [],
   "source": [],
   "metadata": {
    "collapsed": false,
    "ExecuteTime": {
     "end_time": "2023-10-11T13:20:49.126992Z",
     "start_time": "2023-10-11T13:20:48.998981900Z"
    }
   },
   "id": "5dbf2cf193009600"
  },
  {
   "cell_type": "markdown",
   "source": [
    "Schreib eine Schleife die folgendes Muster ausgibt\n",
    "       1\n",
    "      212\n",
    "     32123\n",
    "    4321234\n",
    "   543212345\n",
    "  65432123456\n",
    " 7654321234567"
   ],
   "metadata": {
    "collapsed": false
   },
   "id": "b993ab9aebfc8b30"
  },
  {
   "cell_type": "code",
   "execution_count": 87,
   "outputs": [],
   "source": [
    "\n",
    "   "
   ],
   "metadata": {
    "collapsed": false,
    "ExecuteTime": {
     "end_time": "2023-10-11T13:20:49.138991100Z",
     "start_time": "2023-10-11T13:20:49.008074Z"
    }
   },
   "id": "66f048582c704d99"
  },
  {
   "cell_type": "markdown",
   "source": [
    "### fizzbuzz\n",
    "Schreiben Sie ein Programm, das die Zahlen von 1 bis 100 ausgibt. Bei jeder Zahl, die durch 5 teilbar ist, soll \"fizz\" ausgegeben werden und bei jeder Zahl, die durch 7 teilbar ist, soll \"buzz\" ausgegeben werden. Wenn die Zahl sowohl durch 7 als auch durch 5 teilbar ist, soll \"fizzbuzz\" ausgegeben werden. Der Modulo-Operator ermittelt den Rest bei Division. Somit ist eine Teilbarkeit einfach dann erreicht, wenn die Modulo-Operation (%, MOD) den Rest 0 liefert."
   ],
   "metadata": {
    "collapsed": false
   },
   "id": "2e627f9c8d28eef"
  },
  {
   "cell_type": "code",
   "execution_count": 87,
   "outputs": [],
   "source": [],
   "metadata": {
    "collapsed": false,
    "ExecuteTime": {
     "end_time": "2023-10-11T13:20:49.138991100Z",
     "start_time": "2023-10-11T13:20:49.012994900Z"
    }
   },
   "id": "8e9e7d7de68ef702"
  },
  {
   "cell_type": "markdown",
   "source": [],
   "metadata": {
    "collapsed": false
   },
   "id": "650f45a204aa6d9e"
  }
 ],
 "metadata": {
  "kernelspec": {
   "display_name": "Python 3",
   "language": "python",
   "name": "python3"
  },
  "language_info": {
   "codemirror_mode": {
    "name": "ipython",
    "version": 2
   },
   "file_extension": ".py",
   "mimetype": "text/x-python",
   "name": "python",
   "nbconvert_exporter": "python",
   "pygments_lexer": "ipython2",
   "version": "2.7.6"
  }
 },
 "nbformat": 4,
 "nbformat_minor": 5
}
