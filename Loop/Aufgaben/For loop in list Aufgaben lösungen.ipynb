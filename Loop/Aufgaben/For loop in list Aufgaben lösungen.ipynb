{
 "cells": [
  {
   "cell_type": "code",
   "execution_count": 10,
   "outputs": [],
   "source": [
    "numbers = [65, 44, 77, 58, 38, 56, 77, 91, 18, 57, 67, 84, 12, 66, 43, 7, 53, 76, 66, 11, 44, 26, 34, 61, 98, 13, 55, 46, 29, 9, 78, 85, 14, 86, 18, 4, 98, 98, 10, 70, 32, 98, 83, 70, 24, 6, 30, 6, 98, 34, 81, 2, 96, 21, 4, 6, 84, 20, 39, 59, 3, 84, 71, 30, 29, 27, 25, 21, 68, 76, 70, 57, 98, 53, 84, 63, 34, 26, 40, 38, 71, 92, 64, 78, 9, 1, 30, 25, 70, 85, 11, 77, 31, 41, 23, 59, 100, 45, 5, 94]"
   ],
   "metadata": {
    "collapsed": false,
    "ExecuteTime": {
     "end_time": "2023-10-12T07:27:50.311903700Z",
     "start_time": "2023-10-12T07:27:50.288136400Z"
    }
   },
   "id": "c882a3d8a60e5944"
  },
  {
   "cell_type": "markdown",
   "source": [
    "Gebe alle Zahlen aus der numbers Liste aus die kleiner gleich 50 sind"
   ],
   "metadata": {
    "collapsed": false
   },
   "id": "e889badb778fa9f"
  },
  {
   "cell_type": "code",
   "execution_count": 12,
   "outputs": [
    {
     "name": "stdout",
     "output_type": "stream",
     "text": [
      "44\n",
      "38\n",
      "18\n",
      "12\n",
      "43\n",
      "7\n",
      "11\n",
      "44\n",
      "26\n",
      "34\n",
      "13\n",
      "46\n",
      "29\n",
      "9\n",
      "14\n",
      "18\n",
      "4\n",
      "10\n",
      "32\n",
      "24\n",
      "6\n",
      "30\n",
      "6\n",
      "34\n",
      "2\n",
      "21\n",
      "4\n",
      "6\n",
      "20\n",
      "39\n",
      "3\n",
      "30\n",
      "29\n",
      "27\n",
      "25\n",
      "21\n",
      "34\n",
      "26\n",
      "40\n",
      "38\n",
      "9\n",
      "1\n",
      "30\n",
      "25\n",
      "11\n",
      "31\n",
      "41\n",
      "23\n",
      "45\n",
      "5\n"
     ]
    }
   ],
   "source": [
    "for numb in numbers:\n",
    "    if numb <= 50:\n",
    "        print(numb)"
   ],
   "metadata": {
    "collapsed": false,
    "ExecuteTime": {
     "end_time": "2023-10-12T07:28:48.036866900Z",
     "start_time": "2023-10-12T07:28:48.021282300Z"
    }
   },
   "id": "8a8535cae6363250"
  },
  {
   "cell_type": "markdown",
   "source": [
    "Die Anzahl der Zahlen aus der numbers Liste die zwischen 30 und 70 liegen."
   ],
   "metadata": {
    "collapsed": false
   },
   "id": "a6c64b4ec54d840e"
  },
  {
   "cell_type": "code",
   "execution_count": 13,
   "outputs": [
    {
     "name": "stdout",
     "output_type": "stream",
     "text": [
      "65\n",
      "44\n",
      "58\n",
      "38\n",
      "56\n",
      "57\n",
      "67\n",
      "66\n",
      "43\n",
      "53\n",
      "66\n",
      "44\n",
      "34\n",
      "61\n",
      "55\n",
      "46\n",
      "70\n",
      "32\n",
      "70\n",
      "30\n",
      "34\n",
      "39\n",
      "59\n",
      "30\n",
      "68\n",
      "70\n",
      "57\n",
      "53\n",
      "63\n",
      "34\n",
      "40\n",
      "38\n",
      "64\n",
      "30\n",
      "70\n",
      "31\n",
      "41\n",
      "59\n",
      "45\n"
     ]
    }
   ],
   "source": [
    "for numb in numbers:\n",
    "    if 30<= numb <= 70:\n",
    "        print(numb)"
   ],
   "metadata": {
    "collapsed": false,
    "ExecuteTime": {
     "end_time": "2023-10-12T07:29:22.279222800Z",
     "start_time": "2023-10-12T07:29:22.257025900Z"
    }
   },
   "id": "43336bf6a4958169"
  },
  {
   "cell_type": "markdown",
   "source": [
    "Gebe alle Zahlen aus der numbers Liste die grade durch 5 teilbar sind aus (modulo == 0)"
   ],
   "metadata": {
    "collapsed": false
   },
   "id": "98110ab444ab4c75"
  },
  {
   "cell_type": "code",
   "execution_count": 14,
   "outputs": [
    {
     "name": "stdout",
     "output_type": "stream",
     "text": [
      "65\n",
      "55\n",
      "85\n",
      "10\n",
      "70\n",
      "70\n",
      "30\n",
      "20\n",
      "30\n",
      "25\n",
      "70\n",
      "40\n",
      "30\n",
      "25\n",
      "70\n",
      "85\n",
      "100\n",
      "45\n",
      "5\n"
     ]
    }
   ],
   "source": [
    "for numb in numbers:\n",
    "    if numb%5 == 0:\n",
    "        print(numb)"
   ],
   "metadata": {
    "collapsed": false,
    "ExecuteTime": {
     "end_time": "2023-10-12T07:30:13.381650Z",
     "start_time": "2023-10-12T07:30:13.353737400Z"
    }
   },
   "id": "7447b93ee4cb44f4"
  },
  {
   "cell_type": "code",
   "execution_count": 17,
   "outputs": [],
   "source": [
    "list1 = [22, 27, 31, 19, 47, 89, 22, 79, 26, 27]\n",
    "list2 = [71, 6, 47, 19, 94, 71, 65, 67, 19, 64]\n",
    "list3 = [19, 14, 34, 86, 86, 31, 97, 6, 21, 21]\n",
    "nested_list = [ list1,list2,list3]"
   ],
   "metadata": {
    "collapsed": false,
    "ExecuteTime": {
     "end_time": "2023-10-12T07:32:26.421347900Z",
     "start_time": "2023-10-12T07:32:26.404343Z"
    }
   },
   "id": "688ba4b694a09365"
  },
  {
   "cell_type": "markdown",
   "source": [
    "Erstelle eine Liste (sieben) mit allen Zahlen aus der numbers Liste die grade durch 7 teilbar sind."
   ],
   "metadata": {
    "collapsed": false
   },
   "id": "ccdfb4bc7af5bd8f"
  },
  {
   "cell_type": "code",
   "execution_count": 18,
   "outputs": [
    {
     "name": "stdout",
     "output_type": "stream",
     "text": [
      "[14, 21, 21]\n"
     ]
    }
   ],
   "source": [
    "sieben = []\n",
    "for list in nested_list:\n",
    "    for zahl in list:\n",
    "        if zahl%7 == 0:\n",
    "            sieben.append(zahl)\n",
    "print(sieben)"
   ],
   "metadata": {
    "collapsed": false,
    "ExecuteTime": {
     "end_time": "2023-10-12T07:32:37.162783800Z",
     "start_time": "2023-10-12T07:32:37.114779500Z"
    }
   },
   "id": "69f0020590144a"
  },
  {
   "cell_type": "markdown",
   "source": [
    "\n",
    "Wie oft kommt die Zahl 19 in nested_list vor?\n"
   ],
   "metadata": {
    "collapsed": false
   },
   "id": "8de29a116316e49e"
  },
  {
   "cell_type": "code",
   "execution_count": 21,
   "outputs": [
    {
     "name": "stdout",
     "output_type": "stream",
     "text": [
      "4\n"
     ]
    }
   ],
   "source": [
    "n=0\n",
    "for list in nested_list:\n",
    "    for zahl in list: \n",
    "        if zahl == 19:\n",
    "            n+=1\n",
    "print(n)       "
   ],
   "metadata": {
    "collapsed": false,
    "ExecuteTime": {
     "end_time": "2023-10-12T07:35:04.196007400Z",
     "start_time": "2023-10-12T07:35:04.176010400Z"
    }
   },
   "id": "a03e5b77841c7a93"
  },
  {
   "cell_type": "markdown",
   "source": [
    "### Erstelle drei Listen (kl33, zw33_66 und gr66). Sortiere Alle Zahlen aus dem nested_list in die passende Liste "
   ],
   "metadata": {
    "collapsed": false
   },
   "id": "90829f8dc8d940a8"
  },
  {
   "cell_type": "code",
   "execution_count": null,
   "outputs": [],
   "source": [
    "kl33 = []\n",
    "zw33_66 = []\n",
    "gr66 = []\n",
    "for i in nested_list:\n",
    "    for x in i:\n",
    "        if x <= 33:\n",
    "            kl33.append(x)\n",
    "        elif x <= 66:\n",
    "            zw33_66.append(x)\n",
    "        elif x > 66 :\n",
    "            gr66.append(x)\n",
    "print(kl33)\n",
    "print(zw33_66)\n",
    "print(gr66)"
   ],
   "metadata": {
    "collapsed": false
   },
   "id": "eeab7d20353e4fbb"
  },
  {
   "cell_type": "markdown",
   "source": [
    "Summe aller Zahlen in der liste Zahlen"
   ],
   "metadata": {
    "collapsed": false
   },
   "id": "1f7dfabc9ee6d657"
  },
  {
   "cell_type": "code",
   "execution_count": 10,
   "outputs": [
    {
     "name": "stdout",
     "output_type": "stream",
     "text": [
      "10\n"
     ]
    }
   ],
   "source": [
    "zahlen = [9,2,3,5,8,5,-1,2,10]\n",
    "summ = 0 \n",
    "for i in zahlen:\n",
    "    sum =+ i\n",
    "print(i)"
   ],
   "metadata": {
    "collapsed": false,
    "ExecuteTime": {
     "end_time": "2023-10-12T08:04:10.814665Z",
     "start_time": "2023-10-12T08:04:10.748564Z"
    }
   },
   "id": "a83c179335d54600"
  },
  {
   "cell_type": "markdown",
   "source": [
    "### Sieb des Eratosthenes\n",
    "\n",
    "Das Sieb des Eratosthenes ist ein Algorithmus zur Bestimmung einer Liste oder Tabelle aller Primzahlen kleiner oder gleich einer vorgegebenen Zahl.\n",
    "\n",
    "Aus http://de.wikipedia.org/wiki/Sieb_des_Eratosthenes:\n",
    "\n",
    "Zunächst werden alle Zahlen 2, 3, 4, … bis zu einem frei wählbaren Maximalwert N aufgeschrieben. Die zunächst unmarkierten Zahlen sind potentielle Primzahlen. Die kleinste unmarkierte Zahl ist immer eine Primzahl. Nachdem eine Primzahl gefunden wurde, werden alle Vielfachen dieser Primzahl als zusammengesetzt markiert. Man bestimmt die nächstgrössere nicht markierte Zahl. Da sie kein Vielfaches von Zahlen kleiner als sie selbst ist (sonst wäre sie markiert worden), kann sie nur durch eins und sich selbst teilbar sein. Folglich muss es sich um eine Primzahl handeln. Diese wird dementsprechend als Primzahl ausgegeben. Man streicht wieder alle Vielfachen und führt das Verfahren fort, bis man am Ende der Liste angekommen ist. Im Verlauf des Verfahren werden alle Primzahlen ausgegeben."
   ],
   "metadata": {
    "collapsed": false
   },
   "id": "ee67d9cb2ca99f27"
  },
  {
   "cell_type": "code",
   "execution_count": 9,
   "outputs": [
    {
     "name": "stdout",
     "output_type": "stream",
     "text": [
      "[2, 3, 5, 7, 11, 13, 17, 19, 23, 29, 31, 37, 41, 43, 47, 53, 59, 61, 67, 71, 73, 79, 83, 89, 97, 101, 103, 107, 109, 113, 127, 131, 137, 139, 149, 151, 157, 163, 167, 173, 179, 181, 191, 193, 197, 199]\n"
     ]
    }
   ],
   "source": [
    "zahlen = []\n",
    "for x in range(2,201):\n",
    "    zahlen.append(x)\n",
    "for x in zahlen:\n",
    "    for y in zahlen:\n",
    "        if y != x and y%x == 0:\n",
    "            zahlen.remove(y)\n",
    "print(zahlen)"
   ],
   "metadata": {
    "collapsed": false,
    "ExecuteTime": {
     "end_time": "2023-10-12T05:43:13.667721700Z",
     "start_time": "2023-10-12T05:43:13.652081200Z"
    }
   },
   "id": "a8a7a94b4cba9702"
  },
  {
   "cell_type": "markdown",
   "source": [
    "Bubblesort"
   ],
   "metadata": {
    "collapsed": false
   },
   "id": "82ab02afd708c1d0"
  },
  {
   "cell_type": "code",
   "execution_count": 9,
   "outputs": [
    {
     "name": "stdout",
     "output_type": "stream",
     "text": [
      "[12, 65, 57, 56, 48, 22, 81, 65, 29, 7, 47, 15, 35, 14, 95, 68, 89, 22, 6, 53, 90, 68, 87, 89, 15, 15, 6, 71, 90, 11, 25, 51, 66, 74, 2, 41, 17, 71, 54, 15, 57, 39, 30, 5, 10, 40, 8, 98, 42, 21, 76, 74, 33, 31, 57, 71, 88, 100, 13, 37, 80, 40, 95, 56, 26, 47, 68, 56, 30, 72, 34, 43, 27, 29, 27, 9, 90, 62, 99, 46, 77, 89, 100, 12, 35, 17, 42, 88, 16, 91, 43, 89, 26, 10, 80, 37, 49, 61, 4, 9]\n",
      "------------------------------------------\n",
      "4950\n"
     ]
    }
   ],
   "source": [
    "import random\n",
    "ran_zahlen = []\n",
    "for x in range(100):\n",
    "    ran_zahlen.append(random.randint(1,100))\n",
    "print(ran_zahlen)\n",
    "print('------------------------------------------')\n",
    "    \n",
    "count = 0  \n",
    "n = len(ran_zahlen)\n",
    "for x in range(n):\n",
    "    for y in range(n-1-x):\n",
    "        count += 1\n",
    "        #print(f'überprüfen {ran_zahlen[y]} größer als {ran_zahlen[y+1]}')\n",
    "        if ran_zahlen[y] > ran_zahlen[y+1]:\n",
    "            \n",
    "            pla = ran_zahlen[y]\n",
    "            ran_zahlen[y] = ran_zahlen[y+1]\n",
    "            ran_zahlen[y+1] = pla\n",
    "            #ran_zahlen[y] , ran_zahlen[y+1] = ran_zahlen[y+1] , ran_zahlen[y]\n",
    "            \n",
    "#print(ran_zahlen)\n",
    "print(count)"
   ],
   "metadata": {
    "collapsed": false,
    "ExecuteTime": {
     "end_time": "2023-10-12T07:59:39.811183900Z",
     "start_time": "2023-10-12T07:59:39.787912700Z"
    }
   },
   "id": "17c825084ab77884"
  },
  {
   "cell_type": "code",
   "execution_count": null,
   "outputs": [],
   "source": [
    "mitarbeiter_id = [456,'MID122',788,'nest',False,'MID123',785,'MID24',7, 555,'MDI6',True,'tewst']\n",
    "for_mid = []\n",
    "filter_mid = []\n",
    "for mid in mitarbeiter_id:\n",
    "    if type(mid)== int:\n",
    "        mid = str(mid)\n",
    "        mid = 'MID'+mid\n",
    "    if type(mid) == bool or mid[0:3]!= 'MID':\n",
    "        filter_mid.append(mid)\n",
    "        continue\n",
    "    anzahl_der_Nullen = 6-len(mid)\n",
    "    mid = mid[0:3]+'0'*anzahl_der_Nullen+mid[3:]\n",
    "    for_mid.append(mid)\n",
    "print(for_mid)\n",
    "print(filter_mid)\n",
    "        \n",
    "    "
   ],
   "metadata": {
    "collapsed": false
   },
   "id": "17c1c7aeedffb0ea"
  },
  {
   "cell_type": "code",
   "execution_count": null,
   "outputs": [],
   "source": [
    "import time\n",
    "for zahl in range(10,-1,-1):\n",
    "    time.sleep(1)\n",
    "    if zahl == 0:\n",
    "        print('Happy new Year')\n",
    "    else:\n",
    "        print(zahl)"
   ],
   "metadata": {
    "collapsed": false
   },
   "id": "1e8b6e7a64aa7ded"
  },
  {
   "cell_type": "code",
   "execution_count": null,
   "outputs": [],
   "source": [],
   "metadata": {
    "collapsed": false
   },
   "id": "8c7d72f993536f6f"
  }
 ],
 "metadata": {
  "kernelspec": {
   "display_name": "Python 3",
   "language": "python",
   "name": "python3"
  },
  "language_info": {
   "codemirror_mode": {
    "name": "ipython",
    "version": 2
   },
   "file_extension": ".py",
   "mimetype": "text/x-python",
   "name": "python",
   "nbconvert_exporter": "python",
   "pygments_lexer": "ipython2",
   "version": "2.7.6"
  }
 },
 "nbformat": 4,
 "nbformat_minor": 5
}
