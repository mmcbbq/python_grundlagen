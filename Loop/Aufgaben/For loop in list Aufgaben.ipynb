{
 "cells": [
  {
   "cell_type": "code",
   "execution_count": null,
   "outputs": [],
   "source": [
    "numbers = [65, 44, 77, 58, 38, 56, 77, 91, 18, 57, 67, 84, 12, 66, 43, 7, 53, 76, 66, 11, 44, 26, 34, 61, 98, 13, 55, 46, 29, 9, 78, 85, 14, 86, 18, 4, 98, 98, 10, 70, 32, 98, 83, 70, 24, 6, 30, 6, 98, 34, 81, 2, 96, 21, 4, 6, 84, 20, 39, 59, 3, 84, 71, 30, 29, 27, 25, 21, 68, 76, 70, 57, 98, 53, 84, 63, 34, 26, 40, 38, 71, 92, 64, 78, 9, 1, 30, 25, 70, 85, 11, 77, 31, 41, 23, 59, 100, 45, 5, 94]"
   ],
   "metadata": {
    "collapsed": false
   },
   "id": "c882a3d8a60e5944"
  },
  {
   "cell_type": "markdown",
   "source": [
    "Gebe alle Zahlen aus der numbers Liste aus die kleiner gleich 50 sind"
   ],
   "metadata": {
    "collapsed": false
   },
   "id": "e889badb778fa9f"
  },
  {
   "cell_type": "code",
   "execution_count": null,
   "outputs": [],
   "source": [],
   "metadata": {
    "collapsed": false
   },
   "id": "8a8535cae6363250"
  },
  {
   "cell_type": "markdown",
   "source": [
    "Die Anzahl der Zahlen aus der numbers Liste die zwischen 30 und 70 liegen."
   ],
   "metadata": {
    "collapsed": false
   },
   "id": "a6c64b4ec54d840e"
  },
  {
   "cell_type": "code",
   "execution_count": null,
   "outputs": [],
   "source": [],
   "metadata": {
    "collapsed": false
   },
   "id": "43336bf6a4958169"
  },
  {
   "cell_type": "markdown",
   "source": [
    "Gebe alle Zahlen aus der numbers Liste die grade durch 5 teilbar sind aus (modulo == 0)"
   ],
   "metadata": {
    "collapsed": false
   },
   "id": "98110ab444ab4c75"
  },
  {
   "cell_type": "code",
   "execution_count": null,
   "outputs": [],
   "source": [],
   "metadata": {
    "collapsed": false
   },
   "id": "7447b93ee4cb44f4"
  },
  {
   "cell_type": "markdown",
   "source": [
    "Erstelle eine Liste (sieben) mit allen Zahlen aus der numbers Liste die grade durch 7 teilbar sind."
   ],
   "metadata": {
    "collapsed": false
   },
   "id": "ccdfb4bc7af5bd8f"
  },
  {
   "cell_type": "code",
   "execution_count": null,
   "outputs": [],
   "source": [],
   "metadata": {
    "collapsed": false
   },
   "id": "69f0020590144a"
  },
  {
   "cell_type": "code",
   "execution_count": null,
   "outputs": [],
   "source": [
    "list1 = [22, 27, 31, 19, 47, 89, 22, 79, 26, 27]\n",
    "list2 = [71, 6, 47, 19, 94, 71, 65, 67, 19, 64]\n",
    "list3 = [19, 14, 34, 86, 86, 31, 97, 6, 21, 21]\n",
    "nested_list = [ list1,list2,list3]"
   ],
   "metadata": {
    "collapsed": false
   },
   "id": "688ba4b694a09365"
  },
  {
   "cell_type": "markdown",
   "source": [
    "Wie oft kommt die Zahl 10 in nested_list vor?\n"
   ],
   "metadata": {
    "collapsed": false
   },
   "id": "8de29a116316e49e"
  },
  {
   "cell_type": "code",
   "execution_count": null,
   "outputs": [],
   "source": [
    "       "
   ],
   "metadata": {
    "collapsed": false
   },
   "id": "a03e5b77841c7a93"
  },
  {
   "cell_type": "markdown",
   "source": [
    "### Erstelle drei Listen (kl33, zw33_66 und gr66). Sortiere Alle Zahlen aus dem nested_list in die passende Liste "
   ],
   "metadata": {
    "collapsed": false
   },
   "id": "90829f8dc8d940a8"
  },
  {
   "cell_type": "code",
   "execution_count": null,
   "outputs": [],
   "source": [],
   "metadata": {
    "collapsed": false
   },
   "id": "eeab7d20353e4fbb"
  },
  {
   "cell_type": "markdown",
   "source": [
    "Summe aller Zahlen in der liste Zahlen"
   ],
   "metadata": {
    "collapsed": false
   },
   "id": "1f7dfabc9ee6d657"
  },
  {
   "cell_type": "code",
   "execution_count": null,
   "outputs": [],
   "source": [
    "zahlen = [9,2,3,5,8,5,-1,2,10]\n"
   ],
   "metadata": {
    "collapsed": false
   },
   "id": "a83c179335d54600"
  },
  {
   "cell_type": "markdown",
   "source": [
    "### Sieb des Eratosthenes\n",
    "\n",
    "Das Sieb des Eratosthenes ist ein Algorithmus zur Bestimmung einer Liste oder Tabelle aller Primzahlen kleiner oder gleich einer vorgegebenen Zahl.\n",
    "\n",
    "Aus http://de.wikipedia.org/wiki/Sieb_des_Eratosthenes:\n",
    "\n",
    "Zunächst werden alle Zahlen 2, 3, 4, … bis zu einem frei wählbaren Maximalwert N aufgeschrieben. Die zunächst unmarkierten Zahlen sind potentielle Primzahlen. Die kleinste unmarkierte Zahl ist immer eine Primzahl. Nachdem eine Primzahl gefunden wurde, werden alle Vielfachen dieser Primzahl als zusammengesetzt markiert. Man bestimmt die nächstgrössere nicht markierte Zahl. Da sie kein Vielfaches von Zahlen kleiner als sie selbst ist (sonst wäre sie markiert worden), kann sie nur durch eins und sich selbst teilbar sein. Folglich muss es sich um eine Primzahl handeln. Diese wird dementsprechend als Primzahl ausgegeben. Man streicht wieder alle Vielfachen und führt das Verfahren fort, bis man am Ende der Liste angekommen ist. Im Verlauf des Verfahren werden alle Primzahlen ausgegeben."
   ],
   "metadata": {
    "collapsed": false
   },
   "id": "ee67d9cb2ca99f27"
  },
  {
   "cell_type": "code",
   "execution_count": 1,
   "outputs": [
    {
     "name": "stdout",
     "output_type": "stream",
     "text": [
      "[2, 3, 5, 7, 11, 13, 17, 19, 23, 29, 31, 37, 41, 43, 47, 53, 59, 61, 67, 71, 73, 79, 83, 89, 97, 101, 103, 107, 109, 113, 127, 131, 137, 139, 149, 151, 157, 163, 167, 173, 179, 181, 191, 193, 197, 199]\n"
     ]
    }
   ],
   "source": [
    "zahlen = []\n",
    "for x in range(2,201):\n",
    "    zahlen.append(x)\n",
    "for x in zahlen:\n",
    "    for y in zahlen:\n",
    "        if y != x and y%x == 0:\n",
    "            zahlen.remove(y)\n",
    "print(zahlen)"
   ],
   "metadata": {
    "collapsed": false,
    "ExecuteTime": {
     "end_time": "2023-10-11T12:54:00.323199800Z",
     "start_time": "2023-10-11T12:54:00.316176700Z"
    }
   },
   "id": "a8a7a94b4cba9702"
  },
  {
   "cell_type": "markdown",
   "source": [
    "Bubblesort"
   ],
   "metadata": {
    "collapsed": false
   },
   "id": "82ab02afd708c1d0"
  },
  {
   "cell_type": "code",
   "execution_count": 2,
   "outputs": [
    {
     "name": "stdout",
     "output_type": "stream",
     "text": [
      "[3, 3, 5, 6, 7, 7, 7, 7, 7, 11, 12, 13, 15, 16, 17, 19, 19, 20, 20, 21, 22, 22, 23, 24, 24, 26, 28, 30, 31, 31, 32, 32, 34, 34, 36, 36, 37, 37, 38, 38, 39, 42, 45, 46, 47, 49, 49, 49, 52, 52, 53, 54, 58, 58, 58, 59, 59, 61, 65, 67, 69, 69, 70, 71, 74, 74, 74, 76, 76, 77, 77, 80, 80, 81, 84, 86, 86, 87, 87, 87, 88, 88, 89, 90, 90, 90, 90, 92, 92, 92, 93, 94, 94, 94, 95, 96, 96, 96, 99, 100]\n"
     ]
    }
   ],
   "source": [
    "import random\n",
    "ran_zahlen = []\n",
    "for x in range(100):\n",
    "    ran_zahlen.append(random.randint(1,100))\n",
    "n = len(ran_zahlen)\n",
    "for x in range(n-1):\n",
    "    for y in range(n-1-x):\n",
    "        if ran_zahlen[y] > ran_zahlen[y+1]:\n",
    "            ran_zahlen[y] , ran_zahlen[y+1] = ran_zahlen[y+1] , ran_zahlen[y]\n",
    "            \n",
    "print(ran_zahlen)"
   ],
   "metadata": {
    "collapsed": false,
    "ExecuteTime": {
     "end_time": "2023-10-11T12:54:44.783093400Z",
     "start_time": "2023-10-11T12:54:44.765573500Z"
    }
   },
   "id": "17c825084ab77884"
  },
  {
   "cell_type": "code",
   "execution_count": null,
   "outputs": [],
   "source": [
    "mitarbeiter_id = [456,'MID122',788,'nest',False,'MID123',785,'MID24',7, 555,'MDI6',True,'tewst']\n",
    "for_mid = []\n",
    "filter_mid = []\n",
    "for mid in mitarbeiter_id:\n",
    "    if type(mid)== int:\n",
    "        mid = str(mid)\n",
    "        mid = 'MID'+mid\n",
    "    if type(mid) == bool or mid[0:3]!= 'MID':\n",
    "        filter_mid.append(mid)\n",
    "        continue\n",
    "    anzahl_der_Nullen = 6-len(mid)\n",
    "    mid = mid[0:3]+'0'*anzahl_der_Nullen+mid[3:]\n",
    "    for_mid.append(mid)\n",
    "print(for_mid)\n",
    "print(filter_mid)\n",
    "        \n",
    "    "
   ],
   "metadata": {
    "collapsed": false
   },
   "id": "17c1c7aeedffb0ea"
  },
  {
   "cell_type": "code",
   "execution_count": null,
   "outputs": [],
   "source": [
    "import time\n",
    "for zahl in range(10,-1,-1):\n",
    "    time.sleep(1)\n",
    "    if zahl == 0:\n",
    "        print('Happy new Year')\n",
    "    else:\n",
    "        print(zahl)"
   ],
   "metadata": {
    "collapsed": false
   },
   "id": "1e8b6e7a64aa7ded"
  },
  {
   "cell_type": "code",
   "execution_count": null,
   "outputs": [],
   "source": [],
   "metadata": {
    "collapsed": false
   },
   "id": "8c7d72f993536f6f"
  }
 ],
 "metadata": {
  "kernelspec": {
   "display_name": "Python 3",
   "language": "python",
   "name": "python3"
  },
  "language_info": {
   "codemirror_mode": {
    "name": "ipython",
    "version": 2
   },
   "file_extension": ".py",
   "mimetype": "text/x-python",
   "name": "python",
   "nbconvert_exporter": "python",
   "pygments_lexer": "ipython2",
   "version": "2.7.6"
  }
 },
 "nbformat": 4,
 "nbformat_minor": 5
}
